{
 "metadata": {
  "kernelspec": {
   "language": "python",
   "display_name": "Python 3",
   "name": "python3"
  },
  "language_info": {
   "name": "python",
   "version": "3.7.12",
   "mimetype": "text/x-python",
   "codemirror_mode": {
    "name": "ipython",
    "version": 3
   },
   "pygments_lexer": "ipython3",
   "nbconvert_exporter": "python",
   "file_extension": ".py"
  }
 },
 "nbformat_minor": 4,
 "nbformat": 4,
 "cells": [
  {
   "cell_type": "code",
   "source": [
    "!pip install ray[tune] tune-sklearn"
   ],
   "metadata": {
    "pycharm": {
     "name": "#%%\n"
    },
    "execution": {
     "iopub.status.busy": "2022-05-15T01:30:58.587572Z",
     "iopub.execute_input": "2022-05-15T01:30:58.588303Z",
     "iopub.status.idle": "2022-05-15T01:31:12.015400Z",
     "shell.execute_reply.started": "2022-05-15T01:30:58.588193Z",
     "shell.execute_reply": "2022-05-15T01:31:12.014469Z"
    },
    "collapsed": true,
    "jupyter": {
     "outputs_hidden": true
    },
    "trusted": true
   },
   "execution_count": 1,
   "outputs": []
  },
  {
   "cell_type": "code",
   "source": [
    "import torch\n",
    "from sklearn.svm import SVC\n",
    "from sklearn.pipeline import Pipeline\n",
    "from sklearn.model_selection import train_test_split\n",
    "import numpy as np\n",
    "from sklearn.preprocessing import StandardScaler\n",
    "\n",
    "data, y = torch.load('../input/titanic/data.pkl')\n",
    "train_data, test_data = data[:len(y)], data[len(y):]\n",
    "\n",
    "np.random.seed(42)\n",
    "X_train, X_test, y_train, y_test = train_test_split(train_data, y, train_size=.8, )"
   ],
   "metadata": {
    "pycharm": {
     "name": "#%%\n"
    },
    "execution": {
     "iopub.status.busy": "2022-05-15T01:31:15.020171Z",
     "iopub.execute_input": "2022-05-15T01:31:15.020500Z",
     "iopub.status.idle": "2022-05-15T01:31:15.035052Z",
     "shell.execute_reply.started": "2022-05-15T01:31:15.020442Z",
     "shell.execute_reply": "2022-05-15T01:31:15.033807Z"
    },
    "trusted": true
   },
   "execution_count": 3,
   "outputs": []
  },
  {
   "cell_type": "code",
   "source": [
    "from sklearn.model_selection import cross_validate, cross_val_score\n",
    "from sklearn.model_selection import StratifiedKFold\n",
    "from sklearn.tree import DecisionTreeClassifier\n",
    "from sklearn.ensemble import RandomForestClassifier\n",
    "\n",
    "std = StandardScaler()\n",
    "model = RandomForestClassifier()\n",
    "pipe = Pipeline(\n",
    "    [('std', std),\n",
    "     ('model', model)]\n",
    ")\n",
    "\n",
    "cross_val_score(pipe, X_train, y_train, cv=10, n_jobs=-1, verbose=1).mean()\n"
   ],
   "metadata": {
    "collapsed": false,
    "pycharm": {
     "name": "#%%\n"
    },
    "jupyter": {
     "outputs_hidden": false
    },
    "execution": {
     "iopub.status.busy": "2022-05-15T01:31:20.729352Z",
     "iopub.execute_input": "2022-05-15T01:31:20.729982Z",
     "iopub.status.idle": "2022-05-15T01:31:24.612300Z",
     "shell.execute_reply.started": "2022-05-15T01:31:20.729935Z",
     "shell.execute_reply": "2022-05-15T01:31:24.611415Z"
    },
    "trusted": true
   },
   "execution_count": 4,
   "outputs": []
  },
  {
   "cell_type": "code",
   "source": [
    "# 超参数搜索\n",
    "from ray import tune\n",
    "from ray.tune.sklearn import TuneSearchCV\n",
    "\n",
    "param = {\n",
    "    'model__n_estimators': tune.randint(1, 500),\n",
    "    # 集成器参数，越多模型越复杂\n",
    "    'model__max_depth': tune.randint(3, 100),\n",
    "    # 树的深度，特征多模型多时限制深度\n",
    "    'model__min_samples_split': tune.randint(2, len(train_data) + 1),\n",
    "    # 样本大增大这个值，不大默认就行\n",
    "    'model__min_samples_leaf': tune.randint(1, len(train_data) + 1),\n",
    "    # 叶节点最小样本数，少于次值将被剪枝；\n",
    "    # 如果样本量不大，不需要管这个值。如果样本量数量级非常大，则推荐增大这个值。\n",
    "    'model__max_features': tune.randint(2, train_data.shape[1]),\n",
    "    # 划分时考虑的特征数量\n",
    "    'model__max_leaf_nodes': tune.randint(1, train_data.shape[0])}\n",
    "# 特征不多考虑，特征多可以考虑\n",
    "\n",
    "tune_search = TuneSearchCV(\n",
    "    pipe,\n",
    "    param,\n",
    "    search_optimization=\"bayesian\",\n",
    "    n_trials=-1,\n",
    "    verbose=1,\n",
    "    return_train_score=True,\n",
    "    mode='max',\n",
    "    time_budget_s=1800,\n",
    "    error_score=np.nan,\n",
    "    use_gpu=True,\n",
    "    cv=10\n",
    ")\n",
    "tune_search.fit(train_data, y)\n",
    "print(tune_search.best_params_)"
   ],
   "metadata": {
    "collapsed": false,
    "pycharm": {
     "name": "#%%\n"
    },
    "jupyter": {
     "outputs_hidden": false
    },
    "execution": {
     "iopub.status.busy": "2022-05-15T01:32:27.300767Z",
     "iopub.execute_input": "2022-05-15T01:32:27.301338Z",
     "iopub.status.idle": "2022-05-15T01:33:33.249914Z",
     "shell.execute_reply.started": "2022-05-15T01:32:27.301295Z",
     "shell.execute_reply": "2022-05-15T01:33:33.248912Z"
    },
    "trusted": true
   },
   "execution_count": 6,
   "outputs": []
  },
  {
   "cell_type": "code",
   "source": [
    "best_model = tune_search.best_estimator\n",
    "best_model.score(train_data, y)"
   ],
   "metadata": {
    "pycharm": {
     "name": "#%%\n"
    },
    "execution": {
     "iopub.status.busy": "2022-05-15T01:33:48.423149Z",
     "iopub.execute_input": "2022-05-15T01:33:48.423446Z",
     "iopub.status.idle": "2022-05-15T01:33:48.463247Z",
     "shell.execute_reply.started": "2022-05-15T01:33:48.423412Z",
     "shell.execute_reply": "2022-05-15T01:33:48.462291Z"
    },
    "trusted": true
   },
   "execution_count": 7,
   "outputs": []
  },
  {
   "cell_type": "code",
   "source": [
    "import pandas as pd\n",
    "\n",
    "best_model = tune_search.best_estimator\n",
    "y_test = best_model.predict(test_data.values)\n",
    "result = pd.DataFrame(y_test, index=test_data.index, columns=['Survived'], )\n",
    "result.to_csv('rf.csv')\n",
    "torch.save(tune_search.best_params_, 'rf.pkl')"
   ],
   "metadata": {
    "pycharm": {
     "name": "#%%\n"
    },
    "execution": {
     "iopub.status.busy": "2022-05-15T01:33:50.863269Z",
     "iopub.execute_input": "2022-05-15T01:33:50.863603Z",
     "iopub.status.idle": "2022-05-15T01:33:50.902987Z",
     "shell.execute_reply.started": "2022-05-15T01:33:50.863570Z",
     "shell.execute_reply": "2022-05-15T01:33:50.900693Z"
    },
    "trusted": true
   },
   "execution_count": 8,
   "outputs": []
  }
 ]
}