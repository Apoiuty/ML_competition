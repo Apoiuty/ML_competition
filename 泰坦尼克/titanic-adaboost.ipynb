{
 "metadata": {
  "kernelspec": {
   "language": "python",
   "display_name": "Python 3",
   "name": "python3"
  },
  "language_info": {
   "pygments_lexer": "ipython3",
   "nbconvert_exporter": "python",
   "version": "3.6.4",
   "file_extension": ".py",
   "codemirror_mode": {
    "name": "ipython",
    "version": 3
   },
   "name": "python",
   "mimetype": "text/x-python"
  }
 },
 "nbformat_minor": 4,
 "nbformat": 4,
 "cells": [
  {
   "cell_type": "code",
   "source": [
    "!pip install ray[tune] tune-sklearn"
   ],
   "metadata": {
    "pycharm": {
     "name": "#%%\n"
    },
    "execution": {
     "iopub.status.busy": "2022-05-14T06:50:48.657248Z",
     "iopub.execute_input": "2022-05-14T06:50:48.657715Z",
     "iopub.status.idle": "2022-05-14T06:51:03.524569Z",
     "shell.execute_reply.started": "2022-05-14T06:50:48.657584Z",
     "shell.execute_reply": "2022-05-14T06:51:03.523464Z"
    },
    "collapsed": true,
    "jupyter": {
     "outputs_hidden": true
    },
    "trusted": true
   },
   "execution_count": null,
   "outputs": []
  },
  {
   "cell_type": "code",
   "source": [
    "import torch\n",
    "from sklearn.svm import SVC\n",
    "from sklearn.pipeline import Pipeline\n",
    "from sklearn.model_selection import train_test_split\n",
    "import numpy as np\n",
    "from sklearn.preprocessing import StandardScaler\n",
    "\n",
    "data, y = torch.load('../input/titanic/data.pkl')\n",
    "train_data, test_data = data[:len(y)], data[len(y):]\n",
    "\n",
    "np.random.seed(42)\n",
    "X_train, X_test, y_train, y_test = train_test_split(train_data, y, train_size=.8, )"
   ],
   "metadata": {
    "execution": {
     "iopub.status.busy": "2022-05-14T06:51:03.527516Z",
     "iopub.execute_input": "2022-05-14T06:51:03.527888Z",
     "iopub.status.idle": "2022-05-14T06:51:05.429334Z",
     "shell.execute_reply.started": "2022-05-14T06:51:03.527839Z",
     "shell.execute_reply": "2022-05-14T06:51:05.428353Z"
    },
    "collapsed": true,
    "jupyter": {
     "outputs_hidden": true
    },
    "trusted": true,
    "pycharm": {
     "name": "#%%\n"
    }
   },
   "execution_count": null,
   "outputs": []
  },
  {
   "cell_type": "code",
   "source": [
    "from sklearn.model_selection import cross_validate, cross_val_score\n",
    "from sklearn.model_selection import StratifiedKFold\n",
    "from sklearn.tree import DecisionTreeClassifier\n",
    "from sklearn.ensemble import RandomForestClassifier, AdaBoostClassifier, GradientBoostingClassifier\n",
    "\n",
    "std = StandardScaler()\n",
    "model = AdaBoostClassifier()\n",
    "pipe = Pipeline(\n",
    "    [('std', std),\n",
    "     ('model', model)]\n",
    ")\n",
    "\n",
    "cross_val_score(pipe, X_train, y_train, cv=10, n_jobs=-1, verbose=1).mean()\n"
   ],
   "metadata": {
    "collapsed": false,
    "pycharm": {
     "name": "#%%\n"
    },
    "jupyter": {
     "outputs_hidden": false
    },
    "execution": {
     "iopub.status.busy": "2022-05-14T06:52:12.573534Z",
     "iopub.execute_input": "2022-05-14T06:52:12.576998Z",
     "iopub.status.idle": "2022-05-14T06:52:12.843271Z",
     "shell.execute_reply.started": "2022-05-14T06:52:12.576948Z",
     "shell.execute_reply": "2022-05-14T06:52:12.842323Z"
    },
    "trusted": true
   },
   "execution_count": null,
   "outputs": []
  },
  {
   "cell_type": "code",
   "source": [
    "# 超参数搜索\n",
    "from ray import tune\n",
    "from ray.tune.sklearn import TuneSearchCV\n",
    "\n",
    "param = {\n",
    "    'model__n_estimators': tune.randint(1, 500),\n",
    "    'model__learning_rate': tune.loguniform(1e-2, 1),\n",
    "    # 集成器参数，越多模型越复杂\n",
    "    'model__max_depth': tune.randint(3, 100),\n",
    "    # 树的深度，特征多模型多时限制深度\n",
    "    'model__min_samples_split': tune.randint(2, len(train_data) + 1),\n",
    "    # 样本大增大这个值，不大默认就行\n",
    "    'model__min_samples_leaf': tune.randint(1, len(train_data) + 1),\n",
    "    # 叶节点最小样本数，少于次值将被剪枝；\n",
    "    # 如果样本量不大，不需要管这个值。如果样本量数量级非常大，则推荐增大这个值。\n",
    "    'model__max_features': tune.randint(2, train_data.shape[1] + 1),\n",
    "    # 划分时考虑的特征数量\n",
    "    'model__max_leaf_nodes': tune.randint(2, train_data.shape[0] + 1)}\n",
    "# 特征不多考虑，特征多可以考虑\n",
    "\n",
    "tune_search = TuneSearchCV(\n",
    "    pipe,\n",
    "    param,\n",
    "    search_optimization=\"bayesian\",\n",
    "    n_trials=-1,\n",
    "    verbose=1,\n",
    "    return_train_score=True,\n",
    "    mode='max',\n",
    "    time_budget_s=1800,\n",
    "    error_score=np.nan,\n",
    "    use_gpu=True,\n",
    "    cv=10\n",
    ")\n",
    "tune_search.fit(train_data, y)\n",
    "print(tune_search.best_params_, tune_search.best_score_)"
   ],
   "metadata": {
    "collapsed": false,
    "pycharm": {
     "name": "#%%\n"
    },
    "jupyter": {
     "outputs_hidden": false
    },
    "execution": {
     "iopub.status.busy": "2022-05-14T07:10:14.226736Z",
     "iopub.execute_input": "2022-05-14T07:10:14.227065Z",
     "iopub.status.idle": "2022-05-14T07:20:20.260286Z",
     "shell.execute_reply.started": "2022-05-14T07:10:14.227031Z",
     "shell.execute_reply": "2022-05-14T07:20:20.259267Z"
    },
    "trusted": true
   },
   "execution_count": null,
   "outputs": []
  },
  {
   "cell_type": "code",
   "source": [
    "best_model = tune_search.best_estimator\n",
    "best_model.score(train_data, y)"
   ],
   "metadata": {
    "execution": {
     "iopub.status.busy": "2022-05-14T07:20:32.941396Z",
     "iopub.execute_input": "2022-05-14T07:20:32.941691Z",
     "iopub.status.idle": "2022-05-14T07:20:32.993579Z",
     "shell.execute_reply.started": "2022-05-14T07:20:32.941645Z",
     "shell.execute_reply": "2022-05-14T07:20:32.992336Z"
    },
    "trusted": true,
    "pycharm": {
     "name": "#%%\n"
    }
   },
   "execution_count": null,
   "outputs": []
  },
  {
   "cell_type": "code",
   "source": [
    "import pandas as pd\n",
    "\n",
    "best_model = tune_search.best_estimator\n",
    "y_test = best_model.predict(test_data.values)\n",
    "result = pd.DataFrame(y_test, index=test_data.index, columns=['Survived'], )\n",
    "result.to_csv('rf.csv')\n",
    "torch.save(tune_search.best_params_, 'rf.pkl')"
   ],
   "metadata": {
    "execution": {
     "iopub.status.busy": "2022-05-14T07:20:45.759666Z",
     "iopub.execute_input": "2022-05-14T07:20:45.760243Z",
     "iopub.status.idle": "2022-05-14T07:20:45.794959Z",
     "shell.execute_reply.started": "2022-05-14T07:20:45.760202Z",
     "shell.execute_reply": "2022-05-14T07:20:45.793808Z"
    },
    "trusted": true,
    "pycharm": {
     "name": "#%%\n"
    }
   },
   "execution_count": null,
   "outputs": []
  }
 ]
}