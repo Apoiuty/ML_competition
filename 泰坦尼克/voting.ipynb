{
 "cells": [
  {
   "cell_type": "code",
   "execution_count": 39,
   "metadata": {
    "collapsed": true,
    "pycharm": {
     "name": "#%%\n"
    }
   },
   "outputs": [],
   "source": [
    "import torch\n",
    "from sklearn.svm import SVC\n",
    "from sklearn.pipeline import Pipeline\n",
    "from sklearn.model_selection import train_test_split\n",
    "import numpy as np\n",
    "from sklearn.preprocessing import StandardScaler\n",
    "\n",
    "data, y = torch.load('data/data_v2.pkl')\n",
    "train_data, test_data = data[:len(y)], data[len(y):]\n",
    "\n",
    "np.random.seed(42)\n",
    "X_train, X_test, y_train, y_test = train_test_split(train_data, y, train_size=.8, )"
   ]
  },
  {
   "cell_type": "code",
   "execution_count": 40,
   "outputs": [
    {
     "data": {
      "text/plain": "Pipeline(steps=[('std', StandardScaler()),\n                ('voting',\n                 VotingClassifier(estimators=[('lr', LogisticRegression()),\n                                              ('ada',\n                                               AdaBoostClassifier(base_estimator=SVC(C=0.28335389417624707,\n                                                                                     gamma=0.007507640146291138,\n                                                                                     probability=True),\n                                                                  learning_rate=0.03694467169486954,\n                                                                  n_estimators=65)),\n                                              ('svc',\n                                               SVC(C=1.0121047403763643,\n                                                   gamma=0.17953963922087096,\n                                                   probability=True)),\n                                              ('bagging_svm',\n                                               BaggingClassifier(base_estimator=SVC(C=36.06241178040971,\n                                                                                    gamma=0.004735786412937079,\n                                                                                    probability=True),\n                                                                 n_estimators=99))],\n                                  n_jobs=-1, verbose=1, voting='soft'))])"
     },
     "execution_count": 40,
     "metadata": {},
     "output_type": "execute_result"
    }
   ],
   "source": [
    "from sklearn.ensemble import VotingClassifier, AdaBoostClassifier, GradientBoostingClassifier, RandomForestClassifier\n",
    "from sklearn.tree import DecisionTreeClassifier\n",
    "from sklearn.linear_model import LogisticRegression, LogisticRegressionCV\n",
    "from sklearn.svm import SVC\n",
    "from sklearn.model_selection import cross_val_score\n",
    "from sklearn.preprocessing import StandardScaler\n",
    "from sklearn.neighbors import KNeighborsClassifier\n",
    "from sklearn.pipeline import Pipeline\n",
    "from sklearn.linear_model import ElasticNet\n",
    "from sklearn.ensemble import BaggingClassifier\n",
    "import numpy as np\n",
    "\n",
    "std = StandardScaler()\n",
    "bagging_svm = BaggingClassifier(base_estimator=SVC(probability=True))\n",
    "bagging_svm.set_params(\n",
    "    **{'n_estimators': 99, 'base_estimator__C': 36.06241178040971, 'base_estimator__gamma': 0.004735786412937079}\n",
    ")\n",
    "lr = LogisticRegression()\n",
    "adaboost = AdaBoostClassifier(base_estimator=SVC(probability=True))\n",
    "adaboost_tree = AdaBoostClassifier(base_estimator=DecisionTreeClassifier())\n",
    "adaboost_tree.set_params(**{'n_estimators': 349, 'learning_rate': 0.01, 'base_estimator__max_depth': 36,\n",
    "                            'base_estimator__min_samples_split': 189, 'base_estimator__min_samples_leaf': 1,\n",
    "                            'base_estimator__max_features': 25, 'base_estimator__max_leaf_nodes': 471}\n",
    "                         )\n",
    "adaboost.set_params(\n",
    "    **{'n_estimators': 65, 'learning_rate': 0.03694467169486954, 'base_estimator__C': 0.28335389417624707,\n",
    "       'base_estimator__gamma': 0.007507640146291138}\n",
    ")\n",
    "gdbt = GradientBoostingClassifier()\n",
    "gdbt.set_params(\n",
    "    **{'n_estimators': 300, 'learning_rate': 0.06504234821394586, 'max_depth': 3, 'min_samples_split': 2,\n",
    "       'min_samples_leaf': 1, 'max_features': 14, 'max_leaf_nodes': 891}\n",
    "\n",
    ")\n",
    "knn = KNeighborsClassifier()\n",
    "knn.set_params(**{'n_neighbors': 6, 'p': 2, 'weights': 'uniform'}\n",
    "               )\n",
    "rf = RandomForestClassifier()\n",
    "rf.set_params(\n",
    "    **{'n_estimators': 276, 'max_depth': 99, 'min_samples_split': 2, 'min_samples_leaf': 1, 'max_features': 21,\n",
    "       'max_leaf_nodes': 31}\n",
    ")\n",
    "\n",
    "svc = SVC(probability=True)\n",
    "svc.set_params(**{'C': 1.0121047403763643, 'gamma': 0.17953963922087096}\n",
    "               )\n",
    "tree = DecisionTreeClassifier()\n",
    "tree.set_params(\n",
    "    **{'max_depth': 3, 'min_samples_split': 103, 'min_samples_leaf': 1, 'max_features': 24}\n",
    "\n",
    ")\n",
    "\n",
    "voting_model = VotingClassifier([('lr', lr), ('ada', adaboost), ('gdbt', gdbt),\n",
    "                                 ('knn', knn), ('svc', svc), ('tree', tree),\n",
    "                                 ('bagging_svm', bagging_svm), ], voting='soft', n_jobs=-1,\n",
    "                                verbose=1)\n",
    "pipe = Pipeline([\n",
    "    ('std', std),\n",
    "    ('voting', voting_model)\n",
    "])\n",
    "\n",
    "pipe.fit(X_train, y_train)"
   ],
   "metadata": {
    "collapsed": false,
    "pycharm": {
     "name": "#%%\n"
    }
   }
  },
  {
   "cell_type": "code",
   "execution_count": 36,
   "outputs": [
    {
     "data": {
      "text/plain": "(0.8637640449438202, 0.8268156424581006)"
     },
     "execution_count": 36,
     "metadata": {},
     "output_type": "execute_result"
    }
   ],
   "source": [
    "pipe.score(X_train, y_train), pipe.score(X_test, y_test)"
   ],
   "metadata": {
    "collapsed": false,
    "pycharm": {
     "name": "#%%\n"
    }
   }
  },
  {
   "cell_type": "code",
   "execution_count": 41,
   "outputs": [
    {
     "data": {
      "text/plain": "(0.851123595505618, 0.8156424581005587)"
     },
     "execution_count": 41,
     "metadata": {},
     "output_type": "execute_result"
    }
   ],
   "source": [
    "pipe.score(X_train, y_train), pipe.score(X_test, y_test)"
   ],
   "metadata": {
    "collapsed": false,
    "pycharm": {
     "name": "#%%\n"
    }
   }
  },
  {
   "cell_type": "code",
   "execution_count": 37,
   "outputs": [
    {
     "data": {
      "text/plain": "0.8552188552188552"
     },
     "execution_count": 37,
     "metadata": {},
     "output_type": "execute_result"
    }
   ],
   "source": [
    "pipe.fit(train_data, y)\n",
    "pipe.score(train_data, y)"
   ],
   "metadata": {
    "collapsed": false,
    "pycharm": {
     "name": "#%%\n"
    }
   }
  },
  {
   "cell_type": "code",
   "execution_count": 43,
   "outputs": [
    {
     "name": "stderr",
     "output_type": "stream",
     "text": [
      "d:\\project\\python\\.venv\\lib\\site-packages\\sklearn\\base.py:441: UserWarning: X does not have valid feature names, but StandardScaler was fitted with feature names\n",
      "  warnings.warn(\n"
     ]
    }
   ],
   "source": [
    "import pandas as pd\n",
    "\n",
    "best_model = pipe\n",
    "y_test = best_model.predict(test_data.values)\n",
    "result = pd.DataFrame(y_test, index=test_data.index, columns=['Survived'], )\n",
    "result.to_csv('voting.csv')"
   ],
   "metadata": {
    "collapsed": false,
    "pycharm": {
     "name": "#%%\n"
    }
   }
  }
 ],
 "metadata": {
  "kernelspec": {
   "display_name": "Python 3",
   "language": "python",
   "name": "python3"
  },
  "language_info": {
   "codemirror_mode": {
    "name": "ipython",
    "version": 2
   },
   "file_extension": ".py",
   "mimetype": "text/x-python",
   "name": "python",
   "nbconvert_exporter": "python",
   "pygments_lexer": "ipython2",
   "version": "2.7.6"
  }
 },
 "nbformat": 4,
 "nbformat_minor": 0
}