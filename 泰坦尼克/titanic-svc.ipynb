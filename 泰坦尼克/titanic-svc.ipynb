{
 "metadata": {
  "kernelspec": {
   "language": "python",
   "display_name": "Python 3",
   "name": "python3"
  },
  "language_info": {
   "name": "python",
   "version": "3.7.12",
   "mimetype": "text/x-python",
   "codemirror_mode": {
    "name": "ipython",
    "version": 3
   },
   "pygments_lexer": "ipython3",
   "nbconvert_exporter": "python",
   "file_extension": ".py"
  }
 },
 "nbformat_minor": 4,
 "nbformat": 4,
 "cells": [
  {
   "cell_type": "code",
   "source": [
    "!pip install ray[tune] tune-sklearn"
   ],
   "metadata": {
    "pycharm": {
     "name": "#%%\n"
    },
    "execution": {
     "iopub.status.busy": "2022-05-12T12:47:28.456529Z",
     "iopub.execute_input": "2022-05-12T12:47:28.456830Z",
     "iopub.status.idle": "2022-05-12T12:47:39.304363Z",
     "shell.execute_reply.started": "2022-05-12T12:47:28.456799Z",
     "shell.execute_reply": "2022-05-12T12:47:39.303236Z"
    },
    "collapsed": true,
    "jupyter": {
     "outputs_hidden": true
    },
    "trusted": true
   },
   "execution_count": 6,
   "outputs": [
    {
     "name": "stdout",
     "text": "Requirement already satisfied: ray[tune] in /opt/conda/lib/python3.7/site-packages (1.12.0)\nCollecting tune-sklearn\n  Downloading tune_sklearn-0.4.3-py3-none-any.whl (40 kB)\n\u001B[2K     \u001B[90m━━━━━━━━━━━━━━━━━━━━━━━━━━━━━━━━━━━━━━━\u001B[0m \u001B[32m40.9/40.9 KB\u001B[0m \u001B[31m700.9 kB/s\u001B[0m eta \u001B[36m0:00:00\u001B[0ma \u001B[36m0:00:01\u001B[0m\n\u001B[?25hRequirement already satisfied: aiosignal in /opt/conda/lib/python3.7/site-packages (from ray[tune]) (1.2.0)\nRequirement already satisfied: msgpack<2.0.0,>=1.0.0 in /opt/conda/lib/python3.7/site-packages (from ray[tune]) (1.0.3)\nRequirement already satisfied: frozenlist in /opt/conda/lib/python3.7/site-packages (from ray[tune]) (1.3.0)\nRequirement already satisfied: jsonschema in /opt/conda/lib/python3.7/site-packages (from ray[tune]) (4.4.0)\nRequirement already satisfied: pyyaml in /opt/conda/lib/python3.7/site-packages (from ray[tune]) (6.0)\nRequirement already satisfied: requests in /opt/conda/lib/python3.7/site-packages (from ray[tune]) (2.27.1)\nRequirement already satisfied: virtualenv in /opt/conda/lib/python3.7/site-packages (from ray[tune]) (20.14.1)\nRequirement already satisfied: click>=7.0 in /opt/conda/lib/python3.7/site-packages (from ray[tune]) (8.0.4)\nRequirement already satisfied: grpcio<=1.43.0,>=1.28.1 in /opt/conda/lib/python3.7/site-packages (from ray[tune]) (1.43.0)\nRequirement already satisfied: protobuf>=3.15.3 in /opt/conda/lib/python3.7/site-packages (from ray[tune]) (3.19.4)\nRequirement already satisfied: filelock in /opt/conda/lib/python3.7/site-packages (from ray[tune]) (3.6.0)\nRequirement already satisfied: numpy>=1.16 in /opt/conda/lib/python3.7/site-packages (from ray[tune]) (1.21.6)\nRequirement already satisfied: attrs in /opt/conda/lib/python3.7/site-packages (from ray[tune]) (21.4.0)\nRequirement already satisfied: tabulate in /opt/conda/lib/python3.7/site-packages (from ray[tune]) (0.8.9)\nRequirement already satisfied: pandas in /opt/conda/lib/python3.7/site-packages (from ray[tune]) (1.3.5)\nRequirement already satisfied: tensorboardX>=1.9 in /opt/conda/lib/python3.7/site-packages (from ray[tune]) (2.5)\nRequirement already satisfied: scipy in /opt/conda/lib/python3.7/site-packages (from tune-sklearn) (1.7.3)\nRequirement already satisfied: scikit-learn in /opt/conda/lib/python3.7/site-packages (from tune-sklearn) (1.0.2)\nRequirement already satisfied: importlib-metadata in /opt/conda/lib/python3.7/site-packages (from click>=7.0->ray[tune]) (4.11.3)\nRequirement already satisfied: six>=1.5.2 in /opt/conda/lib/python3.7/site-packages (from grpcio<=1.43.0,>=1.28.1->ray[tune]) (1.16.0)\nRequirement already satisfied: pyrsistent!=0.17.0,!=0.17.1,!=0.17.2,>=0.14.0 in /opt/conda/lib/python3.7/site-packages (from jsonschema->ray[tune]) (0.18.1)\nRequirement already satisfied: typing-extensions in /opt/conda/lib/python3.7/site-packages (from jsonschema->ray[tune]) (4.2.0)\nRequirement already satisfied: importlib-resources>=1.4.0 in /opt/conda/lib/python3.7/site-packages (from jsonschema->ray[tune]) (5.4.0)\nRequirement already satisfied: python-dateutil>=2.7.3 in /opt/conda/lib/python3.7/site-packages (from pandas->ray[tune]) (2.8.2)\nRequirement already satisfied: pytz>=2017.3 in /opt/conda/lib/python3.7/site-packages (from pandas->ray[tune]) (2021.3)\nRequirement already satisfied: charset-normalizer~=2.0.0 in /opt/conda/lib/python3.7/site-packages (from requests->ray[tune]) (2.0.12)\nRequirement already satisfied: certifi>=2017.4.17 in /opt/conda/lib/python3.7/site-packages (from requests->ray[tune]) (2021.10.8)\nRequirement already satisfied: urllib3<1.27,>=1.21.1 in /opt/conda/lib/python3.7/site-packages (from requests->ray[tune]) (1.26.8)\nRequirement already satisfied: idna<4,>=2.5 in /opt/conda/lib/python3.7/site-packages (from requests->ray[tune]) (3.3)\nRequirement already satisfied: joblib>=0.11 in /opt/conda/lib/python3.7/site-packages (from scikit-learn->tune-sklearn) (1.0.1)\nRequirement already satisfied: threadpoolctl>=2.0.0 in /opt/conda/lib/python3.7/site-packages (from scikit-learn->tune-sklearn) (3.1.0)\nRequirement already satisfied: platformdirs<3,>=2 in /opt/conda/lib/python3.7/site-packages (from virtualenv->ray[tune]) (2.5.1)\nRequirement already satisfied: distlib<1,>=0.3.1 in /opt/conda/lib/python3.7/site-packages (from virtualenv->ray[tune]) (0.3.4)\nRequirement already satisfied: zipp>=0.5 in /opt/conda/lib/python3.7/site-packages (from importlib-metadata->click>=7.0->ray[tune]) (3.7.0)\nInstalling collected packages: tune-sklearn\nSuccessfully installed tune-sklearn-0.4.3\n\u001B[33mWARNING: Running pip as the 'root' user can result in broken permissions and conflicting behaviour with the system package manager. It is recommended to use a virtual environment instead: https://pip.pypa.io/warnings/venv\u001B[0m\u001B[33m\n\u001B[0m",
     "output_type": "stream"
    }
   ]
  },
  {
   "cell_type": "code",
   "source": [
    "import torch\n",
    "\n",
    "data, y = torch.load('data/data_v2.pkl')"
   ],
   "metadata": {
    "pycharm": {
     "name": "#%%\n"
    }
   },
   "execution_count": 9,
   "outputs": []
  },
  {
   "cell_type": "code",
   "source": [
    "train_data, test_data = data[:len(y)], data[len(y):]\n"
   ],
   "metadata": {
    "collapsed": false,
    "pycharm": {
     "name": "#%%\n"
    },
    "jupyter": {
     "outputs_hidden": false
    },
    "execution": {
     "iopub.status.busy": "2022-05-12T12:46:09.233868Z",
     "iopub.execute_input": "2022-05-12T12:46:09.234309Z",
     "iopub.status.idle": "2022-05-12T12:46:09.242231Z",
     "shell.execute_reply.started": "2022-05-12T12:46:09.234271Z",
     "shell.execute_reply": "2022-05-12T12:46:09.241438Z"
    },
    "trusted": true
   },
   "execution_count": 10,
   "outputs": []
  },
  {
   "cell_type": "code",
   "source": [
    "from sklearn.svm import SVC\n",
    "from sklearn.pipeline import Pipeline\n",
    "from sklearn.model_selection import train_test_split\n",
    "import numpy as np\n",
    "from sklearn.preprocessing import StandardScaler\n",
    "\n",
    "np.random.seed(42)\n",
    "X_train, X_test, y_train, y_test = train_test_split(train_data, y, train_size=.8, )"
   ],
   "metadata": {
    "collapsed": false,
    "pycharm": {
     "name": "#%%\n"
    },
    "jupyter": {
     "outputs_hidden": false
    },
    "execution": {
     "iopub.status.busy": "2022-05-12T12:46:11.853931Z",
     "iopub.execute_input": "2022-05-12T12:46:11.854212Z",
     "iopub.status.idle": "2022-05-12T12:46:12.697569Z",
     "shell.execute_reply.started": "2022-05-12T12:46:11.854161Z",
     "shell.execute_reply": "2022-05-12T12:46:12.696834Z"
    },
    "trusted": true
   },
   "execution_count": 11,
   "outputs": []
  },
  {
   "cell_type": "code",
   "execution_count": 13,
   "outputs": [
    {
     "data": {
      "text/plain": "             Pclass        Age  SibSp  Parch      Fare  Sex_female  \\\nPassengerId                                                          \n332               1  45.500000      0      0  3.349904           0   \n734               2  23.000000      0      0  2.564949           0   \n383               3  32.000000      0      0  2.070022           0   \n705               3  26.000000      1      0  2.061048           0   \n814               3   6.000000      4      2  3.442819           1   \n...             ...        ...    ...    ...       ...         ...   \n107               3  21.000000      0      0  2.034706           1   \n271               1  32.252151      0      0  3.433987           0   \n861               3  41.000000      2      0  2.646763           0   \n436               1  14.000000      1      2  4.787492           1   \n103               1  21.000000      0      1  4.347532           0   \n\n             Embarked_C  Embarked_Q  Embarked_S  Title_Capt.  ...  \\\nPassengerId                                                   ...   \n332                   0           0           1            0  ...   \n734                   0           0           1            0  ...   \n383                   0           0           1            0  ...   \n705                   0           0           1            0  ...   \n814                   0           0           1            0  ...   \n...                 ...         ...         ...          ...  ...   \n107                   0           0           1            0  ...   \n271                   0           0           1            0  ...   \n861                   0           0           1            0  ...   \n436                   0           0           1            0  ...   \n103                   0           0           1            0  ...   \n\n             Title_Major.  Title_Master.  Title_Miss.  Title_Mlle.  \\\nPassengerId                                                          \n332                     0              0            0            0   \n734                     0              0            0            0   \n383                     0              0            0            0   \n705                     0              0            0            0   \n814                     0              0            1            0   \n...                   ...            ...          ...          ...   \n107                     0              0            1            0   \n271                     0              0            0            0   \n861                     0              0            0            0   \n436                     0              0            1            0   \n103                     0              0            0            0   \n\n             Title_Mme.  Title_Mr.  Title_Mrs.  Title_Ms.  Title_Rev.  \\\nPassengerId                                                             \n332                   0          1           0          0           0   \n734                   0          1           0          0           0   \n383                   0          1           0          0           0   \n705                   0          1           0          0           0   \n814                   0          0           0          0           0   \n...                 ...        ...         ...        ...         ...   \n107                   0          0           0          0           0   \n271                   0          1           0          0           0   \n861                   0          1           0          0           0   \n436                   0          0           0          0           0   \n103                   0          1           0          0           0   \n\n             Title_Sir.  \nPassengerId              \n332                   0  \n734                   0  \n383                   0  \n705                   0  \n814                   0  \n...                 ...  \n107                   0  \n271                   0  \n861                   0  \n436                   0  \n103                   0  \n\n[712 rows x 25 columns]",
      "text/html": "<div>\n<style scoped>\n    .dataframe tbody tr th:only-of-type {\n        vertical-align: middle;\n    }\n\n    .dataframe tbody tr th {\n        vertical-align: top;\n    }\n\n    .dataframe thead th {\n        text-align: right;\n    }\n</style>\n<table border=\"1\" class=\"dataframe\">\n  <thead>\n    <tr style=\"text-align: right;\">\n      <th></th>\n      <th>Pclass</th>\n      <th>Age</th>\n      <th>SibSp</th>\n      <th>Parch</th>\n      <th>Fare</th>\n      <th>Sex_female</th>\n      <th>Embarked_C</th>\n      <th>Embarked_Q</th>\n      <th>Embarked_S</th>\n      <th>Title_Capt.</th>\n      <th>...</th>\n      <th>Title_Major.</th>\n      <th>Title_Master.</th>\n      <th>Title_Miss.</th>\n      <th>Title_Mlle.</th>\n      <th>Title_Mme.</th>\n      <th>Title_Mr.</th>\n      <th>Title_Mrs.</th>\n      <th>Title_Ms.</th>\n      <th>Title_Rev.</th>\n      <th>Title_Sir.</th>\n    </tr>\n    <tr>\n      <th>PassengerId</th>\n      <th></th>\n      <th></th>\n      <th></th>\n      <th></th>\n      <th></th>\n      <th></th>\n      <th></th>\n      <th></th>\n      <th></th>\n      <th></th>\n      <th></th>\n      <th></th>\n      <th></th>\n      <th></th>\n      <th></th>\n      <th></th>\n      <th></th>\n      <th></th>\n      <th></th>\n      <th></th>\n      <th></th>\n    </tr>\n  </thead>\n  <tbody>\n    <tr>\n      <th>332</th>\n      <td>1</td>\n      <td>45.500000</td>\n      <td>0</td>\n      <td>0</td>\n      <td>3.349904</td>\n      <td>0</td>\n      <td>0</td>\n      <td>0</td>\n      <td>1</td>\n      <td>0</td>\n      <td>...</td>\n      <td>0</td>\n      <td>0</td>\n      <td>0</td>\n      <td>0</td>\n      <td>0</td>\n      <td>1</td>\n      <td>0</td>\n      <td>0</td>\n      <td>0</td>\n      <td>0</td>\n    </tr>\n    <tr>\n      <th>734</th>\n      <td>2</td>\n      <td>23.000000</td>\n      <td>0</td>\n      <td>0</td>\n      <td>2.564949</td>\n      <td>0</td>\n      <td>0</td>\n      <td>0</td>\n      <td>1</td>\n      <td>0</td>\n      <td>...</td>\n      <td>0</td>\n      <td>0</td>\n      <td>0</td>\n      <td>0</td>\n      <td>0</td>\n      <td>1</td>\n      <td>0</td>\n      <td>0</td>\n      <td>0</td>\n      <td>0</td>\n    </tr>\n    <tr>\n      <th>383</th>\n      <td>3</td>\n      <td>32.000000</td>\n      <td>0</td>\n      <td>0</td>\n      <td>2.070022</td>\n      <td>0</td>\n      <td>0</td>\n      <td>0</td>\n      <td>1</td>\n      <td>0</td>\n      <td>...</td>\n      <td>0</td>\n      <td>0</td>\n      <td>0</td>\n      <td>0</td>\n      <td>0</td>\n      <td>1</td>\n      <td>0</td>\n      <td>0</td>\n      <td>0</td>\n      <td>0</td>\n    </tr>\n    <tr>\n      <th>705</th>\n      <td>3</td>\n      <td>26.000000</td>\n      <td>1</td>\n      <td>0</td>\n      <td>2.061048</td>\n      <td>0</td>\n      <td>0</td>\n      <td>0</td>\n      <td>1</td>\n      <td>0</td>\n      <td>...</td>\n      <td>0</td>\n      <td>0</td>\n      <td>0</td>\n      <td>0</td>\n      <td>0</td>\n      <td>1</td>\n      <td>0</td>\n      <td>0</td>\n      <td>0</td>\n      <td>0</td>\n    </tr>\n    <tr>\n      <th>814</th>\n      <td>3</td>\n      <td>6.000000</td>\n      <td>4</td>\n      <td>2</td>\n      <td>3.442819</td>\n      <td>1</td>\n      <td>0</td>\n      <td>0</td>\n      <td>1</td>\n      <td>0</td>\n      <td>...</td>\n      <td>0</td>\n      <td>0</td>\n      <td>1</td>\n      <td>0</td>\n      <td>0</td>\n      <td>0</td>\n      <td>0</td>\n      <td>0</td>\n      <td>0</td>\n      <td>0</td>\n    </tr>\n    <tr>\n      <th>...</th>\n      <td>...</td>\n      <td>...</td>\n      <td>...</td>\n      <td>...</td>\n      <td>...</td>\n      <td>...</td>\n      <td>...</td>\n      <td>...</td>\n      <td>...</td>\n      <td>...</td>\n      <td>...</td>\n      <td>...</td>\n      <td>...</td>\n      <td>...</td>\n      <td>...</td>\n      <td>...</td>\n      <td>...</td>\n      <td>...</td>\n      <td>...</td>\n      <td>...</td>\n      <td>...</td>\n    </tr>\n    <tr>\n      <th>107</th>\n      <td>3</td>\n      <td>21.000000</td>\n      <td>0</td>\n      <td>0</td>\n      <td>2.034706</td>\n      <td>1</td>\n      <td>0</td>\n      <td>0</td>\n      <td>1</td>\n      <td>0</td>\n      <td>...</td>\n      <td>0</td>\n      <td>0</td>\n      <td>1</td>\n      <td>0</td>\n      <td>0</td>\n      <td>0</td>\n      <td>0</td>\n      <td>0</td>\n      <td>0</td>\n      <td>0</td>\n    </tr>\n    <tr>\n      <th>271</th>\n      <td>1</td>\n      <td>32.252151</td>\n      <td>0</td>\n      <td>0</td>\n      <td>3.433987</td>\n      <td>0</td>\n      <td>0</td>\n      <td>0</td>\n      <td>1</td>\n      <td>0</td>\n      <td>...</td>\n      <td>0</td>\n      <td>0</td>\n      <td>0</td>\n      <td>0</td>\n      <td>0</td>\n      <td>1</td>\n      <td>0</td>\n      <td>0</td>\n      <td>0</td>\n      <td>0</td>\n    </tr>\n    <tr>\n      <th>861</th>\n      <td>3</td>\n      <td>41.000000</td>\n      <td>2</td>\n      <td>0</td>\n      <td>2.646763</td>\n      <td>0</td>\n      <td>0</td>\n      <td>0</td>\n      <td>1</td>\n      <td>0</td>\n      <td>...</td>\n      <td>0</td>\n      <td>0</td>\n      <td>0</td>\n      <td>0</td>\n      <td>0</td>\n      <td>1</td>\n      <td>0</td>\n      <td>0</td>\n      <td>0</td>\n      <td>0</td>\n    </tr>\n    <tr>\n      <th>436</th>\n      <td>1</td>\n      <td>14.000000</td>\n      <td>1</td>\n      <td>2</td>\n      <td>4.787492</td>\n      <td>1</td>\n      <td>0</td>\n      <td>0</td>\n      <td>1</td>\n      <td>0</td>\n      <td>...</td>\n      <td>0</td>\n      <td>0</td>\n      <td>1</td>\n      <td>0</td>\n      <td>0</td>\n      <td>0</td>\n      <td>0</td>\n      <td>0</td>\n      <td>0</td>\n      <td>0</td>\n    </tr>\n    <tr>\n      <th>103</th>\n      <td>1</td>\n      <td>21.000000</td>\n      <td>0</td>\n      <td>1</td>\n      <td>4.347532</td>\n      <td>0</td>\n      <td>0</td>\n      <td>0</td>\n      <td>1</td>\n      <td>0</td>\n      <td>...</td>\n      <td>0</td>\n      <td>0</td>\n      <td>0</td>\n      <td>0</td>\n      <td>0</td>\n      <td>1</td>\n      <td>0</td>\n      <td>0</td>\n      <td>0</td>\n      <td>0</td>\n    </tr>\n  </tbody>\n</table>\n<p>712 rows × 25 columns</p>\n</div>"
     },
     "execution_count": 13,
     "metadata": {},
     "output_type": "execute_result"
    }
   ],
   "source": [
    "X_train"
   ],
   "metadata": {
    "collapsed": false,
    "pycharm": {
     "name": "#%%\n"
    }
   }
  },
  {
   "cell_type": "code",
   "source": [
    "from sklearn.model_selection import cross_validate, cross_val_score\n",
    "from sklearn.model_selection import StratifiedKFold\n",
    "from sklearn.model_selection import GridSearchCV\n",
    "\n",
    "# {'svc__C': 0.34263484415417084, 'svc__gamma': 0.22319380707375788}\n",
    "std = StandardScaler()\n",
    "svc = SVC()\n",
    "pipe = Pipeline(\n",
    "    [('std', std),\n",
    "     ('svc', svc)]\n",
    ")\n",
    "param = {'svc__C': 1.47, 'svc__gamma': 0.15923601840597726}\n",
    "# pipe.set_params(**param)\n",
    "pipe.fit(X_train, y_train)\n",
    "print(pipe.score(X_train, y_train), pipe.score(X_test, y_test))\n",
    "cross_val_score(pipe,X_train,y_train,cv=10,n_jobs=-1,verbose=2).mean()\n"
   ],
   "metadata": {
    "collapsed": false,
    "pycharm": {
     "name": "#%%\n"
    },
    "jupyter": {
     "outputs_hidden": false
    },
    "execution": {
     "iopub.status.busy": "2022-05-12T13:01:32.719747Z",
     "iopub.execute_input": "2022-05-12T13:01:32.720013Z",
     "iopub.status.idle": "2022-05-12T13:01:34.141784Z",
     "shell.execute_reply.started": "2022-05-12T13:01:32.719982Z",
     "shell.execute_reply": "2022-05-12T13:01:34.141033Z"
    },
    "trusted": true
   },
   "execution_count": 16,
   "outputs": [
    {
     "name": "stdout",
     "output_type": "stream",
     "text": [
      "0.8441011235955056 0.8044692737430168\n"
     ]
    },
    {
     "name": "stderr",
     "output_type": "stream",
     "text": [
      "[Parallel(n_jobs=-1)]: Using backend LokyBackend with 16 concurrent workers.\n",
      "[Parallel(n_jobs=-1)]: Done   3 out of  10 | elapsed:    0.0s remaining:    0.0s\n",
      "[Parallel(n_jobs=-1)]: Done  10 out of  10 | elapsed:    0.0s finished\n"
     ]
    },
    {
     "data": {
      "text/plain": "0.8328834115805946"
     },
     "execution_count": 16,
     "metadata": {},
     "output_type": "execute_result"
    }
   ]
  },
  {
   "cell_type": "code",
   "execution_count": 43,
   "outputs": [
    {
     "name": "stdout",
     "output_type": "stream",
     "text": [
      "Fitting 10 folds for each of 500 candidates, totalling 5000 fits\n"
     ]
    },
    {
     "data": {
      "text/plain": "(0.8327715355805243, {'svc__C': 1.5, 'svc__gamma': 0.16})"
     },
     "execution_count": 43,
     "metadata": {},
     "output_type": "execute_result"
    }
   ],
   "source": [
    "param = {'svc__C': [1.5], 'svc__gamma': np.arange(0, 5, 0.01)}\n",
    "grid_search = GridSearchCV(pipe, param_grid=param, verbose=2, n_jobs=-1, cv=10)\n",
    "grid_search.fit(train_data, y)\n",
    "grid_search.best_score_, grid_search.best_params_"
   ],
   "metadata": {
    "collapsed": false,
    "pycharm": {
     "name": "#%%\n"
    }
   }
  },
  {
   "cell_type": "code",
   "execution_count": 11,
   "outputs": [
    {
     "data": {
      "text/plain": "(0.8441011235955056, 0.8268156424581006)"
     },
     "execution_count": 11,
     "metadata": {},
     "output_type": "execute_result"
    }
   ],
   "source": [
    "pipe.fit(X_train, y_train)\n",
    "pipe.score(X_train, y_train), pipe.score(X_test, y_test)"
   ],
   "metadata": {
    "collapsed": false,
    "pycharm": {
     "name": "#%%\n"
    }
   }
  },
  {
   "cell_type": "code",
   "execution_count": 12,
   "outputs": [
    {
     "data": {
      "text/plain": "0.8439955106621774"
     },
     "execution_count": 12,
     "metadata": {},
     "output_type": "execute_result"
    }
   ],
   "source": [
    "pipe.fit(train_data, y)\n",
    "pipe.score(train_data, y)"
   ],
   "metadata": {
    "collapsed": false,
    "pycharm": {
     "name": "#%%\n"
    }
   }
  },
  {
   "cell_type": "code",
   "source": [
    "# 超参数搜索\n",
    "from ray import tune\n",
    "from ray.tune.sklearn import TuneSearchCV\n",
    "\n",
    "param = {'svc__C': tune.loguniform(1e-2, 100),\n",
    "         'svc__gamma': tune.uniform(1e-6, 10)}\n",
    "\n",
    "tune_search = TuneSearchCV(\n",
    "    pipe,\n",
    "    param,\n",
    "    search_optimization=\"bayesian\",\n",
    "    n_trials=-1,\n",
    "    verbose=1,\n",
    "    return_train_score=True,\n",
    "    mode='max',\n",
    "    time_budget_s=600,\n",
    "    error_score=np.nan,\n",
    "    use_gpu=True,\n",
    "    cv=10\n",
    ")\n",
    "tune_search.fit(train_data, y)\n",
    "print(tune_search.best_params_)"
   ],
   "metadata": {
    "collapsed": false,
    "pycharm": {
     "name": "#%%\n"
    },
    "jupyter": {
     "outputs_hidden": false
    },
    "execution": {
     "iopub.status.busy": "2022-05-12T12:50:56.198691Z",
     "iopub.execute_input": "2022-05-12T12:50:56.198961Z",
     "iopub.status.idle": "2022-05-12T13:01:01.166693Z",
     "shell.execute_reply.started": "2022-05-12T12:50:56.198930Z",
     "shell.execute_reply": "2022-05-12T13:01:01.165929Z"
    },
    "trusted": true
   },
   "execution_count": 10,
   "outputs": [
    {
     "output_type": "display_data",
     "data": {
      "text/plain": "<IPython.core.display.HTML object>",
      "text/html": "== Status ==<br>Current time: 2022-05-12 13:00:58 (running for 00:10:02.57)<br>Memory usage on this node: 1.6/15.6 GiB<br>Using FIFO scheduling algorithm.<br>Resources requested: 0/2 CPUs, 0/1 GPUs, 0.0/7.22 GiB heap, 0.0/3.61 GiB objects (0.0/1.0 accelerator_type:P100)<br>Current best trial: 51b5fad6 with average_test_score=0.8230046948356808 and parameters={'svc__C': 0.34263484415417084, 'svc__gamma': 0.22319380707375788}<br>Result logdir: /root/ray_results/_Trainable_2022-05-12_12-50-56<br>Number of trials: 227/infinite (227 TERMINATED)<br><br>"
     },
     "metadata": {}
    },
    {
     "name": "stderr",
     "text": "2022-05-12 13:00:59,022\tINFO tune.py:702 -- Total run time: 602.81 seconds (602.30 seconds for the tuning loop).\n",
     "output_type": "stream"
    },
    {
     "name": "stdout",
     "text": "{'svc__C': 0.34263484415417084, 'svc__gamma': 0.22319380707375788}\n",
     "output_type": "stream"
    }
   ]
  },
  {
   "cell_type": "code",
   "source": [
    "import pandas as pd\n",
    "\n",
    "# best_model = tune_search.best_estimator\n",
    "best_model = grid_search.best_estimator_\n",
    "y_test = best_model.predict(test_data.values)\n",
    "result = pd.DataFrame(y_test, index=test_data.index, columns=['Survived'], )\n",
    "result.to_csv('svc.csv')\n",
    "# torch.save(tune_search.best_params_, 'svc.pkl')"
   ],
   "metadata": {
    "execution": {
     "iopub.status.busy": "2022-05-12T13:03:43.540134Z",
     "iopub.execute_input": "2022-05-12T13:03:43.540828Z",
     "iopub.status.idle": "2022-05-12T13:03:43.566429Z",
     "shell.execute_reply.started": "2022-05-12T13:03:43.540790Z",
     "shell.execute_reply": "2022-05-12T13:03:43.565599Z"
    },
    "trusted": true,
    "pycharm": {
     "name": "#%%\n"
    }
   },
   "execution_count": 45,
   "outputs": [
    {
     "name": "stderr",
     "output_type": "stream",
     "text": [
      "d:\\project\\python\\.venv\\lib\\site-packages\\sklearn\\base.py:441: UserWarning: X does not have valid feature names, but StandardScaler was fitted with feature names\n",
      "  warnings.warn(\n"
     ]
    }
   ]
  }
 ]
}