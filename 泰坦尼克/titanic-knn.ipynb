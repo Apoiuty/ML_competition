{
 "metadata": {
  "kernelspec": {
   "language": "python",
   "display_name": "Python 3",
   "name": "python3"
  },
  "language_info": {
   "pygments_lexer": "ipython3",
   "nbconvert_exporter": "python",
   "version": "3.6.4",
   "file_extension": ".py",
   "codemirror_mode": {
    "name": "ipython",
    "version": 3
   },
   "name": "python",
   "mimetype": "text/x-python"
  }
 },
 "nbformat_minor": 4,
 "nbformat": 4,
 "cells": [
  {
   "cell_type": "code",
   "source": [
    "!pip install ray[tune] tune-sklearn"
   ],
   "metadata": {
    "pycharm": {
     "name": "#%%\n"
    },
    "execution": {
     "iopub.status.busy": "2022-05-14T06:50:48.657248Z",
     "iopub.execute_input": "2022-05-14T06:50:48.657715Z",
     "iopub.status.idle": "2022-05-14T06:51:03.524569Z",
     "shell.execute_reply.started": "2022-05-14T06:50:48.657584Z",
     "shell.execute_reply": "2022-05-14T06:51:03.523464Z"
    },
    "collapsed": true,
    "jupyter": {
     "outputs_hidden": true
    },
    "trusted": true
   },
   "execution_count": 1,
   "outputs": [
    {
     "name": "stdout",
     "output_type": "stream",
     "text": [
      "Looking in indexes: http://pypi.douban.com/simple\n",
      "Requirement already satisfied: ray[tune] in d:\\project\\python\\.venv\\lib\\site-packages (1.7.1)\n",
      "Collecting tune-sklearn\n",
      "  Downloading http://pypi.doubanio.com/packages/e3/bb/fac9f2e3613b2c13135c87e9cde75e0323b8298171cb464c0f20b450f649/tune_sklearn-0.4.3-py3-none-any.whl (40 kB)\n",
      "Requirement already satisfied: click>=7.0 in d:\\project\\python\\.venv\\lib\\site-packages (from ray[tune]) (8.0.1)\n",
      "Requirement already satisfied: pyyaml in d:\\project\\python\\.venv\\lib\\site-packages (from ray[tune]) (5.4.1)\n",
      "Requirement already satisfied: numpy>=1.16 in d:\\project\\python\\.venv\\lib\\site-packages (from ray[tune]) (1.22.3)\n",
      "Requirement already satisfied: protobuf>=3.15.3 in d:\\project\\python\\.venv\\lib\\site-packages (from ray[tune]) (3.18.1)\n",
      "Requirement already satisfied: filelock in d:\\project\\python\\.venv\\lib\\site-packages (from ray[tune]) (3.0.12)\n",
      "Requirement already satisfied: msgpack<2.0.0,>=1.0.0 in d:\\project\\python\\.venv\\lib\\site-packages (from ray[tune]) (1.0.2)\n",
      "Requirement already satisfied: grpcio>=1.28.1 in d:\\project\\python\\.venv\\lib\\site-packages (from ray[tune]) (1.41.0)\n",
      "Requirement already satisfied: attrs in d:\\project\\python\\.venv\\lib\\site-packages (from ray[tune]) (21.2.0)\n",
      "Requirement already satisfied: redis>=3.5.0 in d:\\project\\python\\.venv\\lib\\site-packages (from ray[tune]) (3.5.3)\n"
     ]
    },
    {
     "name": "stderr",
     "output_type": "stream",
     "text": [
      "WARNING: You are using pip version 21.3.1; however, version 22.1 is available.\n",
      "You should consider upgrading via the 'd:\\project\\python\\.venv\\scripts\\python.exe -m pip install --upgrade pip' command.\n"
     ]
    },
    {
     "name": "stdout",
     "output_type": "stream",
     "text": [
      "Requirement already satisfied: tensorboardX>=1.9 in d:\\project\\python\\.venv\\lib\\site-packages (from ray[tune]) (2.4)\n",
      "Requirement already satisfied: tabulate in d:\\project\\python\\.venv\\lib\\site-packages (from ray[tune]) (0.8.9)\n",
      "Requirement already satisfied: pandas in d:\\project\\python\\.venv\\lib\\site-packages (from ray[tune]) (1.3.3)\n",
      "Requirement already satisfied: requests in d:\\project\\python\\.venv\\lib\\site-packages (from ray[tune]) (2.25.1)\n",
      "Requirement already satisfied: scipy in d:\\project\\python\\.venv\\lib\\site-packages (from tune-sklearn) (1.7.1)\n",
      "Requirement already satisfied: scikit-learn in d:\\project\\python\\.venv\\lib\\site-packages (from tune-sklearn) (1.0)\n",
      "Requirement already satisfied: colorama in d:\\project\\python\\.venv\\lib\\site-packages (from click>=7.0->ray[tune]) (0.4.4)\n",
      "Requirement already satisfied: six>=1.5.2 in d:\\project\\python\\.venv\\lib\\site-packages (from grpcio>=1.28.1->ray[tune]) (1.15.0)\n",
      "Requirement already satisfied: pytz>=2017.3 in d:\\project\\python\\.venv\\lib\\site-packages (from pandas->ray[tune]) (2021.1)\n",
      "Requirement already satisfied: python-dateutil>=2.7.3 in d:\\project\\python\\.venv\\lib\\site-packages (from pandas->ray[tune]) (2.8.2)\n",
      "Requirement already satisfied: idna<3,>=2.5 in d:\\project\\python\\.venv\\lib\\site-packages (from requests->ray[tune]) (2.10)\n",
      "Requirement already satisfied: certifi>=2017.4.17 in d:\\project\\python\\.venv\\lib\\site-packages (from requests->ray[tune]) (2021.5.30)\n",
      "Requirement already satisfied: urllib3<1.27,>=1.21.1 in d:\\project\\python\\.venv\\lib\\site-packages (from requests->ray[tune]) (1.26.5)\n",
      "Requirement already satisfied: chardet<5,>=3.0.2 in d:\\project\\python\\.venv\\lib\\site-packages (from requests->ray[tune]) (4.0.0)\n",
      "Requirement already satisfied: threadpoolctl>=2.0.0 in d:\\project\\python\\.venv\\lib\\site-packages (from scikit-learn->tune-sklearn) (3.0.0)\n",
      "Requirement already satisfied: joblib>=0.11 in d:\\project\\python\\.venv\\lib\\site-packages (from scikit-learn->tune-sklearn) (1.1.0)\n",
      "Installing collected packages: tune-sklearn\n",
      "Successfully installed tune-sklearn-0.4.3\n"
     ]
    }
   ]
  },
  {
   "cell_type": "code",
   "source": [
    "import torch\n",
    "from sklearn.svm import SVC\n",
    "from sklearn.pipeline import Pipeline\n",
    "from sklearn.model_selection import train_test_split\n",
    "import numpy as np\n",
    "from sklearn.preprocessing import StandardScaler\n",
    "\n",
    "data, y = torch.load('data/data_v2.pkl')\n",
    "train_data, test_data = data[:len(y)], data[len(y):]\n",
    "\n",
    "np.random.seed(42)\n",
    "X_train, X_test, y_train, y_test = train_test_split(train_data, y, train_size=.8, )"
   ],
   "metadata": {
    "execution": {
     "iopub.status.busy": "2022-05-14T06:51:03.527516Z",
     "iopub.execute_input": "2022-05-14T06:51:03.527888Z",
     "iopub.status.idle": "2022-05-14T06:51:05.429334Z",
     "shell.execute_reply.started": "2022-05-14T06:51:03.527839Z",
     "shell.execute_reply": "2022-05-14T06:51:05.428353Z"
    },
    "collapsed": true,
    "jupyter": {
     "outputs_hidden": true
    },
    "trusted": true,
    "pycharm": {
     "name": "#%%\n"
    }
   },
   "execution_count": 2,
   "outputs": []
  },
  {
   "cell_type": "code",
   "source": [
    "from sklearn.model_selection import cross_validate, cross_val_score\n",
    "from sklearn.model_selection import StratifiedKFold\n",
    "from sklearn.tree import DecisionTreeClassifier\n",
    "from sklearn.ensemble import RandomForestClassifier, AdaBoostClassifier, GradientBoostingClassifier\n",
    "from sklearn.neighbors import KNeighborsClassifier\n",
    "\n",
    "std = StandardScaler()\n",
    "model = KNeighborsClassifier()\n",
    "pipe = Pipeline(\n",
    "    [('std', std),\n",
    "     ('model', model)]\n",
    ")\n",
    "\n",
    "cross_val_score(pipe, X_train, y_train, cv=10, n_jobs=-1, verbose=1).mean()\n"
   ],
   "metadata": {
    "collapsed": false,
    "pycharm": {
     "name": "#%%\n"
    },
    "jupyter": {
     "outputs_hidden": false
    },
    "execution": {
     "iopub.status.busy": "2022-05-14T06:52:12.573534Z",
     "iopub.execute_input": "2022-05-14T06:52:12.576998Z",
     "iopub.status.idle": "2022-05-14T06:52:12.843271Z",
     "shell.execute_reply.started": "2022-05-14T06:52:12.576948Z",
     "shell.execute_reply": "2022-05-14T06:52:12.842323Z"
    },
    "trusted": true
   },
   "execution_count": 3,
   "outputs": [
    {
     "name": "stderr",
     "output_type": "stream",
     "text": [
      "[Parallel(n_jobs=-1)]: Using backend LokyBackend with 16 concurrent workers.\n",
      "[Parallel(n_jobs=-1)]: Done  10 out of  10 | elapsed:    3.0s finished\n"
     ]
    },
    {
     "data": {
      "text/plain": "0.7921165884194052"
     },
     "execution_count": 3,
     "metadata": {},
     "output_type": "execute_result"
    }
   ]
  },
  {
   "cell_type": "code",
   "source": [
    "# 超参数搜索\n",
    "from sklearn.model_selection import GridSearchCV\n",
    "\n",
    "params = {\n",
    "    'model__n_neighbors': np.arange(1, 20),\n",
    "    'model__weights': ['uniform', 'distance'],\n",
    "    'model__p': [1, 2]\n",
    "}\n",
    "grid_search = GridSearchCV(pipe, params, cv=2, n_jobs=-1)\n",
    "grid_search.fit(train_data, y)\n",
    "print(grid_search.best_score_, grid_search.best_params_)\n",
    "\n"
   ],
   "metadata": {
    "collapsed": false,
    "pycharm": {
     "name": "#%%\n"
    },
    "jupyter": {
     "outputs_hidden": false
    },
    "execution": {
     "iopub.status.busy": "2022-05-14T07:10:14.226736Z",
     "iopub.execute_input": "2022-05-14T07:10:14.227065Z",
     "iopub.status.idle": "2022-05-14T07:20:20.260286Z",
     "shell.execute_reply.started": "2022-05-14T07:10:14.227031Z",
     "shell.execute_reply": "2022-05-14T07:20:20.259267Z"
    },
    "trusted": true
   },
   "execution_count": 7,
   "outputs": [
    {
     "name": "stdout",
     "output_type": "stream",
     "text": [
      "0.8226633748173527 {'model__n_neighbors': 6, 'model__p': 2, 'model__weights': 'uniform'}\n"
     ]
    }
   ]
  },
  {
   "cell_type": "code",
   "execution_count": 8,
   "outputs": [
    {
     "data": {
      "text/plain": "0.8496071829405163"
     },
     "execution_count": 8,
     "metadata": {},
     "output_type": "execute_result"
    }
   ],
   "source": [
    "grid_search.best_estimator_.score(train_data, y)"
   ],
   "metadata": {
    "collapsed": false,
    "pycharm": {
     "name": "#%%\n"
    }
   }
  },
  {
   "cell_type": "code",
   "execution_count": 9,
   "outputs": [
    {
     "name": "stderr",
     "output_type": "stream",
     "text": [
      "d:\\project\\python\\.venv\\lib\\site-packages\\sklearn\\base.py:441: UserWarning: X does not have valid feature names, but StandardScaler was fitted with feature names\n",
      "  warnings.warn(\n"
     ]
    }
   ],
   "source": [
    "import pandas as pd\n",
    "\n",
    "best_model = grid_search.best_estimator_\n",
    "best_model.fit(train_data, y)\n",
    "y_test = best_model.predict(test_data.values)\n",
    "result = pd.DataFrame(y_test, index=test_data.index, columns=['Survived'], )\n",
    "result.to_csv('knn.csv')"
   ],
   "metadata": {
    "collapsed": false,
    "pycharm": {
     "name": "#%%\n"
    }
   }
  }
 ]
}