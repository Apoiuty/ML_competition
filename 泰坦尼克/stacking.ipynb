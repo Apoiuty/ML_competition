{
 "cells": [
  {
   "cell_type": "code",
   "execution_count": 10,
   "metadata": {
    "collapsed": true,
    "pycharm": {
     "name": "#%%\n"
    }
   },
   "outputs": [],
   "source": [
    "import torch\n",
    "from sklearn.svm import SVC\n",
    "from sklearn.pipeline import Pipeline\n",
    "from sklearn.model_selection import train_test_split\n",
    "import numpy as np\n",
    "from sklearn.preprocessing import StandardScaler\n",
    "\n",
    "data, y = torch.load('data/data.pkl')\n",
    "train_data, test_data = data[:len(y)], data[len(y):]\n",
    "\n",
    "np.random.seed(42)\n",
    "X_train, X_test, y_train, y_test = train_test_split(train_data, y, train_size=.8, )"
   ]
  },
  {
   "cell_type": "code",
   "execution_count": 11,
   "outputs": [
    {
     "data": {
      "text/plain": "Pipeline(steps=[('std', StandardScaler()),\n                ('voting',\n                 StackingClassifier(cv=10,\n                                    estimators=[('lr', LogisticRegression()),\n                                                ('ada',\n                                                 AdaBoostClassifier(base_estimator=DecisionTreeClassifier())),\n                                                ('gdbt',\n                                                 GradientBoostingClassifier()),\n                                                ('knn', KNeighborsClassifier()),\n                                                ('rf',\n                                                 RandomForestClassifier()),\n                                                ('svc', SVC(probability=True)),\n                                                ('tree',\n                                                 DecisionTreeClassifier())],\n                                    n_jobs=-1, verbose=2))])"
     },
     "execution_count": 11,
     "metadata": {},
     "output_type": "execute_result"
    }
   ],
   "source": [
    "from sklearn.ensemble import VotingClassifier, AdaBoostClassifier, GradientBoostingClassifier, RandomForestClassifier, StackingClassifier\n",
    "from sklearn.tree import DecisionTreeClassifier\n",
    "from sklearn.linear_model import LogisticRegression\n",
    "from sklearn.svm import SVC\n",
    "from sklearn.model_selection import cross_val_score\n",
    "from sklearn.preprocessing import StandardScaler\n",
    "from sklearn.neighbors import KNeighborsClassifier\n",
    "from sklearn.pipeline import Pipeline\n",
    "import numpy as np\n",
    "\n",
    "std = StandardScaler()\n",
    "lr = LogisticRegression()\n",
    "adaboost = AdaBoostClassifier(base_estimator=DecisionTreeClassifier())\n",
    "# adaboost.set_params(**{'n_estimators': 398, 'learning_rate': 0.01, 'base_estimator__max_depth': 33,\n",
    "#                        'base_estimator__min_samples_split': 164, 'base_estimator__min_samples_leaf': 20,\n",
    "#                        'base_estimator__max_features': 9, 'base_estimator__max_leaf_nodes': 509}\n",
    "#                     )\n",
    "gdbt = GradientBoostingClassifier()\n",
    "# gdbt.set_params(\n",
    "#     **{'n_estimators': 399, 'learning_rate': 0.01, 'max_depth': 99, 'min_samples_split': 189, 'min_samples_leaf': 1,\n",
    "#        'max_features': 9, 'max_leaf_nodes': 813}\n",
    "# )\n",
    "knn = KNeighborsClassifier()\n",
    "# knn.set_params(**{'n_neighbors': 5, 'p': 2, 'weights': 'uniform'}\n",
    "#                )\n",
    "rf = RandomForestClassifier()\n",
    "# rf.set_params(\n",
    "#     **{'n_estimators': 201, 'max_depth': 99, 'min_samples_split': 2, 'min_samples_leaf': 1,\n",
    "#        'max_features': 6, 'max_leaf_nodes': 57}\n",
    "# )\n",
    "svc = SVC(probability=True)\n",
    "# svc.set_params(**{'C': 1.5, 'gamma': 0.16}\n",
    "#                )\n",
    "tree = DecisionTreeClassifier()\n",
    "# tree.set_params(\n",
    "#     **{'max_depth': 3, 'min_samples_split': 2, 'min_samples_leaf': 1, 'max_features': 8}\n",
    "# )\n",
    "\n",
    "voting_model = StackingClassifier([('lr', lr), ('ada', adaboost), ('gdbt', gdbt),\n",
    "                                   ('knn', knn), ('rf', rf), ('svc', svc), ('tree', tree)], n_jobs=-1,\n",
    "                                  verbose=2,cv=10)\n",
    "pipe = Pipeline([\n",
    "    ('std', std),\n",
    "    ('voting', voting_model)\n",
    "])\n",
    "\n",
    "pipe.fit(X_train, y_train)"
   ],
   "metadata": {
    "collapsed": false,
    "pycharm": {
     "name": "#%%\n"
    }
   }
  },
  {
   "cell_type": "code",
   "execution_count": 12,
   "outputs": [
    {
     "data": {
      "text/plain": "(0.8806179775280899, 0.8268156424581006)"
     },
     "execution_count": 12,
     "metadata": {},
     "output_type": "execute_result"
    }
   ],
   "source": [
    "pipe.score(X_train, y_train), pipe.score(X_test, y_test)"
   ],
   "metadata": {
    "collapsed": false,
    "pycharm": {
     "name": "#%%\n"
    }
   }
  },
  {
   "cell_type": "code",
   "execution_count": 13,
   "outputs": [
    {
     "data": {
      "text/plain": "0.9079685746352413"
     },
     "execution_count": 13,
     "metadata": {},
     "output_type": "execute_result"
    }
   ],
   "source": [
    "pipe.fit(train_data, y)\n",
    "pipe.score(train_data, y)"
   ],
   "metadata": {
    "collapsed": false,
    "pycharm": {
     "name": "#%%\n"
    }
   }
  },
  {
   "cell_type": "code",
   "execution_count": 14,
   "outputs": [
    {
     "name": "stderr",
     "output_type": "stream",
     "text": [
      "d:\\project\\python\\.venv\\lib\\site-packages\\sklearn\\base.py:441: UserWarning: X does not have valid feature names, but StandardScaler was fitted with feature names\n",
      "  warnings.warn(\n"
     ]
    }
   ],
   "source": [
    "import pandas as pd\n",
    "\n",
    "best_model = pipe\n",
    "y_test = best_model.predict(test_data.values)\n",
    "result = pd.DataFrame(y_test, index=test_data.index, columns=['Survived'], )\n",
    "result.to_csv('stacking.csv')"
   ],
   "metadata": {
    "collapsed": false,
    "pycharm": {
     "name": "#%%\n"
    }
   }
  }
 ],
 "metadata": {
  "kernelspec": {
   "display_name": "Python 3",
   "language": "python",
   "name": "python3"
  },
  "language_info": {
   "codemirror_mode": {
    "name": "ipython",
    "version": 2
   },
   "file_extension": ".py",
   "mimetype": "text/x-python",
   "name": "python",
   "nbconvert_exporter": "python",
   "pygments_lexer": "ipython2",
   "version": "2.7.6"
  }
 },
 "nbformat": 4,
 "nbformat_minor": 0
}