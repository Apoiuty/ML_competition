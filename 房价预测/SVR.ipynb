{
 "cells": [
  {
   "cell_type": "code",
   "execution_count": 1,
   "metadata": {
    "collapsed": true,
    "pycharm": {
     "name": "#%%\n"
    }
   },
   "outputs": [],
   "source": [
    "import numpy as np\n",
    "import torch\n",
    "from sklearn.preprocessing import StandardScaler\n",
    "from sklearn.svm import SVR\n",
    "from sklearn.model_selection import train_test_split\n",
    "\n",
    "np.random.seed(42)\n",
    "X, y = torch.load('data/house_price.pkl')\n",
    "train_data, test_data = X.iloc[:len(y)], X.iloc[len(y):]"
   ]
  },
  {
   "cell_type": "code",
   "execution_count": 12,
   "outputs": [
    {
     "data": {
      "text/plain": "-0.1599420981021455"
     },
     "execution_count": 12,
     "metadata": {},
     "output_type": "execute_result"
    }
   ],
   "source": [
    "from sklearn.pipeline import Pipeline\n",
    "from sklearn.model_selection import cross_val_score\n",
    "from sklearn.metrics import mean_squared_log_error, make_scorer\n",
    "\n",
    "# baseline\n",
    "scaler = StandardScaler()\n",
    "svr = SVR()\n",
    "pipeline = Pipeline([\n",
    "    ('std', scaler),\n",
    "    ('svr', svr)\n",
    "])\n",
    "cross_val_score(svr, train_data, y, scoring=make_scorer(mean_squared_log_error, greater_is_better=False), cv=5).mean()\n"
   ],
   "metadata": {
    "collapsed": false,
    "pycharm": {
     "name": "#%%\n"
    }
   }
  },
  {
   "cell_type": "code",
   "execution_count": null,
   "outputs": [],
   "source": [
    "from ray.tune.sklearn import TuneSearchCV\n",
    "from ray import tune\n",
    "from sklearn.metrics import mean_absolute_percentage_error\n",
    "\n",
    "params = {\n",
    "    'svr__C': tune.loguniform(1e-1, 10),\n",
    "    'svr__gamma': tune.loguniform(1e-2, 1)\n",
    "    'svr__epsilon': tune.loguniform(1e-2, 1)\n",
    "}\n",
    "search = TuneSearchCV(\n",
    "    pipeline,\n",
    "    params,\n",
    "    search_optimization=\"bayesian\",\n",
    "    n_trial=-1,\n",
    "    max_iters=10,\n",
    "    early_stopping=True,\n",
    "    verbose=1,\n",
    "    scoring=make_scorer(mean_absolute_percentage_error, greater_is_better=False),\n",
    "    return_train_score=True,\n",
    "    mode='max',\n",
    "    time_budget_s=600,\n",
    "    error_score=np.nan,\n",
    "    use_gpu=True\n",
    ")\n",
    "search.fit(train_data, y)\n",
    "print(search.best_params_)\n",
    "print(search.best_score_)"
   ],
   "metadata": {
    "collapsed": false,
    "pycharm": {
     "name": "#%%\n"
    }
   }
  }
 ],
 "metadata": {
  "kernelspec": {
   "display_name": "Python 3",
   "language": "python",
   "name": "python3"
  },
  "language_info": {
   "codemirror_mode": {
    "name": "ipython",
    "version": 2
   },
   "file_extension": ".py",
   "mimetype": "text/x-python",
   "name": "python",
   "nbconvert_exporter": "python",
   "pygments_lexer": "ipython2",
   "version": "2.7.6"
  }
 },
 "nbformat": 4,
 "nbformat_minor": 0
}