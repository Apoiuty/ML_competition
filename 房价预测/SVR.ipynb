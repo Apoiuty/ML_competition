{
 "cells": [
  {
   "cell_type": "code",
   "execution_count": 7,
   "metadata": {
    "collapsed": true,
    "pycharm": {
     "name": "#%%\n"
    }
   },
   "outputs": [],
   "source": [
    "import numpy as np\n",
    "import torch\n",
    "from sklearn.preprocessing import StandardScaler\n",
    "from sklearn.svm import SVR\n",
    "from sklearn.model_selection import train_test_split\n",
    "\n",
    "np.random.seed(42)\n",
    "X, y = torch.load('data/house_price_v2.pkl')\n",
    "train_data, test_data = X.iloc[:len(y)], X.iloc[len(y):]"
   ]
  },
  {
   "cell_type": "code",
   "execution_count": 55,
   "outputs": [
    {
     "data": {
      "text/plain": "-0.06562895798929026"
     },
     "execution_count": 55,
     "metadata": {},
     "output_type": "execute_result"
    }
   ],
   "source": [
    "from sklearn.pipeline import Pipeline\n",
    "from sklearn.model_selection import cross_val_score\n",
    "from sklearn.metrics import mean_squared_log_error, make_scorer, mean_squared_error\n",
    "\n",
    "# baseline\n",
    "scaler = StandardScaler()\n",
    "svr = SVR()\n",
    "pipeline = Pipeline([\n",
    "    ('std', scaler),\n",
    "    ('svr', svr)\n",
    "])\n",
    "cross_val_score(svr, train_data, y, scoring=make_scorer(mean_squared_error, greater_is_better=False), cv=10).mean()\n"
   ],
   "metadata": {
    "collapsed": false,
    "pycharm": {
     "name": "#%%\n"
    }
   }
  },
  {
   "cell_type": "code",
   "execution_count": 56,
   "outputs": [],
   "source": [
    "# from ray.tune.sklearn import TuneSearchCV\n",
    "from ray import tune\n",
    "from sklearn.metrics import mean_absolute_percentage_error\n",
    "from sklearn.model_selection import GridSearchCV\n",
    "from scipy.stats import loguniform\n",
    "\n",
    "params = {\n",
    "    'svr__C': loguniform(1e-3, 1e3),\n",
    "    'svr__gamma': loguniform(1e-6, 10)\n",
    "}\n",
    "# search = TuneSearchCV(\n",
    "#     pipeline,\n",
    "#     params,\n",
    "#     search_optimization=\"bayesian\",\n",
    "#     n_trial=-1,\n",
    "#     max_iters=10,\n",
    "#     early_stopping=True,\n",
    "#     verbose=1,\n",
    "#     scoring=make_scorer(mean_absolute_percentage_error, greater_is_better=False),\n",
    "#     return_train_score=True,\n",
    "#     mode='max',\n",
    "#     time_budget_s=600,\n",
    "#     error_score=np.nan,\n",
    "#     use_gpu=True\n",
    "# )\n",
    "# search.fit(train_data, y)\n",
    "# print(search.best_params_)\n",
    "# print(search.best_score_)"
   ],
   "metadata": {
    "collapsed": false,
    "pycharm": {
     "name": "#%%\n"
    }
   }
  },
  {
   "cell_type": "code",
   "execution_count": 57,
   "outputs": [
    {
     "name": "stdout",
     "output_type": "stream",
     "text": [
      "n_iterations: 4\n",
      "n_required_iterations: 4\n",
      "n_possible_iterations: 4\n",
      "min_resources_: 20\n",
      "max_resources_: 1460\n",
      "aggressive_elimination: False\n",
      "factor: 3\n",
      "----------\n",
      "iter: 0\n",
      "n_candidates: 73\n",
      "n_resources: 20\n",
      "Fitting 10 folds for each of 73 candidates, totalling 730 fits\n",
      "----------\n",
      "iter: 1\n",
      "n_candidates: 25\n",
      "n_resources: 60\n",
      "Fitting 10 folds for each of 25 candidates, totalling 250 fits\n",
      "----------\n",
      "iter: 2\n",
      "n_candidates: 9\n",
      "n_resources: 180\n",
      "Fitting 10 folds for each of 9 candidates, totalling 90 fits\n",
      "----------\n",
      "iter: 3\n",
      "n_candidates: 3\n",
      "n_resources: 540\n",
      "Fitting 10 folds for each of 3 candidates, totalling 30 fits\n"
     ]
    },
    {
     "data": {
      "text/plain": "HalvingRandomSearchCV(cv=10,\n                      estimator=Pipeline(steps=[('std', StandardScaler()),\n                                                ('svr', SVR())]),\n                      n_jobs=-1,\n                      param_distributions={'svr__C': <scipy.stats._distn_infrastructure.rv_frozen object at 0x000001BC6864CBB0>,\n                                           'svr__gamma': <scipy.stats._distn_infrastructure.rv_frozen object at 0x000001BC68674F70>},\n                      scoring=make_scorer(mean_squared_error, greater_is_better=False),\n                      verbose=2)"
     },
     "execution_count": 57,
     "metadata": {},
     "output_type": "execute_result"
    }
   ],
   "source": [
    "# from ray.tune.sklearn import TuneSearchCV\n",
    "from ray import tune\n",
    "from sklearn.experimental import enable_halving_search_cv\n",
    "from sklearn.metrics import mean_absolute_percentage_error\n",
    "from sklearn.model_selection import GridSearchCV, HalvingRandomSearchCV\n",
    "\n",
    "grid_search = HalvingRandomSearchCV(pipeline, params, n_jobs=-1, cv=10, verbose=2,\n",
    "                                    scoring=make_scorer(mean_squared_error, greater_is_better=False))\n",
    "grid_search.fit(train_data, y)"
   ],
   "metadata": {
    "collapsed": false,
    "pycharm": {
     "name": "#%%\n"
    }
   }
  },
  {
   "cell_type": "code",
   "execution_count": 60,
   "outputs": [
    {
     "data": {
      "text/plain": "(-0.022462666426156682,\n {'svr__C': 11.169480627782885, 'svr__gamma': 0.00013315071186570328})"
     },
     "execution_count": 60,
     "metadata": {},
     "output_type": "execute_result"
    }
   ],
   "source": [
    "grid_search.best_score_, grid_search.best_params_"
   ],
   "metadata": {
    "collapsed": false,
    "pycharm": {
     "name": "#%%\n"
    }
   }
  },
  {
   "cell_type": "code",
   "execution_count": 61,
   "outputs": [
    {
     "name": "stdout",
     "output_type": "stream",
     "text": [
      "0.009527187970577425\n"
     ]
    },
    {
     "name": "stderr",
     "output_type": "stream",
     "text": [
      "d:\\project\\python\\.venv\\lib\\site-packages\\sklearn\\base.py:441: UserWarning: X does not have valid feature names, but StandardScaler was fitted with feature names\n",
      "  warnings.warn(\n"
     ]
    }
   ],
   "source": [
    "import pandas as pd\n",
    "\n",
    "# best_model = tune_search.best_estimator\n",
    "best_model = grid_search.best_estimator_\n",
    "print(mean_squared_error(best_model.predict(train_data), y))\n",
    "y_test = best_model.predict(test_data.values)\n",
    "result = pd.DataFrame(np.exp(y_test), index=test_data.index, columns=['SalePrice'], )\n",
    "result.to_csv('SVR.csv')"
   ],
   "metadata": {
    "collapsed": false,
    "pycharm": {
     "name": "#%%\n"
    }
   }
  }
 ],
 "metadata": {
  "kernelspec": {
   "display_name": "Python 3",
   "language": "python",
   "name": "python3"
  },
  "language_info": {
   "codemirror_mode": {
    "name": "ipython",
    "version": 2
   },
   "file_extension": ".py",
   "mimetype": "text/x-python",
   "name": "python",
   "nbconvert_exporter": "python",
   "pygments_lexer": "ipython2",
   "version": "2.7.6"
  }
 },
 "nbformat": 4,
 "nbformat_minor": 0
}