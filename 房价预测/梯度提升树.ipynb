{
 "cells": [
  {
   "cell_type": "markdown",
   "source": [
    "梯度提升树模型\n",
    "弱分类器个数180\n",
    "学习率0.1"
   ],
   "metadata": {
    "collapsed": false,
    "pycharm": {
     "name": "#%% md\n"
    }
   }
  },
  {
   "cell_type": "code",
   "execution_count": 52,
   "outputs": [],
   "source": [
    "import seaborn as sns\n",
    "\n",
    "\n",
    "def print_k_fold(cv_estimator, key):\n",
    "    \"\"\"\n",
    "    打印估算器中的每个参数的值\n",
    "    :param cv_estimator:\n",
    "    :return:\n",
    "    \"\"\"\n",
    "    result = grid_search.cv_results_\n",
    "    sns.lineplot(x=[i[key] for i in result['params']],\n",
    "                 y=result['mean_train_score'], label='train')\n",
    "    sns.lineplot(x=[i[key] for i in result['params']],\n",
    "                 y=result['mean_test_score'], label='test')"
   ],
   "metadata": {
    "collapsed": false,
    "pycharm": {
     "name": "#%%\n"
    }
   }
  },
  {
   "cell_type": "code",
   "execution_count": 4,
   "outputs": [
    {
     "name": "stderr",
     "output_type": "stream",
     "text": [
      "[Parallel(n_jobs=-1)]: Using backend LokyBackend with 16 concurrent workers.\n"
     ]
    },
    {
     "name": "stdout",
     "output_type": "stream",
     "text": [
      "-0.09200406774764407\n"
     ]
    },
    {
     "name": "stderr",
     "output_type": "stream",
     "text": [
      "[Parallel(n_jobs=-1)]: Done   5 out of   5 | elapsed:    1.9s finished\n"
     ]
    }
   ],
   "source": [
    "\n",
    "import numpy as np\n",
    "import pandas as pd\n",
    "from sklearn.metrics import make_scorer, mean_squared_log_error, mean_absolute_percentage_error\n",
    "from sklearn.ensemble import GradientBoostingRegressor\n",
    "from sklearn.model_selection import GridSearchCV, cross_val_score\n",
    "# from ..util import print_k_fold\n",
    "import torch\n",
    "\n",
    "np.random.seed(42)\n",
    "X, y = torch.load('data/house_price.pkl')\n",
    "X_train, X_test = X.iloc[:len(y)], X.iloc[len(y):]\n",
    "\n",
    "model = GradientBoostingRegressor()\n",
    "score = cross_val_score(model, X_train, y,\n",
    "                        scoring=make_scorer(mean_absolute_percentage_error, greater_is_better=False),\n",
    "                        verbose=2,\n",
    "                        n_jobs=-1)\n",
    "print(score.mean())\n",
    "\n"
   ],
   "metadata": {
    "collapsed": false,
    "pycharm": {
     "name": "#%%\n"
    }
   }
  },
  {
   "cell_type": "code",
   "execution_count": 50,
   "outputs": [
    {
     "name": "stdout",
     "output_type": "stream",
     "text": [
      "Fitting 10 folds for each of 7 candidates, totalling 70 fits\n"
     ]
    },
    {
     "name": "stderr",
     "output_type": "stream",
     "text": [
      "d:\\project\\python\\.venv\\lib\\site-packages\\sklearn\\model_selection\\_search.py:969: UserWarning: One or more of the test scores are non-finite: [-0.13256721 -0.03904391 -0.01573562 -0.01800439 -0.02105949 -0.03012872\n",
      "         nan]\n",
      "  warnings.warn(\n"
     ]
    },
    {
     "data": {
      "text/plain": "GridSearchCV(cv=10, estimator=GradientBoostingRegressor(n_estimators=180),\n             n_jobs=-1,\n             param_grid={'learning_rate': [0.001, 0.01, 0.1, 0.3, 0.5, 0.7,\n                                           0.9]},\n             return_train_score=True,\n             scoring=make_scorer(mean_squared_log_error, greater_is_better=False),\n             verbose=2)"
     },
     "execution_count": 50,
     "metadata": {},
     "output_type": "execute_result"
    }
   ],
   "source": [
    "# 调整学习器个数\n",
    "grid_search = GridSearchCV(GradientBoostingRegressor(n_estimators=180),\n",
    "                           param_grid={'n_estimators': [100, 200, 300]},\n",
    "                           scoring=make_scorer(mean_squared_log_error, greater_is_better=False), verbose=2, n_jobs=-1,\n",
    "                           return_train_score=True, cv=10)\n",
    "grid_search.fit(X, y)\n",
    "\n"
   ],
   "metadata": {
    "collapsed": false,
    "pycharm": {
     "name": "#%%\n"
    }
   }
  },
  {
   "cell_type": "code",
   "execution_count": 53,
   "outputs": [
    {
     "data": {
      "text/plain": "<Figure size 432x288 with 1 Axes>",
      "image/png": "[encoded data removed]"
     },
     "metadata": {
      "needs_background": "light"
     },
     "output_type": "display_data"
    }
   ],
   "source": [
    "print_k_fold(grid_search, 'learning_rate')"
   ],
   "metadata": {
    "collapsed": false,
    "pycharm": {
     "name": "#%%\n"
    }
   }
  },
  {
   "cell_type": "code",
   "execution_count": 54,
   "outputs": [
    {
     "data": {
      "text/plain": "{'learning_rate': 0.1}"
     },
     "execution_count": 54,
     "metadata": {},
     "output_type": "execute_result"
    }
   ],
   "source": [
    "grid_search.best_params_"
   ],
   "metadata": {
    "collapsed": false,
    "pycharm": {
     "name": "#%%\n"
    }
   }
  }
 ],
 "metadata": {
  "kernelspec": {
   "display_name": "Python 3",
   "language": "python",
   "name": "python3"
  },
  "language_info": {
   "codemirror_mode": {
    "name": "ipython",
    "version": 2
   },
   "file_extension": ".py",
   "mimetype": "text/x-python",
   "name": "python",
   "nbconvert_exporter": "python",
   "pygments_lexer": "ipython2",
   "version": "2.7.6"
  }
 },
 "nbformat": 4,
 "nbformat_minor": 0
}