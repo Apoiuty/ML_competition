{
 "cells": [
  {
   "cell_type": "code",
   "execution_count": 2,
   "metadata": {
    "collapsed": true,
    "pycharm": {
     "name": "#%%\n"
    }
   },
   "outputs": [],
   "source": [
    "import numpy as np\n",
    "import torch\n",
    "\n",
    "data, y = torch.load('data/house_price_v2.pkl')\n",
    "train_data, test_data = data[:len(y)], data[len(y):]\n",
    "\n",
    "np.random.seed(42)"
   ]
  },
  {
   "cell_type": "code",
   "execution_count": null,
   "outputs": [
    {
     "name": "stderr",
     "output_type": "stream",
     "text": [
      "[Parallel(n_jobs=-1)]: Using backend LokyBackend with 16 concurrent workers.\n"
     ]
    }
   ],
   "source": [
    "from sklearn.ensemble import VotingClassifier, AdaBoostClassifier, GradientBoostingClassifier, RandomForestClassifier, GradientBoostingRegressor,AdaBoostRegressor,BaggingRegressor,RandomForestRegressor,ExtraTreesRegressor\n",
    "from sklearn.tree import DecisionTreeClassifier,DecisionTreeRegressor\n",
    "from sklearn.linear_model import LogisticRegression\n",
    "from sklearn.svm import SVC, SVR\n",
    "from sklearn.preprocessing import StandardScaler\n",
    "from sklearn.neighbors import KNeighborsClassifier,KNeighborsRegressor\n",
    "from sklearn.pipeline import Pipeline\n",
    "from sklearn.ensemble import BaggingClassifier,VotingRegressor\n",
    "from sklearn.model_selection import cross_val_score\n",
    "from sklearn.metrics import make_scorer,mean_squared_error\n",
    "\n",
    "std = StandardScaler()\n",
    "bagging_svm = BaggingRegressor(base_estimator=SVR())\n",
    "bagging_svm.set_params(\n",
    "    **{'base_estimator__C': 59.1069861908854, 'base_estimator__gamma': 8.693959087324277e-05,\n",
    "       'n_estimators': 96}\n",
    ")\n",
    "adaboost = AdaBoostRegressor(base_estimator=SVR())\n",
    "adaboost_tree = AdaBoostRegressor(base_estimator=DecisionTreeRegressor())\n",
    "adaboost_tree.set_params(**{'learning_rate': 1.0, 'base_estimator__max_depth': 99, 'base_estimator__min_samples_split': 2, 'base_estimator__min_samples_leaf': 7, 'base_estimator__max_features': 71, 'base_estimator__max_leaf_nodes': 1196, 'n_estimators': 999}\n",
    "                         )\n",
    "adaboost.set_params(\n",
    "    **{'base_estimator__C': 10.879585646155862, 'base_estimator__gamma': 0.000506547522932075, 'learning_rate': 0.31729633401624546, 'n_estimators': 295}\n",
    ")\n",
    "gdbt = GradientBoostingRegressor()\n",
    "gdbt.set_params(\n",
    "    **{'n_estimators': 286, 'learning_rate': 0.1, 'max_depth': 99, 'min_samples_split': 839, 'min_samples_leaf': 1, 'max_features': 223}\n",
    ")\n",
    "knn = KNeighborsRegressor()\n",
    "knn.set_params(**{'n_neighbors': 5, 'p': 1, 'weights': 'distance'}\n",
    "               )\n",
    "rf = RandomForestRegressor()\n",
    "rf.set_params(\n",
    "    **{'n_estimators': 937, 'max_depth': 55, 'min_samples_split': 2, 'min_samples_leaf': 1, 'max_features': 64}\n",
    "\n",
    ")\n",
    "\n",
    "svc = SVR()\n",
    "svc.set_params(**{'C': 11.169480627782885, 'gamma': 0.00013315071186570328}\n",
    "               )\n",
    "tree = DecisionTreeRegressor()\n",
    "tree.set_params(\n",
    "    **{'max_depth': 377, 'min_samples_split': 2, 'min_samples_leaf': 19, 'max_features': 158}\n",
    ")\n",
    "\n",
    "extra_tree=ExtraTreesRegressor()\n",
    "extra_tree.set_params(**{'n_estimators': 204, 'max_depth': 99, 'min_samples_split': 2, 'min_samples_leaf': 1, 'max_features': 223}\n",
    ")\n",
    "\n",
    "voting_model = VotingRegressor([ ('ada', adaboost), ('gdbt', gdbt),\n",
    "                                 ('knn', knn), ('svc', svc), ('tree', tree),\n",
    "                                 ('bagging_svm', bagging_svm),('adaboost_tree',adaboost_tree) ,\n",
    "                                  ('rf',rf),('extra_tree',extra_tree)], n_jobs=-1,\n",
    "                                verbose=1)\n",
    "\n",
    "cross_val_score(voting_model,train_data,y,cv=10,n_jobs=-1,scoring=make_scorer(mean_squared_error,greater_is_better=False),verbose=2).mean()"
   ],
   "metadata": {
    "collapsed": false,
    "pycharm": {
     "name": "#%%\n",
     "is_executing": true
    }
   }
  },
  {
   "cell_type": "code",
   "execution_count": null,
   "outputs": [],
   "source": [],
   "metadata": {
    "collapsed": false,
    "pycharm": {
     "name": "#%%\n"
    }
   }
  },
  {
   "cell_type": "code",
   "execution_count": 43,
   "outputs": [
    {
     "name": "stderr",
     "output_type": "stream",
     "text": [
      "d:\\project\\python\\.venv\\lib\\site-packages\\sklearn\\base.py:441: UserWarning: X does not have valid feature names, but StandardScaler was fitted with feature names\n",
      "  warnings.warn(\n"
     ]
    }
   ],
   "source": [
    "import pandas as pd\n",
    "\n",
    "best_model=voting_model\n",
    "y_test = best_model.predict(test_data.values)\n",
    "result = pd.DataFrame(y_test, index=test_data.index, columns=['SalePrice'], )\n",
    "result.to_csv('voting.csv')"
   ],
   "metadata": {
    "collapsed": false,
    "pycharm": {
     "name": "#%%\n"
    }
   }
  }
 ],
 "metadata": {
  "kernelspec": {
   "display_name": "Python 3",
   "language": "python",
   "name": "python3"
  },
  "language_info": {
   "codemirror_mode": {
    "name": "ipython",
    "version": 2
   },
   "file_extension": ".py",
   "mimetype": "text/x-python",
   "name": "python",
   "nbconvert_exporter": "python",
   "pygments_lexer": "ipython2",
   "version": "2.7.6"
  }
 },
 "nbformat": 4,
 "nbformat_minor": 0
}