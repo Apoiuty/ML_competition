{
 "cells": [
  {
   "metadata": {
    "_uuid": "180b0071b029d87539564d7d5dc9196a03965380",
    "pycharm": {
     "name": "#%% md\n"
    }
   },
   "cell_type": "markdown",
   "source": [
    "## If you like this  kernel Greatly Appreciate if you can  UPVOTE .Thank you\n",
    "\n",
    "# A Simple Tutorial on Exploratory Data Analysis\n",
    "\n",
    "### What is Exploratory Data Analysis (EDA)?\n",
    "- How to ensure you are ready to use machine learning algorithms in a project? \n",
    "- How to choose the most suitable algorithms for your data set?\n",
    "- How to define the feature variables that can potentially be used for machine learning?\n",
    "\n",
    "**Exploratory Data Analysis (EDA)** helps to answer all these questions, ensuring the best outcomes for the project. It is an approach for summarizing, visualizing, and becoming intimately familiar with the important characteristics of a data set.\n",
    "\n",
    "### Value of Exploratory Data Analysis\n",
    "Exploratory Data Analysis is valuable to data science projects since it allows to get closer to the certainty that the future results will be valid, correctly interpreted, and applicable to the desired business contexts. Such level of certainty can be achieved only after raw data is validated and checked for anomalies, ensuring that the data set was collected without errors. EDA also helps to find insights that were not evident or worth investigating to business stakeholders and data scientists but can be very informative about a particular business.\n",
    "\n",
    "EDA is performed in order to define and refine the selection of feature variables that will be used for machine learning. Once data scientists become familiar with the data set, they often have to return to feature engineering step, since the initial features may turn out not to be serving their intended purpose. Once the EDA stage is complete, data scientists get a firm feature set they need for supervised and unsupervised machine learning.\n",
    "\n",
    "### Methods of Exploratory Data Analysis\n",
    "It is always better to explore each data set using multiple exploratory techniques and compare the results. Once the data set is fully understood, it is quite possible that data scientist will have to go back to data collection and cleansing phases in order to transform the data set according to the desired business outcomes. The goal of this step is to become confident that the data set is ready to be used in a machine learning algorithm.\n",
    "\n",
    "Exploratory Data Analysis is majorly performed using the following methods:\n",
    "\n",
    "- Univariate visualization — provides summary statistics for each field in the raw data set\n",
    "- Bivariate visualization — is performed to find the relationship between each variable in the dataset and the target variable of interest\n",
    "- Multivariate visualization — is performed to understand interactions between different fields in the dataset\n",
    "- Dimensionality reduction — helps to understand the fields in the data that account for the most variance between observations and allow for the processing of a reduced volume of data.\n",
    "Through these methods, the data scientist validates assumptions and identifies patterns that will allow for the understanding of the problem and model selection and validates that the data has been generated in the way it was expected to. So, value distribution of each field is checked, a number of missing values is defined, and the possible ways of replacing them are found.\n",
    "\n",
    "Additional benefits Exploratory Data Analysis brings to projects\n",
    "Another side benefit of EDA is that it allows to specify or even define the questions you are trying to get the answer to from your data. Companies, that are only starting to leverage Data Science and AI technologies, often face the situation when they realize, that they have a lot of data and no ideas of what value that data can bring to their business decision making.\n",
    "\n",
    "However, the questions always come first in data analysis. It doesn’t matter how much data company has, how many tools they have available, whether the data is historical or real time unless business stakeholders have the questions they are trying to solve with their data. EDA can help such companies to start formalizing the right questions, since with wrong questions you get the wrong answers, and take the wrong decisions.\n",
    "\n",
    "#### Why skipping Exploratory Data Analysis is a bad idea?\n",
    "\n",
    "In a hurry to get to the machine learning stage or simply impress business stakeholders very fast, data scientists tend to either entirely skip the exploratory process or do a very shallow work. It is a very serious and, sadly, common mistake of amateur data science consulting “professionals”.\n",
    "\n",
    "Such inconsiderate behavior can lead to skewed data, with outliers and too many missing values and, therefore, some sad outcomes for the project:\n",
    "\n",
    "- generating inaccurate models;\n",
    "- generating accurate models on the wrong data;\n",
    "- choosing the wrong variables for the model;\n",
    "- inefficient use of the resources, including the rebuilding of the model.\n",
    "\n",
    "Exploratory Data Analysis (EDA) is used on the one hand to answer questions, test business assumptions, generate hypotheses for further analysis. On the other hand, you can also use it to prepare the data for modeling. \n",
    "\n",
    "The thing that these two probably have in common is a good knowledge of your data to either get the answers that you need or to develop an intuition for interpreting the results of future modeling.\n",
    "\n",
    "There are a lot of ways to reach these goals as follows:\n",
    "\n",
    "1. Import the data\n",
    "\n",
    "2. Get a feel of the data ,describe the data,look at a sample of data like first and last rows\n",
    "\n",
    "3. Take a deeper look into the data by querying or indexing the data\n",
    "\n",
    "4. Identify features of interest\n",
    "\n",
    "5. Recognise the challenges posed by data - missing values, outliers\n",
    "\n",
    "6. Discover patterns in the data\n",
    "\n",
    "One of the important things about EDA is  Data profiling. \n",
    "\n",
    "**Data profiling** is concerned with summarizing your dataset through descriptive statistics. You want to use a variety of measurements to better understand your dataset. The goal of data profiling is to have a solid understanding of your data so you can afterwards start querying and visualizing your data in various ways. However, this doesn’t mean that you don’t have to iterate: exactly because data profiling is concerned with summarizing your dataset, it is frequently used to assess the data quality. Depending on the result of the data profiling, you might decide to correct, discard or handle your data differently.\n",
    "\n",
    "\n",
    "### Key Concepts of Exploratory Data Analysis\n",
    "\n",
    "- <b>2 types of Data Analysis</b>\n",
    "   - Confirmatory Data Analysis\n",
    "   \n",
    "   - Exploratory Data Analysis\n",
    "\n",
    "- <b>4 Objectives of EDA</b>\n",
    "   - Discover Patterns\n",
    "   \n",
    "   - Spot Anomalies\n",
    "   \n",
    "   - Frame Hypothesis\n",
    "   \n",
    "   - Check Assumptions\n",
    "\n",
    "- <b>2 methods for exploration</b>\n",
    "   - Univariate Analysis\n",
    "   \n",
    "   - Bivariate Analysis\n",
    "\n",
    "- <b>Stuff done during EDA</b>\n",
    "   - Trends\n",
    "   \n",
    "   - Distribution\n",
    "   \n",
    "   - Mean\n",
    "   \n",
    "   - Median\n",
    "   \n",
    "   - Outlier\n",
    "   \n",
    "   - Spread measurement (SD)\n",
    "   \n",
    "   - Correlations\n",
    "   \n",
    "   - Hypothesis testing\n",
    "   \n",
    "   - Visual Exploration\n",
    "   \n",
    "## Overview\n",
    "\n",
    "This is an exploratory data analysis on the House Prices Kaggle Competition found at \n",
    "\n",
    "https://www.kaggle.com/c/house-prices-advanced-regression-techniques\n",
    "\n",
    "### Description\n",
    "\n",
    "Ask a home buyer to describe their dream house, and they probably won't begin with the height of the basement ceiling or the proximity to an east-west railroad. But this playground competition's dataset proves that much more influences price negotiations than the number of bedrooms or a white-picket fence.\n",
    "\n",
    "With 79 explanatory variables describing (almost) every aspect of residential homes in Ames, Iowa, this competition challenges you to predict the final price of each home.\n",
    "\n",
    "There are 1460 instances of  training data and 1460 of test data. Total number of attributes equals 81, of which 36 are numerical, 43 are categorical + Id and SalePrice.\n",
    "\n",
    "Numerical Features: 1stFlrSF, 2ndFlrSF, 3SsnPorch, BedroomAbvGr, BsmtFinSF1, BsmtFinSF2, BsmtFullBath, BsmtHalfBath, BsmtUnfSF, EnclosedPorch, Fireplaces, FullBath, GarageArea, GarageCars, GarageYrBlt, GrLivArea, HalfBath, KitchenAbvGr, LotArea, LotFrontage, LowQualFinSF, MSSubClass, MasVnrArea, MiscVal, MoSold, OpenPorchSF, OverallCond, OverallQual, PoolArea, ScreenPorch, TotRmsAbvGrd, TotalBsmtSF, WoodDeckSF, YearBuilt, YearRemodAdd, YrSold\n",
    "\n",
    "\n",
    "Categorical Features: Alley, BldgType, BsmtCond, BsmtExposure, BsmtFinType1, BsmtFinType2, BsmtQual, CentralAir, Condition1, Condition2, Electrical, ExterCond, ExterQual, Exterior1st, Exterior2nd, Fence, FireplaceQu, Foundation, Functional, GarageCond, GarageFinish, GarageQual, GarageType, Heating, HeatingQC, HouseStyle, KitchenQual, LandContour, LandSlope, LotConfig, LotShape, MSZoning, MasVnrType,  MiscFeature, Neighborhood, PavedDrive, PoolQC, RoofMatl, RoofStyle, SaleCondition, SaleType, Street, Utilitif"
   ]
  },
  {
   "metadata": {
    "_uuid": "7414eb7c900e2d4546a4b3d108ce11fddee44e57",
    "pycharm": {
     "name": "#%% md\n"
    }
   },
   "cell_type": "markdown",
   "source": [
    "## Import Libraries"
   ]
  },
  {
   "metadata": {
    "_uuid": "46972c9825af86d41d2eedbbab57ea95956f05ba",
    "_cell_guid": "a9e1c407-125d-4a92-a5d8-93d383b5fca0",
    "trusted": true,
    "_kg_hide-input": true,
    "pycharm": {
     "name": "#%%\n"
    }
   },
   "cell_type": "code",
   "source": [
    "import pandas as pd\n",
    "import numpy as np\n",
    "import matplotlib as mpl\n",
    "import matplotlib.pyplot as plt\n",
    "% matplotlib inline\n",
    "import seaborn as sns\n",
    "import scipy.stats as st\n",
    "from sklearn import ensemble, tree, linear_model\n",
    "import missingno as msno"
   ],
   "execution_count": 8,
   "outputs": [
    {
     "name": "stderr",
     "output_type": "stream",
     "text": [
      "UsageError: Line magic function `%` not found.\n"
     ]
    }
   ]
  },
  {
   "metadata": {
    "_uuid": "73e8b7366d53b79de9299b0704d97812c91edb77",
    "pycharm": {
     "name": "#%% md\n"
    }
   },
   "cell_type": "markdown",
   "source": [
    "To start exploring your data, you’ll need to start by actually loading in your data. You’ll probably know this already, but thanks to the Pandas library, this becomes an easy task: you import the package as pd, following the convention, and you use the read_csv() function, to which you pass the URL in which the data can be found and a header argument. This last argument is one that you can use to make sure that your data is read in correctly: the first row of your data won’t be interpreted as the column names of your DataFrame.\n",
    "\n",
    "Alternatively, there are also other arguments that you can specify to ensure that your data is read in correctly: you can specify the delimiter to use with the sep or delimiter arguments, the column names to use with names or the column to use as the row labels for the resulting DataFrame with index_col."
   ]
  },
  {
   "metadata": {
    "_uuid": "a4e8a61875e410af47250d576791e4247a4e29ba",
    "_cell_guid": "fdef65e6-1a5f-414d-86be-4f1c26019efa",
    "trusted": true,
    "_kg_hide-input": true,
    "pycharm": {
     "name": "#%%\n"
    }
   },
   "cell_type": "code",
   "source": [
    "train = pd.read_csv('./data/train.csv')\n",
    "test = pd.read_csv('./data/test.csv')"
   ],
   "execution_count": 9,
   "outputs": []
  },
  {
   "metadata": {
    "_uuid": "26c407890e7e155f7d4f6852c9a2138e7de7d101",
    "pycharm": {
     "name": "#%% md\n"
    }
   },
   "cell_type": "markdown",
   "source": [
    "One of the most elementary steps to do this is by getting a basic description of your data. A basic description of your data is indeed a very broad term: you can interpret it as a quick and dirty way to get some information on your data, as a way of getting some simple, easy-to-understand information on your data, to get a basic feel for your data. We can use the describe() function to get various summary statistics that exclude NaN values. "
   ]
  },
  {
   "metadata": {
    "trusted": true,
    "_uuid": "18f9780ebca993edf98313d743e5ac91a093a7fe",
    "_kg_hide-input": true,
    "pycharm": {
     "name": "#%%\n"
    }
   },
   "cell_type": "code",
   "source": [
    "train.describe()"
   ],
   "execution_count": null,
   "outputs": []
  },
  {
   "metadata": {
    "_uuid": "f7acab16176a0cd1711a98d3762fd363513de1a7",
    "pycharm": {
     "name": "#%% md\n"
    }
   },
   "cell_type": "markdown",
   "source": [
    "Now that you have got a general idea about your data set, it’s also a good idea to take a closer look at the data itself. With the help of the head() and tail() functions of the Pandas library, you can easily check out the first and last lines of your DataFrame, respectively.\n",
    "\n",
    "Let us look at some sample data"
   ]
  },
  {
   "metadata": {
    "_uuid": "59ab0313dce89149f7d009de38f52aa7bf2cbb45",
    "_cell_guid": "98a867ec-3d5f-4031-a1ea-605ef11c3fea",
    "trusted": true,
    "_kg_hide-input": true,
    "pycharm": {
     "name": "#%%\n"
    }
   },
   "cell_type": "code",
   "source": [
    "train.head()"
   ],
   "execution_count": null,
   "outputs": []
  },
  {
   "metadata": {
    "trusted": true,
    "_uuid": "3a41f42d412b2187aec174d34cc0ff09804e1d0b",
    "_kg_hide-input": false,
    "pycharm": {
     "name": "#%%\n"
    }
   },
   "cell_type": "code",
   "source": [
    "train.tail()"
   ],
   "execution_count": null,
   "outputs": []
  },
  {
   "metadata": {
    "_uuid": "34b223303c843ef1c078858f1ec9ad88c4a71da0",
    "_cell_guid": "60adf879-2079-4232-95e5-c57d7d6873e9",
    "trusted": true,
    "_kg_hide-input": true,
    "pycharm": {
     "name": "#%%\n"
    }
   },
   "cell_type": "code",
   "source": [
    "train.shape, test.shape"
   ],
   "execution_count": null,
   "outputs": []
  },
  {
   "metadata": {
    "_uuid": "cb45721d9c3774d4110fd9967fcbeaa1428c3814",
    "pycharm": {
     "name": "#%% md\n"
    }
   },
   "cell_type": "markdown",
   "source": [
    "Let us examine numerical features in the train dataset"
   ]
  },
  {
   "metadata": {
    "_uuid": "c98144abed702dee56ff5c1df6706721aef22751",
    "_cell_guid": "647c4799-8797-4c36-8961-54c16bd50f50",
    "trusted": true,
    "_kg_hide-input": true,
    "pycharm": {
     "name": "#%%\n"
    }
   },
   "cell_type": "code",
   "source": [
    "numeric_features = train.select_dtypes(include=[np.number])\n",
    "\n",
    "numeric_features.columns"
   ],
   "execution_count": null,
   "outputs": []
  },
  {
   "metadata": {
    "_uuid": "1e3a0fa9c8694320bc3825d72548a225181af3a5",
    "pycharm": {
     "name": "#%% md\n"
    }
   },
   "cell_type": "markdown",
   "source": [
    "Let us examine categorical features in the train dataset"
   ]
  },
  {
   "metadata": {
    "_uuid": "fb471042559958b213e44358c93dc64f768efd6c",
    "_cell_guid": "53d65b9c-96d0-427f-9e1f-4f31ff45f75c",
    "trusted": true,
    "_kg_hide-input": true,
    "pycharm": {
     "name": "#%%\n"
    }
   },
   "cell_type": "code",
   "source": [
    "categorical_features = train.select_dtypes(include=[np.object])\n",
    "\n",
    "categorical_features.columns"
   ],
   "execution_count": null,
   "outputs": []
  },
  {
   "metadata": {
    "_uuid": "ee64a2157db2e7598bde6c2f37a2df5f8b85f234",
    "pycharm": {
     "name": "#%% md\n"
    }
   },
   "cell_type": "markdown",
   "source": [
    "Visualising missing values for a sample of 250"
   ]
  },
  {
   "cell_type": "code",
   "execution_count": null,
   "outputs": [],
   "source": [
    "train.sample(50)"
   ],
   "metadata": {
    "collapsed": false,
    "pycharm": {
     "name": "#%%\n"
    }
   }
  },
  {
   "metadata": {
    "trusted": true,
    "_uuid": "1ec01cb6be98d71a235d2c129aeaace197ca7dbd",
    "_kg_hide-input": true,
    "pycharm": {
     "name": "#%%\n"
    }
   },
   "cell_type": "code",
   "source": [
    "msno.matrix(train.sample(250))"
   ],
   "execution_count": null,
   "outputs": []
  },
  {
   "metadata": {
    "_uuid": "ae9610917fb6fe2ca8f46bd38fd26e4eedf7288d",
    "pycharm": {
     "name": "#%% md\n"
    }
   },
   "cell_type": "markdown",
   "source": [
    "#### Heatmap\n",
    "\n",
    "The **missingno** correlation heatmap measures nullity correlation: how strongly the presence or absence of one variable affects the presence of another:"
   ]
  },
  {
   "metadata": {
    "trusted": true,
    "_uuid": "fde026e87940e9287f35e917db4fe9ee293e2098",
    "_kg_hide-input": true,
    "pycharm": {
     "name": "#%%\n"
    }
   },
   "cell_type": "code",
   "source": [
    "msno.heatmap(train)"
   ],
   "execution_count": null,
   "outputs": []
  },
  {
   "metadata": {
    "trusted": true,
    "_uuid": "5bd640d47b9dc1d4fc9f6d96ebfda20c80371d50",
    "_kg_hide-input": true,
    "pycharm": {
     "name": "#%%\n"
    }
   },
   "cell_type": "code",
   "source": [
    "msno.bar(train.sample(1000))"
   ],
   "execution_count": null,
   "outputs": []
  },
  {
   "metadata": {
    "_uuid": "2df6364b163c0c49ec7e9b5276ffa5ec84c0fead",
    "pycharm": {
     "name": "#%% md\n"
    }
   },
   "cell_type": "markdown",
   "source": [
    "#### Dendrogram\n",
    "\n",
    "The dendrogram allows you to more fully correlate variable completion, revealing trends deeper than the pairwise ones visible in the correlation heatmap:"
   ]
  },
  {
   "metadata": {
    "trusted": true,
    "_uuid": "974300229c4a7b60130457c53b19e5add20d3c02",
    "_kg_hide-input": true,
    "pycharm": {
     "name": "#%%\n"
    }
   },
   "cell_type": "code",
   "source": [
    "msno.dendrogram(train)"
   ],
   "execution_count": null,
   "outputs": []
  },
  {
   "metadata": {
    "_uuid": "796a9f4c96eb79c0a9100ae54a5a8d5b4c0f7c06",
    "pycharm": {
     "name": "#%% md\n"
    }
   },
   "cell_type": "markdown",
   "source": [
    "The dendrogram uses a hierarchical clustering algorithm (courtesy of scipy) to bin variables against one another by their nullity correlation (measured in terms of binary distance). At each step of the tree the variables are split up based on which combination minimizes the distance of the remaining clusters. The more monotone the set of variables, the closer their total distance is to zero, and the closer their average distance (the y-axis) is to zero.\n",
    "\n",
    "To interpret this graph, read it from a top-down perspective. Cluster leaves which linked together at a distance of zero fully predict one another's presence—one variable might always be empty when another is filled, or they might always both be filled or both empty, and so on. In this specific example the dendrogram glues together the variables which are required and therefore present in every record.\n",
    "\n",
    "Cluster leaves which split close to zero, but not at it, predict one another very well, but still imperfectly. If your own interpretation of the dataset is that these columns actually are or ought to be match each other in nullity , then the height of the cluster leaf tells you, in absolute terms, how often the records are \"mismatched\" or incorrectly filed—that is, how many values you would have to fill in or drop, if you are so inclined.\n",
    "\n",
    "As with matrix, only up to 50 labeled columns will comfortably display in this configuration. However the dendrogram more elegantly handles extremely large datasets by simply flipping to a horizontal configuration."
   ]
  },
  {
   "metadata": {
    "_uuid": "13bb98d74f848c68a44ab727f73ffff7663e28d7",
    "_cell_guid": "bb694f91-f30c-4e92-9825-28c226a1f963",
    "trusted": false,
    "collapsed": true,
    "pycharm": {
     "name": "#%% md\n"
    }
   },
   "cell_type": "markdown",
   "source": [
    "**The Challenges of Your Data**\n",
    "\n",
    "Now that we have gathered some basic information on your data, it’s a good idea to just go a little bit deeper into the challenges that the data might pose.\n",
    "\n",
    "There are two factors mostly observed in EDA exercise which are **missing values** and **outliers**\n",
    "For understanding in detail on how to handle missing values in detail please visit \n",
    "https://www.kaggle.com/pavansanagapati/simple-tutorial-on-how-to-handle-missing-data\n",
    "For determining the outliers boxplot is used in the later part of this kernel\n",
    "\n",
    "**Estimate Skewness and Kurtosis**"
   ]
  },
  {
   "metadata": {
    "_uuid": "6c23e14e1d3b7b497a4edab7fbd7ee99ae35ce28",
    "_cell_guid": "f37fdf5a-c4a7-4f58-a30b-812ae16f2531",
    "trusted": true,
    "_kg_hide-input": true,
    "pycharm": {
     "name": "#%%\n"
    }
   },
   "cell_type": "code",
   "source": [
    "train.skew()"
   ],
   "execution_count": null,
   "outputs": []
  },
  {
   "cell_type": "code",
   "execution_count": null,
   "outputs": [],
   "source": [
    "train.kurt()"
   ],
   "metadata": {
    "collapsed": false,
    "pycharm": {
     "name": "#%%\n"
    }
   }
  },
  {
   "metadata": {
    "_uuid": "f126eef8b56b801cf8f149cf0a45f3325cc51d7e",
    "_cell_guid": "36e9618c-6e28-47a7-a28e-28bfdc81deb2",
    "trusted": true,
    "_kg_hide-input": true,
    "pycharm": {
     "name": "#%%\n"
    }
   },
   "cell_type": "code",
   "source": [
    "y = train['SalePrice']\n",
    "plt.figure(1);\n",
    "plt.title('Johnson SU')\n",
    "sns.distplot(y, kde=False, fit=st.johnsonsu)\n",
    "plt.figure(2);\n",
    "plt.title('Normal')\n",
    "sns.distplot(y, kde=False, fit=st.norm)\n",
    "plt.figure(3);\n",
    "plt.title('Log Normal')\n",
    "sns.distplot(y, kde=False, fit=st.lognorm)"
   ],
   "execution_count": 6,
   "outputs": [
    {
     "ename": "NameError",
     "evalue": "name 'train' is not defined",
     "output_type": "error",
     "traceback": [
      "\u001B[1;31m---------------------------------------------------------------------------\u001B[0m",
      "\u001B[1;31mNameError\u001B[0m                                 Traceback (most recent call last)",
      "\u001B[1;32m~\\AppData\\Local\\Temp/ipykernel_2344/411389746.py\u001B[0m in \u001B[0;36m<module>\u001B[1;34m\u001B[0m\n\u001B[1;32m----> 1\u001B[1;33m \u001B[0my\u001B[0m \u001B[1;33m=\u001B[0m \u001B[0mtrain\u001B[0m\u001B[1;33m[\u001B[0m\u001B[1;34m'SalePrice'\u001B[0m\u001B[1;33m]\u001B[0m\u001B[1;33m\u001B[0m\u001B[1;33m\u001B[0m\u001B[0m\n\u001B[0m\u001B[0;32m      2\u001B[0m \u001B[0mplt\u001B[0m\u001B[1;33m.\u001B[0m\u001B[0mfigure\u001B[0m\u001B[1;33m(\u001B[0m\u001B[1;36m1\u001B[0m\u001B[1;33m)\u001B[0m\u001B[1;33m;\u001B[0m\u001B[1;33m\u001B[0m\u001B[1;33m\u001B[0m\u001B[0m\n\u001B[0;32m      3\u001B[0m \u001B[0mplt\u001B[0m\u001B[1;33m.\u001B[0m\u001B[0mtitle\u001B[0m\u001B[1;33m(\u001B[0m\u001B[1;34m'Johnson SU'\u001B[0m\u001B[1;33m)\u001B[0m\u001B[1;33m\u001B[0m\u001B[1;33m\u001B[0m\u001B[0m\n\u001B[0;32m      4\u001B[0m \u001B[0msns\u001B[0m\u001B[1;33m.\u001B[0m\u001B[0mdistplot\u001B[0m\u001B[1;33m(\u001B[0m\u001B[0my\u001B[0m\u001B[1;33m,\u001B[0m \u001B[0mkde\u001B[0m\u001B[1;33m=\u001B[0m\u001B[1;32mFalse\u001B[0m\u001B[1;33m,\u001B[0m \u001B[0mfit\u001B[0m\u001B[1;33m=\u001B[0m\u001B[0mst\u001B[0m\u001B[1;33m.\u001B[0m\u001B[0mjohnsonsu\u001B[0m\u001B[1;33m)\u001B[0m\u001B[1;33m\u001B[0m\u001B[1;33m\u001B[0m\u001B[0m\n\u001B[0;32m      5\u001B[0m \u001B[0mplt\u001B[0m\u001B[1;33m.\u001B[0m\u001B[0mfigure\u001B[0m\u001B[1;33m(\u001B[0m\u001B[1;36m2\u001B[0m\u001B[1;33m)\u001B[0m\u001B[1;33m;\u001B[0m\u001B[1;33m\u001B[0m\u001B[1;33m\u001B[0m\u001B[0m\n",
      "\u001B[1;31mNameError\u001B[0m: name 'train' is not defined"
     ]
    }
   ]
  },
  {
   "metadata": {
    "_uuid": "566694b5562b27dd4218225b8a493f0ac2ac5168",
    "_cell_guid": "b518fe5e-0ffb-4401-8e00-bedcf9caf784",
    "pycharm": {
     "name": "#%% md\n"
    }
   },
   "cell_type": "markdown",
   "source": [
    "It is apparent that SalePrice doesn't follow normal distribution, so before performing regression it has to be transformed. While log transformation does pretty good job, best fit is unbounded Johnson distribution."
   ]
  },
  {
   "cell_type": "code",
   "execution_count": null,
   "outputs": [],
   "source": [
    "from sklearn.preprocessing import StandardScaler, MinMaxScaler\n",
    "\n",
    "sns.distplot(a=train[['SalePrice']], kde=False, fit=st.norm)"
   ],
   "metadata": {
    "collapsed": false,
    "pycharm": {
     "name": "#%%\n"
    }
   }
  },
  {
   "metadata": {
    "_uuid": "ebe6847acfeec1ac098bb3412991589f4dbcac33",
    "_cell_guid": "ce00ec37-6d46-429b-a554-6346825cf63a",
    "trusted": true,
    "pycharm": {
     "name": "#%%\n"
    }
   },
   "cell_type": "code",
   "source": [
    "sns.distplot(train.skew(), color='blue', axlabel='Skewness')"
   ],
   "execution_count": null,
   "outputs": []
  },
  {
   "metadata": {
    "_uuid": "4cdfa5c412260a98bae0e1495b79c5042ad4b90e",
    "_cell_guid": "a53ce1db-2218-4875-a582-0b06b7696a9a",
    "trusted": true,
    "_kg_hide-input": true,
    "pycharm": {
     "name": "#%%\n"
    }
   },
   "cell_type": "code",
   "source": [
    "plt.figure(figsize=(12, 8))\n",
    "sns.distplot(train.kurt(), color='r', axlabel='Kurtosis', norm_hist=False, kde=True, rug=False)\n",
    "#plt.hist(train.kurt(),orientation = 'vertical',histtype = 'bar',label ='Kurtosis', color ='blue')\n",
    "plt.show()"
   ],
   "execution_count": null,
   "outputs": []
  },
  {
   "metadata": {
    "_uuid": "56f52accf94c7aaf86ae26d4c7a1e642a8d4af3a",
    "_cell_guid": "b54fe84e-8c8b-4007-8ce3-4f69770062e8",
    "trusted": true,
    "_kg_hide-input": true,
    "pycharm": {
     "name": "#%%\n"
    }
   },
   "cell_type": "code",
   "source": [
    "plt.hist(train['SalePrice'], orientation='vertical', histtype='bar', color='blue')\n",
    "plt.show()"
   ],
   "execution_count": null,
   "outputs": []
  },
  {
   "metadata": {
    "_uuid": "b2ca045af9133550236376c79f5c254926fbc371",
    "_cell_guid": "6ffde378-b902-4d49-962f-3c9c015319c4",
    "trusted": true,
    "_kg_hide-input": true,
    "pycharm": {
     "name": "#%%\n"
    }
   },
   "cell_type": "code",
   "source": [
    "target = np.log(train['SalePrice'])\n",
    "target.skew()\n",
    "sns.distplot(target, kde=True)"
   ],
   "execution_count": null,
   "outputs": []
  },
  {
   "metadata": {
    "_uuid": "ceb967ad93761c0c4b284bfb8ac53ed6bf8c5fbf",
    "pycharm": {
     "name": "#%% md\n"
    }
   },
   "cell_type": "markdown",
   "source": [
    "Finding Correlation coefficients between numeric features and SalePrice"
   ]
  },
  {
   "metadata": {
    "_uuid": "bd79daafb27e304d3f4d516a61d43ba05860b620",
    "_cell_guid": "dbbf9c71-d0c3-49cb-a023-43191e144ff0",
    "trusted": true,
    "_kg_hide-input": true,
    "pycharm": {
     "name": "#%%\n"
    }
   },
   "cell_type": "code",
   "source": [
    "correlation = numeric_features.corr()\n",
    "print(correlation['SalePrice'].sort_values(ascending=False), '\\n')\n",
    "sns.heatmap(correlation[['SalePrice']])"
   ],
   "execution_count": null,
   "outputs": []
  },
  {
   "metadata": {
    "_uuid": "698f7d6b7579b585de6c1cec507283559eaedb39",
    "_cell_guid": "20168dd5-0687-44c9-b8eb-215ad2f73546",
    "pycharm": {
     "name": "#%% md\n"
    }
   },
   "cell_type": "markdown",
   "source": [
    "To explore further we will start with the following visualisation methods to analyze the data better:\n",
    "\n",
    " - Correlation Heat Map\n",
    " - Zoomed Heat Map\n",
    " - Pair Plot \n",
    " - Scatter Plot"
   ]
  },
  {
   "metadata": {
    "_uuid": "d8aea7cf094d562f868240b7ce1df7526b6df27b",
    "_cell_guid": "6d007b6d-d449-4640-a4e6-14b6bf363157",
    "pycharm": {
     "name": "#%% md\n"
    }
   },
   "cell_type": "markdown",
   "source": [
    "### Correlation Heat Map"
   ]
  },
  {
   "metadata": {
    "_uuid": "1a744afad01b1cd57c0af57ccde8970659d511d9",
    "_cell_guid": "f9b804c1-83bd-4235-9694-c7f3f5bcaeef",
    "trusted": true,
    "_kg_hide-input": true,
    "pycharm": {
     "name": "#%%\n"
    }
   },
   "cell_type": "code",
   "source": [
    "f, ax = plt.subplots(figsize=(14, 12))\n",
    "\n",
    "plt.title('Correlation of Numeric Features with Sale Price', y=1, size=16)\n",
    "\n",
    "sns.heatmap(correlation, square=True, vmax=0.8)"
   ],
   "execution_count": null,
   "outputs": []
  },
  {
   "metadata": {
    "_uuid": "42c198a3246944045a13b78fbd75fcfa0c3212e0",
    "_cell_guid": "24ff5221-2b85-43cf-b7c3-9426ab7ab702",
    "pycharm": {
     "name": "#%% md\n"
    }
   },
   "cell_type": "markdown",
   "source": [
    "The heatmap is the best way to get a quick overview of correlated features thanks to seaborn!\n",
    "\n",
    "At initial glance it is observed that there are two red colored squares that get my attention. \n",
    "1. The first one refers to the 'TotalBsmtSF' and '1stFlrSF' variables.\n",
    "2. Second one refers to the 'GarageX' variables. \n",
    "Both cases show how significant the correlation is between these variables. Actually, this correlation is so strong that it can indicate a situation of multicollinearity. If we think about these variables, we can conclude that they give almost the same information so multicollinearity really occurs. \n",
    "\n",
    "Heatmaps are great to detect this kind of multicollinearity situations and in problems related to feature selection like this project, it comes as an excellent exploratory tool.\n",
    "\n",
    "Another aspect I observed here is the 'SalePrice' correlations.As it is observed that 'GrLivArea', 'TotalBsmtSF', and 'OverallQual' saying a big 'Hello !' to SalePrice, however we cannot exclude the fact that rest of the features have some level of correlation to the SalePrice. To observe this correlation closer let us see it in Zoomed Heat Map "
   ]
  },
  {
   "metadata": {
    "_uuid": "95f708be7785c2b8a8ecf80f8b2a39bb4432519d",
    "_cell_guid": "f0871353-66ad-4f22-b91c-96044d0e5481",
    "pycharm": {
     "name": "#%% md\n"
    }
   },
   "cell_type": "markdown",
   "source": [
    "### Zoomed HeatMap"
   ]
  },
  {
   "metadata": {
    "_uuid": "635775b5fdfeedde3783481ab13db972b94de0c8",
    "_cell_guid": "5cd75c1b-0c69-4fd2-b11b-cb29e6c286bc",
    "pycharm": {
     "name": "#%% md\n"
    }
   },
   "cell_type": "markdown",
   "source": [
    "#### SalePrice Correlation matrix"
   ]
  },
  {
   "metadata": {
    "_uuid": "5848fde3e986b422974d37ea087296a1e1cddc12",
    "_cell_guid": "8ba97896-3cbf-44fb-ac16-9a2517d6d9ab",
    "trusted": true,
    "_kg_hide-input": true,
    "pycharm": {
     "name": "#%%\n"
    }
   },
   "cell_type": "code",
   "source": [
    "k = 11\n",
    "cols = correlation.nlargest(k, 'SalePrice')['SalePrice'].index\n",
    "print(cols)\n",
    "cm = np.corrcoef(train[cols].values.T)\n",
    "f, ax = plt.subplots(figsize=(14, 12))\n",
    "sns.heatmap(cm, vmax=.8, linewidths=0.01, square=True, annot=True, cmap='viridis',\n",
    "            linecolor=\"white\", xticklabels=cols.values, annot_kws={'size': 12}, yticklabels=cols.values)"
   ],
   "execution_count": null,
   "outputs": []
  },
  {
   "metadata": {
    "collapsed": true,
    "_uuid": "6ea895154c10479468984db37b050544311ce410",
    "_cell_guid": "b01f8a5e-4689-4bff-b97b-c21c3a4974cc",
    "pycharm": {
     "name": "#%% md\n"
    }
   },
   "cell_type": "markdown",
   "source": [
    "From above zoomed heatmap it is observed that GarageCars & GarageArea are closely correlated .\n",
    "Similarly TotalBsmtSF and 1stFlrSF are also closely correlated.\n"
   ]
  },
  {
   "metadata": {
    "_uuid": "427d762d8bfc7b0c1a070c8af8fa5ffb5cacfd9e",
    "_cell_guid": "0343c9d9-3d94-4e4c-9ed5-8bf96c0b7462",
    "pycharm": {
     "name": "#%% md\n"
    }
   },
   "cell_type": "markdown",
   "source": [
    "My observations :\n",
    "- 'OverallQual', 'GrLivArea' and 'TotalBsmtSF' are strongly correlated with 'SalePrice'.\n",
    "- 'GarageCars' and 'GarageArea' are strongly correlated variables. It is because the number of cars that fit into the garage is a consequence of the garage area. 'GarageCars' and 'GarageArea' are like twin brothers. So it is hard to distinguish between the two. Therefore, we just need one of these variables in our analysis (we can keep 'GarageCars' since its correlation with 'SalePrice' is higher).\n",
    "- 'TotalBsmtSF' and '1stFloor' also seem to be twins. In this case let us keep 'TotalBsmtSF'\n",
    "- 'TotRmsAbvGrd' and 'GrLivArea', twins\n",
    "- 'YearBuilt' it appears like is slightly correlated with 'SalePrice'. This required more analysis to arrive at a conclusion may be do some time series analysis."
   ]
  },
  {
   "metadata": {
    "_uuid": "fded2e7c2b24ad961bac1cb4011c09c30615546c",
    "_cell_guid": "ec280fdc-f6ab-48d8-b723-2637aca1afa3",
    "pycharm": {
     "name": "#%% md\n"
    }
   },
   "cell_type": "markdown",
   "source": [
    "### Pair Plot "
   ]
  },
  {
   "metadata": {
    "_uuid": "1253a7ddca03e7f5a8af5c926ae8e4a364adc117",
    "_cell_guid": "150475ce-d659-4ec4-a22b-b41fcb1a3df7",
    "pycharm": {
     "name": "#%% md\n"
    }
   },
   "cell_type": "markdown",
   "source": [
    "#### Pair Plot between 'SalePrice' and correlated variables "
   ]
  },
  {
   "metadata": {
    "_uuid": "a4b34c774f9695a85377ae4608804c42cec57161",
    "_cell_guid": "6831c356-56dd-4d82-bdbf-a6120e2af11e",
    "pycharm": {
     "name": "#%% md\n"
    }
   },
   "cell_type": "markdown",
   "source": [
    "Visualisation of 'OverallQual','TotalBsmtSF','GrLivArea','GarageArea','FullBath','YearBuilt','YearRemodAdd' features \n",
    "with respect to SalePrice in the form of pair plot & scatter pair plot for better understanding."
   ]
  },
  {
   "metadata": {
    "_uuid": "0b4f4ab3c201e33d16548220f99ddd86b22fc946",
    "_cell_guid": "383a3200-5802-49ed-b6fd-746d9a6b72f2",
    "trusted": true,
    "_kg_hide-input": true,
    "pycharm": {
     "name": "#%%\n"
    }
   },
   "cell_type": "code",
   "source": [
    "sns.set()\n",
    "columns = ['SalePrice', 'OverallQual', 'TotalBsmtSF', 'GrLivArea', 'GarageArea', 'FullBath', 'YearBuilt',\n",
    "           'YearRemodAdd']\n",
    "sns.pairplot(train[columns], size=2, kind='reg', diag_kind='kde')\n",
    "plt.show()"
   ],
   "execution_count": null,
   "outputs": []
  },
  {
   "metadata": {
    "_uuid": "e1fbc826ab1d617374d99b4e8a8ca986ec13a86c",
    "_cell_guid": "75ec0607-5082-4a93-868e-e5eba8050212",
    "pycharm": {
     "name": "#%% md\n"
    }
   },
   "cell_type": "markdown",
   "source": [
    "Although we already know some of the main figures, this pair plot gives us a reasonable overview insight about the correlated features .Here are some of my analysis.\n",
    "\n",
    "- One interesting observation is between 'TotalBsmtSF' and 'GrLiveArea'. In this figure we can see the dots drawing a linear line, which almost acts like a border. It totally makes sense that the majority of the dots stay below that line. Basement areas can be equal to the above ground living area, but it is not expected a basement area bigger than the above ground living area.\n",
    "\n",
    "- One more interesting observation is between 'SalePrice' and 'YearBuilt'. In the bottom of the 'dots cloud', we see what almost appears to be a exponential function.We can also see this same tendency in the upper limit of the 'dots cloud' \n",
    "- Last observation is that prices are increasing faster now with respect to previous years."
   ]
  },
  {
   "metadata": {
    "_uuid": "a40d73b95e6b08a71737f9c0ed0343bac0f7a48b",
    "_cell_guid": "43b47970-824c-458d-bbd7-f3ba58ca3f0a",
    "pycharm": {
     "name": "#%% md\n"
    }
   },
   "cell_type": "markdown",
   "source": [
    "### Scatter Plot "
   ]
  },
  {
   "metadata": {
    "_uuid": "c90d0665f88e3cdb7e82a87de320f7e20bb0f8c7",
    "_cell_guid": "e9eaeb17-9db7-4ff0-a226-787b656ecfef",
    "pycharm": {
     "name": "#%% md\n"
    }
   },
   "cell_type": "markdown",
   "source": [
    "#### Scatter plots between the most correlated variables"
   ]
  },
  {
   "metadata": {
    "_uuid": "ae2c3cf922aeb7e5adc010d421f9b76cf6c729a8",
    "_cell_guid": "45663c67-1cf7-43b6-9bf2-05c29f40cd31",
    "trusted": true,
    "_kg_hide-input": true,
    "pycharm": {
     "name": "#%%\n"
    }
   },
   "cell_type": "code",
   "source": [
    "fig, ((ax1, ax2), (ax3, ax4), (ax5, ax6)) = plt.subplots(nrows=3, ncols=2, figsize=(14, 10))\n",
    "OverallQual_scatter_plot = pd.concat([train['SalePrice'], train['OverallQual']], axis=1)\n",
    "sns.regplot(x='OverallQual', y='SalePrice', data=OverallQual_scatter_plot, scatter=True, fit_reg=True, ax=ax1)\n",
    "TotalBsmtSF_scatter_plot = pd.concat([train['SalePrice'], train['TotalBsmtSF']], axis=1)\n",
    "sns.regplot(x='TotalBsmtSF', y='SalePrice', data=TotalBsmtSF_scatter_plot, scatter=True, fit_reg=True, ax=ax2)\n",
    "GrLivArea_scatter_plot = pd.concat([train['SalePrice'], train['GrLivArea']], axis=1)\n",
    "sns.regplot(x='GrLivArea', y='SalePrice', data=GrLivArea_scatter_plot, scatter=True, fit_reg=True, ax=ax3)\n",
    "GarageArea_scatter_plot = pd.concat([train['SalePrice'], train['GarageArea']], axis=1)\n",
    "sns.regplot(x='GarageArea', y='SalePrice', data=GarageArea_scatter_plot, scatter=True, fit_reg=True, ax=ax4)\n",
    "FullBath_scatter_plot = pd.concat([train['SalePrice'], train['FullBath']], axis=1)\n",
    "sns.regplot(x='FullBath', y='SalePrice', data=FullBath_scatter_plot, scatter=True, fit_reg=True, ax=ax5)\n",
    "YearBuilt_scatter_plot = pd.concat([train['SalePrice'], train['YearBuilt']], axis=1)\n",
    "sns.regplot(x='YearBuilt', y='SalePrice', data=YearBuilt_scatter_plot, scatter=True, fit_reg=True, ax=ax6)\n",
    "YearRemodAdd_scatter_plot = pd.concat([train['SalePrice'], train['YearRemodAdd']], axis=1)\n",
    "YearRemodAdd_scatter_plot.plot.scatter('YearRemodAdd', 'SalePrice')"
   ],
   "execution_count": null,
   "outputs": []
  },
  {
   "cell_type": "code",
   "execution_count": null,
   "outputs": [],
   "source": [],
   "metadata": {
    "collapsed": false,
    "pycharm": {
     "name": "#%%\n"
    }
   }
  },
  {
   "metadata": {
    "_uuid": "73861f54ca9258a0436a883652e8ff7ae01abb67",
    "_cell_guid": "fbfae625-5530-4f4d-9bff-2753f97a4852",
    "trusted": true,
    "_kg_hide-input": true,
    "pycharm": {
     "name": "#%%\n"
    }
   },
   "cell_type": "code",
   "source": [
    "saleprice_overall_quality = train.pivot_table(index='OverallQual', values='SalePrice', aggfunc=np.median)\n",
    "saleprice_overall_quality.plot(kind='bar', color='blue')\n",
    "plt.xlabel('Overall Quality')\n",
    "plt.ylabel('Median Sale Price')\n",
    "plt.show()"
   ],
   "execution_count": null,
   "outputs": []
  },
  {
   "cell_type": "code",
   "execution_count": null,
   "outputs": [],
   "source": [
    "sns.barplot(data=train, x='OverallQual', y='SalePrice')"
   ],
   "metadata": {
    "collapsed": false,
    "pycharm": {
     "name": "#%%\n"
    }
   }
  },
  {
   "cell_type": "code",
   "execution_count": null,
   "outputs": [],
   "source": [
    "sns.boxplot(data=train, x='OverallQual', y='SalePrice')"
   ],
   "metadata": {
    "collapsed": false,
    "pycharm": {
     "name": "#%%\n"
    }
   }
  },
  {
   "cell_type": "code",
   "execution_count": 7,
   "outputs": [
    {
     "ename": "NameError",
     "evalue": "name 'sns' is not defined",
     "output_type": "error",
     "traceback": [
      "\u001B[1;31m---------------------------------------------------------------------------\u001B[0m",
      "\u001B[1;31mNameError\u001B[0m                                 Traceback (most recent call last)",
      "\u001B[1;32m~\\AppData\\Local\\Temp/ipykernel_2344/3226493096.py\u001B[0m in \u001B[0;36m<module>\u001B[1;34m\u001B[0m\n\u001B[1;32m----> 1\u001B[1;33m \u001B[0msns\u001B[0m\u001B[1;33m.\u001B[0m\u001B[0mcountplot\u001B[0m\u001B[1;33m(\u001B[0m\u001B[0mdata\u001B[0m\u001B[1;33m=\u001B[0m\u001B[0mtrain\u001B[0m\u001B[1;33m,\u001B[0m\u001B[0mx\u001B[0m\u001B[1;33m=\u001B[0m\u001B[1;34m'Neighborhood'\u001B[0m\u001B[1;33m)\u001B[0m\u001B[1;33m\u001B[0m\u001B[1;33m\u001B[0m\u001B[0m\n\u001B[0m\u001B[0;32m      2\u001B[0m \u001B[0mplt\u001B[0m\u001B[1;33m.\u001B[0m\u001B[0mxticks\u001B[0m\u001B[1;33m(\u001B[0m\u001B[0mrotation\u001B[0m\u001B[1;33m=\u001B[0m\u001B[1;36m45\u001B[0m\u001B[1;33m)\u001B[0m\u001B[1;33m\u001B[0m\u001B[1;33m\u001B[0m\u001B[0m\n",
      "\u001B[1;31mNameError\u001B[0m: name 'sns' is not defined"
     ]
    }
   ],
   "source": [
    "sns.countplot(data=train, x='Neighborhood')\n",
    "plt.xticks(rotation=45)"
   ],
   "metadata": {
    "collapsed": false,
    "pycharm": {
     "name": "#%%\n"
    }
   }
  },
  {
   "cell_type": "code",
   "execution_count": 11,
   "outputs": [
    {
     "data": {
      "text/plain": "<AxesSubplot:xlabel='SaleCondition', ylabel='SalePrice'>"
     },
     "execution_count": 11,
     "metadata": {},
     "output_type": "execute_result"
    },
    {
     "data": {
      "text/plain": "<Figure size 432x288 with 1 Axes>",
      "image/png": "[encoded data removed]"
     },
     "metadata": {},
     "output_type": "display_data"
    }
   ],
   "source": [
    "import seaborn as sns\n",
    "\n",
    "sns.violinplot(x='SaleCondition', y=\"SalePrice\", data=train)"
   ],
   "metadata": {
    "collapsed": false,
    "pycharm": {
     "name": "#%%\n"
    }
   }
  },
  {
   "cell_type": "code",
   "execution_count": 12,
   "outputs": [
    {
     "name": "stderr",
     "output_type": "stream",
     "text": [
      "d:\\project\\python\\.venv\\lib\\site-packages\\seaborn\\categorical.py:3717: UserWarning: The `factorplot` function has been renamed to `catplot`. The original name will be removed in a future release. Please update your code. Note that the default `kind` in `factorplot` (`'point'`) has changed `'strip'` in `catplot`.\n",
      "  warnings.warn(msg)\n"
     ]
    },
    {
     "data": {
      "text/plain": "<seaborn.axisgrid.FacetGrid at 0x22726659970>"
     },
     "execution_count": 12,
     "metadata": {},
     "output_type": "execute_result"
    },
    {
     "data": {
      "text/plain": "<Figure size 360x360 with 1 Axes>",
      "image/png": "[encoded data removed]"
     },
     "metadata": {},
     "output_type": "display_data"
    }
   ],
   "source": [
    "sns.factorplot(x='FireplaceQu', y='SalePrice', data=train)"
   ],
   "metadata": {
    "collapsed": false,
    "pycharm": {
     "name": "#%%\n"
    }
   }
  },
  {
   "cell_type": "code",
   "execution_count": 16,
   "outputs": [
    {
     "data": {
      "text/plain": "[Text(0, 0, 'CollgCr'),\n Text(1, 0, 'Veenker'),\n Text(2, 0, 'Crawfor'),\n Text(3, 0, 'NoRidge'),\n Text(4, 0, 'Mitchel'),\n Text(5, 0, 'Somerst'),\n Text(6, 0, 'NWAmes'),\n Text(7, 0, 'OldTown'),\n Text(8, 0, 'BrkSide'),\n Text(9, 0, 'Sawyer'),\n Text(10, 0, 'NridgHt'),\n Text(11, 0, 'NAmes'),\n Text(12, 0, 'SawyerW'),\n Text(13, 0, 'IDOTRR'),\n Text(14, 0, 'MeadowV'),\n Text(15, 0, 'Edwards'),\n Text(16, 0, 'Timber'),\n Text(17, 0, 'Gilbert'),\n Text(18, 0, 'StoneBr'),\n Text(19, 0, 'ClearCr'),\n Text(20, 0, 'NPkVill'),\n Text(21, 0, 'Blmngtn'),\n Text(22, 0, 'BrDale'),\n Text(23, 0, 'SWISU'),\n Text(24, 0, 'Blueste')]"
     },
     "execution_count": 16,
     "metadata": {},
     "output_type": "execute_result"
    },
    {
     "data": {
      "text/plain": "<Figure size 432x288 with 1 Axes>",
      "image/png": "[encoded data removed]"
     },
     "metadata": {},
     "output_type": "display_data"
    }
   ],
   "source": [
    "g1=sns.pointplot(x='Neighborhood', y='SalePrice',\n",
    "                   data=train, hue='LotShape')\n",
    "g1.set_xticklabels(g1.get_xticklabels(),rotation=90)"
   ],
   "metadata": {
    "collapsed": false,
    "pycharm": {
     "name": "#%%\n"
    }
   }
  },
  {
   "cell_type": "code",
   "execution_count": 58,
   "outputs": [
    {
     "data": {
      "text/plain": "<AxesSubplot:xlabel='SaleCondition', ylabel='SalePrice'>"
     },
     "execution_count": 58,
     "metadata": {},
     "output_type": "execute_result"
    },
    {
     "data": {
      "text/plain": "<Figure size 432x288 with 1 Axes>",
      "image/png": "[encoded data removed]"
     },
     "metadata": {},
     "output_type": "display_data"
    }
   ],
   "source": [
    "sns.boxplot(x='SaleCondition', y=\"SalePrice\", data=train)"
   ],
   "metadata": {
    "collapsed": false,
    "pycharm": {
     "name": "#%%\n"
    }
   }
  },
  {
   "cell_type": "code",
   "execution_count": null,
   "outputs": [],
   "source": [],
   "metadata": {
    "collapsed": false,
    "pycharm": {
     "name": "#%%\n"
    }
   }
  },
  {
   "cell_type": "code",
   "execution_count": 51,
   "outputs": [
    {
     "data": {
      "text/plain": "Index(['1stFlrSF', '2ndFlrSF', '3SsnPorch', 'Alley', 'BedroomAbvGr',\n       'BldgType', 'BsmtCond', 'BsmtExposure', 'BsmtFinSF1', 'BsmtFinSF2',\n       'BsmtFinType1', 'BsmtFinType2', 'BsmtFullBath', 'BsmtHalfBath',\n       'BsmtQual', 'BsmtUnfSF', 'CentralAir', 'Condition1', 'Condition2',\n       'Electrical', 'EnclosedPorch', 'ExterCond', 'ExterQual', 'Exterior1st',\n       'Exterior2nd', 'Fence', 'FireplaceQu', 'Fireplaces', 'Foundation',\n       'FullBath', 'Functional', 'GarageArea', 'GarageCars', 'GarageCond',\n       'GarageFinish', 'GarageQual', 'GarageType', 'GarageYrBlt', 'GrLivArea',\n       'HalfBath', 'Heating', 'HeatingQC', 'HouseStyle', 'Id', 'KitchenAbvGr',\n       'KitchenQual', 'LandContour', 'LandSlope', 'LotArea', 'LotConfig',\n       'LotFrontage', 'LotShape', 'LowQualFinSF', 'MSSubClass', 'MSZoning',\n       'MasVnrArea', 'MasVnrType', 'MiscFeature', 'MiscVal', 'MoSold',\n       'Neighborhood', 'OpenPorchSF', 'OverallCond', 'OverallQual',\n       'PavedDrive', 'PoolArea', 'PoolQC', 'RoofMatl', 'RoofStyle',\n       'SaleCondition', 'SalePrice', 'SaleType', 'ScreenPorch', 'Street',\n       'TotRmsAbvGrd', 'TotalBsmtSF', 'Utilities', 'WoodDeckSF', 'YearBuilt',\n       'YearRemodAdd', 'YrSold'],\n      dtype='object')"
     },
     "execution_count": 51,
     "metadata": {},
     "output_type": "execute_result"
    }
   ],
   "source": [
    "train.columns.sort_values()"
   ],
   "metadata": {
    "collapsed": false,
    "pycharm": {
     "name": "#%%\n"
    }
   }
  },
  {
   "metadata": {
    "_uuid": "bd4b5b7e35906a30705da6daeb2d9922fe58ec67",
    "_cell_guid": "60236389-7586-44ad-8cf9-6e653a25b77f",
    "pycharm": {
     "name": "#%% md\n"
    }
   },
   "cell_type": "markdown",
   "source": [
    "#### Box plot - OverallQual"
   ]
  },
  {
   "metadata": {
    "_uuid": "1215daae5c679efa0a3c105df6c0a242a4bdb702",
    "_cell_guid": "11698815-d39a-430d-8f18-c4e6dd036309",
    "trusted": true,
    "_kg_hide-input": true,
    "pycharm": {
     "name": "#%%\n"
    }
   },
   "cell_type": "code",
   "source": [
    "var = 'OverallQual'\n",
    "data = pd.concat([train['SalePrice'], train[var]], axis=1)\n",
    "f, ax = plt.subplots(figsize=(12, 8))\n",
    "fig = sns.boxplot(x=var, y=\"SalePrice\", data=data)\n",
    "fig.axis(ymin=0, ymax=800000);"
   ],
   "execution_count": null,
   "outputs": []
  },
  {
   "metadata": {
    "_uuid": "390620a2d3da51cf5a6a3b4b7aa46b7c1888b829",
    "_cell_guid": "5e4fe63b-957f-4e79-a182-922ce8a0b956",
    "pycharm": {
     "name": "#%% md\n"
    }
   },
   "cell_type": "markdown",
   "source": [
    "#### Box plot - Neighborhood"
   ]
  },
  {
   "metadata": {
    "_uuid": "424a71f9cd47d3ce53c71031faf5ef55977e1c96",
    "_cell_guid": "9eb4c2c7-3e14-415a-bdcf-329b2d86dce1",
    "trusted": true,
    "_kg_hide-input": true,
    "pycharm": {
     "name": "#%%\n"
    }
   },
   "cell_type": "code",
   "source": [
    "var = 'Neighborhood'\n",
    "data = pd.concat([train['SalePrice'], train[var]], axis=1)\n",
    "f, ax = plt.subplots(figsize=(16, 10))\n",
    "fig = sns.boxplot(x=var, y=\"SalePrice\", data=data)\n",
    "fig.axis(ymin=0, ymax=800000);\n",
    "xt = plt.xticks(rotation=45)"
   ],
   "execution_count": null,
   "outputs": []
  },
  {
   "metadata": {
    "_uuid": "254284900b923766383e6c9861dfe76f20b64f86",
    "_cell_guid": "d8b8f23f-4290-424d-b682-9f964a2fb777",
    "pycharm": {
     "name": "#%% md\n"
    }
   },
   "cell_type": "markdown",
   "source": [
    "#### Count Plot - Neighborhood"
   ]
  },
  {
   "metadata": {
    "_uuid": "a03e71cb47f79fa9146ac63749855ca7f0fd9ba9",
    "_cell_guid": "a7250493-ede0-44bc-9b76-1b19a3c5a802",
    "trusted": true,
    "_kg_hide-input": true,
    "pycharm": {
     "name": "#%%\n"
    }
   },
   "cell_type": "code",
   "source": [
    "plt.figure(figsize=(12, 6))\n",
    "sns.countplot(x='Neighborhood', data=data)\n",
    "xt = plt.xticks(rotation=45)"
   ],
   "execution_count": null,
   "outputs": []
  },
  {
   "metadata": {
    "_uuid": "32ab0ec5151ab637a9291ec04b8d216d761d8f37",
    "_cell_guid": "21406571-4ba7-46df-a2ef-81dba70c4752",
    "pycharm": {
     "name": "#%% md\n"
    }
   },
   "cell_type": "markdown",
   "source": [
    "Based on the above observation can group those Neighborhoods with similar housing price into a same bucket for dimension-reduction.Let us see this in the preprocessing stage"
   ]
  },
  {
   "metadata": {
    "_uuid": "201a4bc17ec51a8be7a15e516c16d65ba29fc169",
    "_cell_guid": "03438145-f701-4be6-8013-5500928176e8",
    "pycharm": {
     "name": "#%% md\n"
    }
   },
   "cell_type": "markdown",
   "source": [
    "With qualitative variables we can check distribution of SalePrice with respect to variable values and enumerate them. "
   ]
  },
  {
   "metadata": {
    "_uuid": "4739c0cbd884a218c66f30d4542e734f7907e640",
    "_cell_guid": "81fd3e3f-3904-43a1-943b-aac1d3491916",
    "trusted": true,
    "_kg_hide-input": true,
    "pycharm": {
     "name": "#%%\n"
    }
   },
   "cell_type": "code",
   "source": [
    "for c in categorical_features:\n",
    "    train[c] = train[c].astype('category')\n",
    "    if train[c].isnull().any():\n",
    "        train[c] = train[c].cat.add_categories(['MISSING'])\n",
    "        train[c] = train[c].fillna('MISSING')\n",
    "\n",
    "\n",
    "def boxplot(x, y, **kwargs):\n",
    "    sns.boxplot(x=x, y=y)\n",
    "    x = plt.xticks(rotation=90)\n",
    "\n",
    "\n",
    "f = pd.melt(train, id_vars=['SalePrice'], value_vars=categorical_features)\n",
    "g = sns.FacetGrid(f, col=\"variable\", col_wrap=2, sharex=False, sharey=False, size=5)\n",
    "g = g.map(boxplot, \"value\", \"SalePrice\")"
   ],
   "execution_count": null,
   "outputs": []
  },
  {
   "metadata": {
    "_uuid": "aee82ff9b9161e3f2c3d12d6e43d2cc9b7b205ed",
    "_cell_guid": "aee8b813-e950-44a1-b168-fabdd3129304",
    "pycharm": {
     "name": "#%% md\n"
    }
   },
   "cell_type": "markdown",
   "source": [
    "#### Housing Price vs Sales\n",
    "\n",
    "- Sale Type & Condition\n",
    "- Sales Seasonality"
   ]
  },
  {
   "metadata": {
    "_uuid": "3fc4c95558d65bc83b46678662d8e8daaf319b4f",
    "_cell_guid": "92da604e-2e8d-44d6-9b34-ef7d6031699a",
    "trusted": true,
    "_kg_hide-input": true,
    "pycharm": {
     "name": "#%%\n"
    }
   },
   "cell_type": "code",
   "source": [
    "var = 'SaleType'\n",
    "data = pd.concat([train['SalePrice'], train[var]], axis=1)\n",
    "f, ax = plt.subplots(figsize=(16, 10))\n",
    "fig = sns.boxplot(x=var, y=\"SalePrice\", data=data)\n",
    "fig.axis(ymin=0, ymax=800000);\n",
    "xt = plt.xticks(rotation=45)"
   ],
   "execution_count": null,
   "outputs": []
  },
  {
   "metadata": {
    "_uuid": "1516987a7463f4e9578e35b9597ff256c8489b7b",
    "_cell_guid": "843a1c07-489c-463b-acdc-083fb8583c7c",
    "trusted": true,
    "_kg_hide-input": true,
    "pycharm": {
     "name": "#%%\n"
    }
   },
   "cell_type": "code",
   "source": [
    "var = 'SaleCondition'\n",
    "data = pd.concat([train['SalePrice'], train[var]], axis=1)\n",
    "f, ax = plt.subplots(figsize=(16, 10))\n",
    "fig = sns.boxplot(x=var, y=\"SalePrice\", data=data)\n",
    "fig.axis(ymin=0, ymax=800000);\n",
    "xt = plt.xticks(rotation=45)"
   ],
   "execution_count": null,
   "outputs": []
  },
  {
   "metadata": {
    "_uuid": "f9e232f36eaf38aec59a185721ad309184e58a35",
    "_cell_guid": "6611f2ab-b7a2-43e4-b3e6-21e14fe73d6b",
    "pycharm": {
     "name": "#%% md\n"
    }
   },
   "cell_type": "markdown",
   "source": [
    "#### ViolinPlot - Functional vs.SalePrice"
   ]
  },
  {
   "metadata": {
    "_uuid": "7d80483177d6cf19ee309de7bb1ee2e578683abc",
    "_cell_guid": "5b83f3d8-167b-48ef-b883-f6b0173da8ce",
    "trusted": true,
    "_kg_hide-input": true,
    "pycharm": {
     "name": "#%%\n"
    }
   },
   "cell_type": "code",
   "source": [
    "sns.violinplot('Functional', 'SalePrice', data=train)"
   ],
   "execution_count": null,
   "outputs": []
  },
  {
   "metadata": {
    "_uuid": "3efd140248ee17945535011b1cfd15d1cde3a426",
    "_cell_guid": "453e3071-bb14-4ac0-86b0-10593d22e86e",
    "pycharm": {
     "name": "#%% md\n"
    }
   },
   "cell_type": "markdown",
   "source": [
    "#### FactorPlot - FirePlaceQC vs. SalePrice "
   ]
  },
  {
   "metadata": {
    "_uuid": "3bf775a79da18322e9c21e29753b921c77fee41f",
    "_cell_guid": "ef68a2a8-5bb2-4eb9-a29e-621c125a5e1c",
    "trusted": true,
    "_kg_hide-input": true,
    "pycharm": {
     "name": "#%%\n"
    }
   },
   "cell_type": "code",
   "source": [
    "sns.factorplot('FireplaceQu', 'SalePrice', data=train, color='m',\n",
    "               estimator=np.median, order=['Ex', 'Gd', 'TA', 'Fa', 'Po'], size=4.5, aspect=1.35)"
   ],
   "execution_count": null,
   "outputs": []
  },
  {
   "metadata": {
    "_uuid": "3413a2066e3c1a32b2f7606c3697456238df7e2c",
    "_cell_guid": "0062044d-f41c-47ba-ad30-cd860078f754",
    "pycharm": {
     "name": "#%% md\n"
    }
   },
   "cell_type": "markdown",
   "source": [
    "#### Facet Grid Plot - FirePlace QC vs.SalePrice"
   ]
  },
  {
   "metadata": {
    "_uuid": "1dacec820db8f4ec7df6ef1b77d9da374e6eeee6",
    "_cell_guid": "5f6bf958-7362-4ac3-ae0d-8a46d91bd56b",
    "trusted": true,
    "_kg_hide-input": true,
    "pycharm": {
     "name": "#%%\n"
    }
   },
   "cell_type": "code",
   "source": [
    "g = sns.FacetGrid(train, col='FireplaceQu', col_wrap=3, col_order=['Ex', 'Gd', 'TA', 'Fa', 'Po'])\n",
    "g.map(sns.boxplot, 'Fireplaces', 'SalePrice', order=[1, 2, 3], palette='Set2')"
   ],
   "execution_count": null,
   "outputs": []
  },
  {
   "metadata": {
    "_uuid": "eb521993857e316c212e5568f171ed4fa291cc3f",
    "_cell_guid": "696f66a2-ed1e-40d7-8064-57d37ade15ac",
    "pycharm": {
     "name": "#%% md\n"
    }
   },
   "cell_type": "markdown",
   "source": [
    "#### PointPlot"
   ]
  },
  {
   "metadata": {
    "_uuid": "720a7ea3951edfdfd86767ab9420104699ad96b9",
    "_cell_guid": "b3994d3d-9d7f-4b37-b5f6-fae73c02b769",
    "trusted": true,
    "_kg_hide-input": true,
    "pycharm": {
     "name": "#%%\n"
    }
   },
   "cell_type": "code",
   "source": [
    "plt.figure(figsize=(8, 10))\n",
    "g1 = sns.pointplot(x='Neighborhood', y='SalePrice',\n",
    "                   data=train, hue='LotShape')\n",
    "g1.set_xticklabels(g1.get_xticklabels(), rotation=90)\n",
    "g1.set_title(\"Lotshape Based on Neighborhood\", fontsize=15)\n",
    "g1.set_xlabel(\"Neighborhood\")\n",
    "g1.set_ylabel(\"Sale Price\", fontsize=12)\n",
    "plt.show()"
   ],
   "execution_count": null,
   "outputs": []
  },
  {
   "metadata": {
    "collapsed": true,
    "_uuid": "f88212e983f09c980452733f5debde9e44d80794",
    "_cell_guid": "723e62e1-39a8-4ee7-8835-627f4958c34f",
    "pycharm": {
     "name": "#%% md\n"
    }
   },
   "cell_type": "markdown",
   "source": [
    " ### Missing Value Analysis \n",
    " \n",
    " #### Numeric Features"
   ]
  },
  {
   "metadata": {
    "_uuid": "385f4d83f07bb6fc42b27aa4a39e86e4805cc002",
    "_cell_guid": "670ed815-9b92-4309-bad6-0b8722339e9b",
    "trusted": true,
    "_kg_hide-input": true,
    "pycharm": {
     "name": "#%%\n"
    }
   },
   "cell_type": "code",
   "source": [
    "total = numeric_features.isnull().sum().sort_values(ascending=False)\n",
    "percent = (numeric_features.isnull().sum() / numeric_features.isnull().count()).sort_values(ascending=False)\n",
    "missing_data = pd.concat([total, percent], axis=1, join='outer',\n",
    "                         keys=['Total Missing Count', '% of Total Observations'])\n",
    "missing_data.index.name = ' Numeric Feature'\n",
    "\n",
    "missing_data.head(20)"
   ],
   "execution_count": null,
   "outputs": []
  },
  {
   "metadata": {
    "_uuid": "ed073e558ce356c3df9669d251ee08e40e55e994",
    "_cell_guid": "e1c061c9-d91f-45e1-b200-ef3e46fade4e",
    "pycharm": {
     "name": "#%% md\n"
    }
   },
   "cell_type": "markdown",
   "source": [
    "#### Missing values for all numeric features in Bar chart Representation"
   ]
  },
  {
   "metadata": {
    "_uuid": "3ca9eb09871f603575b7387b3c8b5594e97caf09",
    "_cell_guid": "d6af5aff-c211-485e-96ae-b10dc7b49a47",
    "trusted": true,
    "_kg_hide-input": true,
    "pycharm": {
     "name": "#%%\n"
    }
   },
   "cell_type": "code",
   "source": [
    "missing_values = numeric_features.isnull().sum(axis=0).reset_index()\n",
    "missing_values.columns = ['column_name', 'missing_count']\n",
    "missing_values = missing_values.loc[missing_values['missing_count'] > 0]\n",
    "missing_values = missing_values.sort_values(by='missing_count')\n",
    "\n",
    "ind = np.arange(missing_values.shape[0])\n",
    "width = 0.1\n",
    "fig, ax = plt.subplots(figsize=(12, 3))\n",
    "rects = ax.barh(ind, missing_values.missing_count.values, color='b')\n",
    "ax.set_yticks(ind)\n",
    "ax.set_yticklabels(missing_values.column_name.values, rotation='horizontal')\n",
    "ax.set_xlabel(\"Missing Observations Count\")\n",
    "ax.set_title(\"Missing Observations Count - Numeric Features\")\n",
    "plt.show()\n"
   ],
   "execution_count": null,
   "outputs": []
  },
  {
   "metadata": {
    "_uuid": "d685e3462dca3e5fdf621a23a38370ec4f344793",
    "_cell_guid": "26b22480-6458-45fe-b084-1f3baad48e80",
    "pycharm": {
     "name": "#%% md\n"
    }
   },
   "cell_type": "markdown",
   "source": [
    "#### Categorical Features"
   ]
  },
  {
   "metadata": {
    "_uuid": "17c5c29c76b65f60d60dc2c70bc0b2fe97a4e161",
    "_cell_guid": "f05b1afc-d461-4ca9-a99d-bb9e8cfcfb03",
    "trusted": true,
    "_kg_hide-input": true,
    "pycharm": {
     "name": "#%%\n"
    }
   },
   "cell_type": "code",
   "source": [
    "total = categorical_features.isnull().sum().sort_values(ascending=False)\n",
    "percent = (categorical_features.isnull().sum() / categorical_features.isnull().count()).sort_values(ascending=False)\n",
    "missing_data = pd.concat([total, percent], axis=1, join='outer',\n",
    "                         keys=['Total Missing Count', ' % of Total Observations'])\n",
    "missing_data.index.name = 'Feature'\n",
    "missing_data.head(20)"
   ],
   "execution_count": null,
   "outputs": []
  },
  {
   "metadata": {
    "_uuid": "a9ab4c6dec56c45f57c1215be20d4e2a5c897f41",
    "_cell_guid": "418f6df4-029d-474e-9e04-d01fd2e7cf13",
    "pycharm": {
     "name": "#%% md\n"
    }
   },
   "cell_type": "markdown",
   "source": [
    "#### Missing values for  Categorical features in Bar chart Representation"
   ]
  },
  {
   "metadata": {
    "_uuid": "b299712333d51888e872d43a35f494c89d2b2545",
    "_cell_guid": "3143b910-b3ea-437c-a461-2e48879ef861",
    "trusted": true,
    "_kg_hide-input": true,
    "pycharm": {
     "name": "#%%\n"
    }
   },
   "cell_type": "code",
   "source": [
    "missing_values = categorical_features.isnull().sum(axis=0).reset_index()\n",
    "missing_values.columns = ['column_name', 'missing_count']\n",
    "missing_values = missing_values.loc[missing_values['missing_count'] > 0]\n",
    "missing_values = missing_values.sort_values(by='missing_count')\n",
    "\n",
    "ind = np.arange(missing_values.shape[0])\n",
    "width = 0.9\n",
    "fig, ax = plt.subplots(figsize=(12, 18))\n",
    "rects = ax.barh(ind, missing_values.missing_count.values, color='red')\n",
    "ax.set_yticks(ind)\n",
    "ax.set_yticklabels(missing_values.column_name.values, rotation='horizontal')\n",
    "ax.set_xlabel(\"Missing Observations Count\")\n",
    "ax.set_title(\"Missing Observations Count - Categorical Features\")\n",
    "plt.show()"
   ],
   "execution_count": null,
   "outputs": []
  },
  {
   "metadata": {
    "_uuid": "ed30cd6e9cc3465fd9c68585db98bdefbafc9df8",
    "_cell_guid": "d51705f6-0273-48c8-99aa-a0e20bcf274d",
    "pycharm": {
     "name": "#%% md\n"
    }
   },
   "cell_type": "markdown",
   "source": [
    "### Categorical Feature Exploration"
   ]
  },
  {
   "metadata": {
    "_uuid": "eeb1f5e669ee8e4fe9ba3f60ae17cf364c87025e",
    "_cell_guid": "909af378-cab0-4571-bb6b-95b46c54cd91",
    "trusted": true,
    "_kg_hide-input": true,
    "pycharm": {
     "name": "#%%\n"
    }
   },
   "cell_type": "code",
   "source": [
    "for column_name in train.columns:\n",
    "    if train[column_name].dtypes == 'object':\n",
    "        train[column_name] = train[column_name].fillna(train[column_name].mode().iloc[0])\n",
    "        unique_category = len(train[column_name].unique())\n",
    "        print(\"Feature '{column_name}' has '{unique_category}' unique categories\".format(column_name=column_name,\n",
    "                                                                                         unique_category=unique_category))\n",
    "\n",
    "for column_name in test.columns:\n",
    "    if test[column_name].dtypes == 'object':\n",
    "        test[column_name] = test[column_name].fillna(test[column_name].mode().iloc[0])\n",
    "        unique_category = len(test[column_name].unique())\n",
    "        print(\"Features in test set '{column_name}' has '{unique_category}' unique categories\".format(\n",
    "            column_name=column_name, unique_category=unique_category))"
   ],
   "execution_count": null,
   "outputs": []
  }
 ],
 "metadata": {
  "kernelspec": {
   "display_name": "Python 3",
   "language": "python",
   "name": "python3"
  },
  "language_info": {
   "name": "python",
   "version": "3.6.6",
   "mimetype": "text/x-python",
   "codemirror_mode": {
    "name": "ipython",
    "version": 3
   },
   "pygments_lexer": "ipython3",
   "nbconvert_exporter": "python",
   "file_extension": ".py"
  }
 },
 "nbformat": 4,
 "nbformat_minor": 1
}