{
 "metadata": {
  "kernelspec": {
   "language": "python",
   "display_name": "Python 3",
   "name": "python3"
  },
  "language_info": {
   "name": "python",
   "version": "3.7.12",
   "mimetype": "text/x-python",
   "codemirror_mode": {
    "name": "ipython",
    "version": 3
   },
   "pygments_lexer": "ipython3",
   "nbconvert_exporter": "python",
   "file_extension": ".py"
  }
 },
 "nbformat_minor": 4,
 "nbformat": 4,
 "cells": [
  {
   "cell_type": "code",
   "source": [
    "!pip install ray[tune] tune-sklearn"
   ],
   "metadata": {
    "pycharm": {
     "name": "#%%\n"
    },
    "execution": {
     "iopub.status.busy": "2022-05-19T01:28:25.163297Z",
     "iopub.execute_input": "2022-05-19T01:28:25.163604Z",
     "iopub.status.idle": "2022-05-19T01:28:37.687810Z",
     "shell.execute_reply.started": "2022-05-19T01:28:25.163523Z",
     "shell.execute_reply": "2022-05-19T01:28:37.686766Z"
    },
    "trusted": true
   },
   "execution_count": 1,
   "outputs": []
  },
  {
   "cell_type": "code",
   "source": [
    "import torch\n",
    "from sklearn.svm import SVR\n",
    "from sklearn.pipeline import Pipeline\n",
    "from sklearn.model_selection import train_test_split\n",
    "import numpy as np\n",
    "from sklearn.metrics import make_scorer, mean_squared_log_error, mean_absolute_error, mean_absolute_percentage_error, mean_squared_error\n",
    "from sklearn.preprocessing import StandardScaler\n",
    "from sklearn.model_selection import cross_validate, cross_val_score\n",
    "from sklearn.model_selection import StratifiedKFold\n",
    "from sklearn.tree import DecisionTreeClassifier\n",
    "from sklearn.ensemble import RandomForestClassifier, BaggingRegressor\n",
    "\n",
    "data, y = torch.load('data/house_price_v2.pkl')\n",
    "train_data, test_data = data[:len(y)], data[len(y):]\n",
    "\n",
    "np.random.seed(42)\n",
    "\n",
    "std = StandardScaler()\n",
    "model = BaggingRegressor(base_estimator=SVR())\n",
    "pipe = Pipeline(\n",
    "    [('std', std),\n",
    "     ('model', model)]\n",
    ")\n",
    "\n",
    "cross_val_score(pipe, train_data, y, cv=10, scoring=make_scorer(mean_squared_error, greater_is_better=False), n_jobs=-1,\n",
    "                verbose=1).mean()\n"
   ],
   "metadata": {
    "pycharm": {
     "name": "#%%\n"
    },
    "execution": {
     "iopub.status.busy": "2022-05-19T01:28:37.689741Z",
     "iopub.execute_input": "2022-05-19T01:28:37.690538Z",
     "iopub.status.idle": "2022-05-19T01:28:40.622474Z",
     "shell.execute_reply.started": "2022-05-19T01:28:37.690498Z",
     "shell.execute_reply": "2022-05-19T01:28:40.621606Z"
    },
    "trusted": true
   },
   "execution_count": 1,
   "outputs": [
    {
     "name": "stderr",
     "output_type": "stream",
     "text": [
      "[Parallel(n_jobs=-1)]: Using backend LokyBackend with 16 concurrent workers.\n",
      "[Parallel(n_jobs=-1)]: Done  10 out of  10 | elapsed:    5.2s finished\n"
     ]
    },
    {
     "data": {
      "text/plain": "-0.03807787487348134"
     },
     "execution_count": 1,
     "metadata": {},
     "output_type": "execute_result"
    }
   ]
  },
  {
   "cell_type": "code",
   "source": [
    "# 超参数搜索\n",
    "from ray import tune\n",
    "# from ray.tune.sklearn import TuneSearchCV\n",
    "from sklearn.experimental import enable_halving_search_cv\n",
    "from sklearn.model_selection import HalvingRandomSearchCV\n",
    "from scipy.stats import randint, loguniform\n",
    "\n",
    "param = {\n",
    "    'model__n_estimators': randint(1, 500),\n",
    "    # 集成器参数，越多模型越复杂\n",
    "    'model__base_estimator__C': loguniform(1e-2, 100),\n",
    "    'model__base_estimator__gamma': loguniform(1e-6, 1),\n",
    "}\n",
    "\n",
    "optim = HalvingRandomSearchCV(pipe, param, cv=10, n_jobs=-1, verbose=1,\n",
    "                              scoring=make_scorer(mean_squared_error, greater_is_better=False))\n",
    "optim.fit(train_data, y)"
   ],
   "metadata": {
    "collapsed": false,
    "pycharm": {
     "name": "#%%\n"
    },
    "jupyter": {
     "outputs_hidden": false
    },
    "execution": {
     "iopub.status.busy": "2022-05-19T01:29:26.554514Z",
     "iopub.execute_input": "2022-05-19T01:29:26.554835Z"
    },
    "trusted": true
   },
   "execution_count": 2,
   "outputs": [
    {
     "name": "stdout",
     "output_type": "stream",
     "text": [
      "n_iterations: 4\n",
      "n_required_iterations: 4\n",
      "n_possible_iterations: 4\n",
      "min_resources_: 20\n",
      "max_resources_: 1460\n",
      "aggressive_elimination: False\n",
      "factor: 3\n",
      "----------\n",
      "iter: 0\n",
      "n_candidates: 73\n",
      "n_resources: 20\n",
      "Fitting 10 folds for each of 73 candidates, totalling 730 fits\n",
      "----------\n",
      "iter: 1\n",
      "n_candidates: 25\n",
      "n_resources: 60\n",
      "Fitting 10 folds for each of 25 candidates, totalling 250 fits\n",
      "----------\n",
      "iter: 2\n",
      "n_candidates: 9\n",
      "n_resources: 180\n",
      "Fitting 10 folds for each of 9 candidates, totalling 90 fits\n",
      "----------\n",
      "iter: 3\n",
      "n_candidates: 3\n",
      "n_resources: 540\n",
      "Fitting 10 folds for each of 3 candidates, totalling 30 fits\n"
     ]
    },
    {
     "data": {
      "text/plain": "HalvingRandomSearchCV(cv=10,\n                      estimator=Pipeline(steps=[('std', StandardScaler()),\n                                                ('model',\n                                                 BaggingRegressor(base_estimator=SVR()))]),\n                      n_jobs=-1,\n                      param_distributions={'model__base_estimator__C': <scipy.stats._distn_infrastructure.rv_frozen object at 0x000002335AA53790>,\n                                           'model__base_estimator__gamma': <scipy.stats._distn_infrastructure.rv_frozen object at 0x000002335AA53F40>,\n                                           'model__n_estimators': <scipy.stats._distn_infrastructure.rv_frozen object at 0x0000023334C5AD60>},\n                      scoring=make_scorer(mean_squared_error, greater_is_better=False),\n                      verbose=1)"
     },
     "execution_count": 2,
     "metadata": {},
     "output_type": "execute_result"
    }
   ]
  },
  {
   "cell_type": "code",
   "execution_count": 7,
   "outputs": [
    {
     "name": "stdout",
     "output_type": "stream",
     "text": [
      "{'model__base_estimator__C': 59.1069861908854, 'model__base_estimator__gamma': 8.693959087324277e-05, 'model__n_estimators': 96}\n"
     ]
    }
   ],
   "source": [
    "print(optim.best_params_)"
   ],
   "metadata": {
    "collapsed": false,
    "pycharm": {
     "name": "#%%\n"
    }
   }
  },
  {
   "cell_type": "code",
   "execution_count": null,
   "outputs": [],
   "source": [],
   "metadata": {
    "collapsed": false,
    "pycharm": {
     "name": "#%%\n"
    }
   }
  },
  {
   "cell_type": "code",
   "source": [
    "import pandas as pd\n",
    "\n",
    "best_model = optim.best_estimator_\n",
    "y_test = best_model.predict(test_data.values)\n",
    "print(mean_absolute_error(best_model.predict(train_data), y))\n",
    "result = pd.DataFrame(np.exp(y_test), index=test_data.index, columns=['SalePrice'], )\n",
    "result.to_csv('Bagging_SVR.csv')"
   ],
   "metadata": {
    "pycharm": {
     "name": "#%%\n"
    },
    "execution": {
     "iopub.status.busy": "2022-05-19T01:28:40.782015Z",
     "iopub.status.idle": "2022-05-19T01:28:40.782529Z",
     "shell.execute_reply.started": "2022-05-19T01:28:40.782335Z",
     "shell.execute_reply": "2022-05-19T01:28:40.782371Z"
    },
    "trusted": true
   },
   "execution_count": 6,
   "outputs": [
    {
     "name": "stderr",
     "output_type": "stream",
     "text": [
      "d:\\project\\python\\.venv\\lib\\site-packages\\sklearn\\base.py:441: UserWarning: X does not have valid feature names, but StandardScaler was fitted with feature names\n",
      "  warnings.warn(\n"
     ]
    },
    {
     "name": "stdout",
     "output_type": "stream",
     "text": [
      "0.06833498654637198\n"
     ]
    }
   ]
  }
 ]
}