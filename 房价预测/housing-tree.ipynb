{
 "cells": [
  {
   "cell_type": "code",
   "execution_count": 1,
   "id": "b9982c69",
   "metadata": {
    "execution": {
     "iopub.execute_input": "2022-05-18T03:49:46.406095Z",
     "iopub.status.busy": "2022-05-18T03:49:46.404947Z",
     "iopub.status.idle": "2022-05-18T03:50:01.697185Z",
     "shell.execute_reply": "2022-05-18T03:50:01.695731Z"
    },
    "papermill": {
     "duration": 15.307856,
     "end_time": "2022-05-18T03:50:01.700701",
     "exception": false,
     "start_time": "2022-05-18T03:49:46.392845",
     "status": "completed"
    },
    "pycharm": {
     "name": "#%%\n"
    },
    "tags": []
   },
   "outputs": [
    {
     "name": "stdout",
     "output_type": "stream",
     "text": [
      "Requirement already satisfied: ray[tune] in /opt/conda/lib/python3.7/site-packages (1.12.0)\r\n",
      "Collecting tune-sklearn\r\n",
      "  Downloading tune_sklearn-0.4.3-py3-none-any.whl (40 kB)\r\n",
      "\u001B[2K     \u001B[90m━━━━━━━━━━━━━━━━━━━━━━━━━━━━━━━━━━━━━━━\u001B[0m \u001B[32m40.9/40.9 KB\u001B[0m \u001B[31m428.6 kB/s\u001B[0m eta \u001B[36m0:00:00\u001B[0m\r\n",
      "\u001B[?25hRequirement already satisfied: numpy>=1.16 in /opt/conda/lib/python3.7/site-packages (from ray[tune]) (1.21.6)\r\n",
      "Requirement already satisfied: pyyaml in /opt/conda/lib/python3.7/site-packages (from ray[tune]) (6.0)\r\n",
      "Requirement already satisfied: requests in /opt/conda/lib/python3.7/site-packages (from ray[tune]) (2.27.1)\r\n",
      "Requirement already satisfied: protobuf>=3.15.3 in /opt/conda/lib/python3.7/site-packages (from ray[tune]) (3.19.4)\r\n",
      "Requirement already satisfied: virtualenv in /opt/conda/lib/python3.7/site-packages (from ray[tune]) (20.13.3)\r\n",
      "Requirement already satisfied: filelock in /opt/conda/lib/python3.7/site-packages (from ray[tune]) (3.6.0)\r\n",
      "Requirement already satisfied: grpcio<=1.43.0,>=1.28.1 in /opt/conda/lib/python3.7/site-packages (from ray[tune]) (1.43.0)\r\n",
      "Requirement already satisfied: frozenlist in /opt/conda/lib/python3.7/site-packages (from ray[tune]) (1.3.0)\r\n",
      "Requirement already satisfied: msgpack<2.0.0,>=1.0.0 in /opt/conda/lib/python3.7/site-packages (from ray[tune]) (1.0.3)\r\n",
      "Requirement already satisfied: click>=7.0 in /opt/conda/lib/python3.7/site-packages (from ray[tune]) (8.0.4)\r\n",
      "Requirement already satisfied: jsonschema in /opt/conda/lib/python3.7/site-packages (from ray[tune]) (4.4.0)\r\n",
      "Requirement already satisfied: aiosignal in /opt/conda/lib/python3.7/site-packages (from ray[tune]) (1.2.0)\r\n",
      "Requirement already satisfied: attrs in /opt/conda/lib/python3.7/site-packages (from ray[tune]) (21.4.0)\r\n",
      "Requirement already satisfied: tensorboardX>=1.9 in /opt/conda/lib/python3.7/site-packages (from ray[tune]) (2.5)\r\n",
      "Requirement already satisfied: pandas in /opt/conda/lib/python3.7/site-packages (from ray[tune]) (1.3.5)\r\n",
      "Requirement already satisfied: tabulate in /opt/conda/lib/python3.7/site-packages (from ray[tune]) (0.8.9)\r\n",
      "Requirement already satisfied: scikit-learn in /opt/conda/lib/python3.7/site-packages (from tune-sklearn) (1.0.2)\r\n",
      "Requirement already satisfied: scipy in /opt/conda/lib/python3.7/site-packages (from tune-sklearn) (1.7.3)\r\n",
      "Requirement already satisfied: importlib-metadata in /opt/conda/lib/python3.7/site-packages (from click>=7.0->ray[tune]) (4.11.3)\r\n",
      "Requirement already satisfied: six>=1.5.2 in /opt/conda/lib/python3.7/site-packages (from grpcio<=1.43.0,>=1.28.1->ray[tune]) (1.16.0)\r\n",
      "Requirement already satisfied: importlib-resources>=1.4.0 in /opt/conda/lib/python3.7/site-packages (from jsonschema->ray[tune]) (5.4.0)\r\n",
      "Requirement already satisfied: typing-extensions in /opt/conda/lib/python3.7/site-packages (from jsonschema->ray[tune]) (4.2.0)\r\n",
      "Requirement already satisfied: pyrsistent!=0.17.0,!=0.17.1,!=0.17.2,>=0.14.0 in /opt/conda/lib/python3.7/site-packages (from jsonschema->ray[tune]) (0.18.1)\r\n",
      "Requirement already satisfied: python-dateutil>=2.7.3 in /opt/conda/lib/python3.7/site-packages (from pandas->ray[tune]) (2.8.2)\r\n",
      "Requirement already satisfied: pytz>=2017.3 in /opt/conda/lib/python3.7/site-packages (from pandas->ray[tune]) (2021.3)\r\n",
      "Requirement already satisfied: charset-normalizer~=2.0.0 in /opt/conda/lib/python3.7/site-packages (from requests->ray[tune]) (2.0.12)\r\n",
      "Requirement already satisfied: certifi>=2017.4.17 in /opt/conda/lib/python3.7/site-packages (from requests->ray[tune]) (2021.10.8)\r\n",
      "Requirement already satisfied: idna<4,>=2.5 in /opt/conda/lib/python3.7/site-packages (from requests->ray[tune]) (3.3)\r\n",
      "Requirement already satisfied: urllib3<1.27,>=1.21.1 in /opt/conda/lib/python3.7/site-packages (from requests->ray[tune]) (1.26.8)\r\n",
      "Requirement already satisfied: threadpoolctl>=2.0.0 in /opt/conda/lib/python3.7/site-packages (from scikit-learn->tune-sklearn) (3.1.0)\r\n",
      "Requirement already satisfied: joblib>=0.11 in /opt/conda/lib/python3.7/site-packages (from scikit-learn->tune-sklearn) (1.0.1)\r\n",
      "Requirement already satisfied: distlib<1,>=0.3.1 in /opt/conda/lib/python3.7/site-packages (from virtualenv->ray[tune]) (0.3.4)\r\n",
      "Requirement already satisfied: platformdirs<3,>=2 in /opt/conda/lib/python3.7/site-packages (from virtualenv->ray[tune]) (2.5.1)\r\n",
      "Requirement already satisfied: zipp>=0.5 in /opt/conda/lib/python3.7/site-packages (from importlib-metadata->click>=7.0->ray[tune]) (3.7.0)\r\n",
      "Installing collected packages: tune-sklearn\r\n",
      "Successfully installed tune-sklearn-0.4.3\r\n",
      "\u001B[33mWARNING: Running pip as the 'root' user can result in broken permissions and conflicting behaviour with the system package manager. It is recommended to use a virtual environment instead: https://pip.pypa.io/warnings/venv\u001B[0m\u001B[33m\r\n",
      "\u001B[0m"
     ]
    }
   ],
   "source": [
    "!pip install ray[tune] tune-sklearn\n"
   ]
  },
  {
   "cell_type": "code",
   "execution_count": 4,
   "id": "942a5e34",
   "metadata": {
    "execution": {
     "iopub.execute_input": "2022-05-18T03:50:01.737492Z",
     "iopub.status.busy": "2022-05-18T03:50:01.737094Z",
     "iopub.status.idle": "2022-05-18T03:50:04.676500Z",
     "shell.execute_reply": "2022-05-18T03:50:04.675195Z"
    },
    "papermill": {
     "duration": 2.961054,
     "end_time": "2022-05-18T03:50:04.679404",
     "exception": false,
     "start_time": "2022-05-18T03:50:01.718350",
     "status": "completed"
    },
    "pycharm": {
     "name": "#%%\n"
    },
    "tags": []
   },
   "outputs": [],
   "source": [
    "import torch\n",
    "from sklearn.svm import SVC\n",
    "from sklearn.pipeline import Pipeline\n",
    "from sklearn.model_selection import train_test_split\n",
    "import numpy as np\n",
    "from sklearn.preprocessing import StandardScaler\n",
    "\n",
    "data, y = torch.load('data/house_price_v2.pkl')\n",
    "train_data, test_data = data[:len(y)], data[len(y):]\n",
    "\n",
    "np.random.seed(42)"
   ]
  },
  {
   "cell_type": "code",
   "execution_count": 5,
   "id": "1b5db858",
   "metadata": {
    "collapsed": false,
    "execution": {
     "iopub.execute_input": "2022-05-18T03:50:04.712217Z",
     "iopub.status.busy": "2022-05-18T03:50:04.711830Z",
     "iopub.status.idle": "2022-05-18T03:50:07.094227Z",
     "shell.execute_reply": "2022-05-18T03:50:07.093111Z"
    },
    "jupyter": {
     "outputs_hidden": false
    },
    "papermill": {
     "duration": 2.402616,
     "end_time": "2022-05-18T03:50:07.097208",
     "exception": false,
     "start_time": "2022-05-18T03:50:04.694592",
     "status": "completed"
    },
    "pycharm": {
     "name": "#%%\n"
    },
    "tags": []
   },
   "outputs": [
    {
     "name": "stderr",
     "output_type": "stream",
     "text": [
      "[Parallel(n_jobs=-1)]: Using backend LokyBackend with 16 concurrent workers.\n",
      "[Parallel(n_jobs=-1)]: Done  10 out of  10 | elapsed:    2.6s finished\n"
     ]
    },
    {
     "data": {
      "text/plain": "-0.03659129979773332"
     },
     "execution_count": 5,
     "metadata": {},
     "output_type": "execute_result"
    }
   ],
   "source": [
    "from sklearn.model_selection import cross_validate, cross_val_score\n",
    "from sklearn.model_selection import StratifiedKFold\n",
    "from sklearn.tree import DecisionTreeRegressor\n",
    "from sklearn.ensemble import ExtraTreesRegressor\n",
    "from sklearn.metrics import make_scorer, mean_squared_log_error, mean_squared_error\n",
    "\n",
    "std = StandardScaler()\n",
    "model = DecisionTreeRegressor()\n",
    "pipe = Pipeline(\n",
    "    [('std', std),\n",
    "     ('model', model)]\n",
    ")\n",
    "\n",
    "cross_val_score(pipe, train_data, y, cv=10, n_jobs=-1, verbose=1,\n",
    "                scoring=make_scorer(mean_squared_error, greater_is_better=False)).mean()\n"
   ]
  },
  {
   "cell_type": "code",
   "execution_count": 4,
   "id": "ce7491c5",
   "metadata": {
    "collapsed": false,
    "execution": {
     "iopub.execute_input": "2022-05-18T03:50:07.132169Z",
     "iopub.status.busy": "2022-05-18T03:50:07.130765Z",
     "iopub.status.idle": "2022-05-18T04:20:30.008311Z",
     "shell.execute_reply": "2022-05-18T04:20:30.006921Z"
    },
    "jupyter": {
     "outputs_hidden": false
    },
    "papermill": {
     "duration": 1822.898607,
     "end_time": "2022-05-18T04:20:30.011053",
     "exception": false,
     "start_time": "2022-05-18T03:50:07.112446",
     "status": "completed"
    },
    "pycharm": {
     "name": "#%%\n"
    },
    "tags": []
   },
   "outputs": [
    {
     "data": {
      "text/html": [
       "== Status ==<br>Current time: 2022-05-18 04:20:25 (running for 00:30:09.64)<br>Memory usage on this node: 1.6/17.6 GiB<br>Using FIFO scheduling algorithm.<br>Resources requested: 0/4 CPUs, 0/0 GPUs, 0.0/8.94 GiB heap, 0.0/4.47 GiB objects<br>Current best trial: ea2c5fbe with average_test_score=-0.00019119281342202117 and parameters={'model__max_depth': 377, 'model__min_samples_split': 2, 'model__min_samples_leaf': 19, 'model__max_features': 158}<br>Result logdir: /root/ray_results/_Trainable_2022-05-18_03-50-15<br>Number of trials: 318/infinite (318 TERMINATED)<br><br>"
      ],
      "text/plain": [
       "<IPython.core.display.HTML object>"
      ]
     },
     "metadata": {},
     "output_type": "display_data"
    },
    {
     "name": "stderr",
     "output_type": "stream",
     "text": [
      "2022-05-18 04:20:26,036\tINFO tune.py:702 -- Total run time: 1810.31 seconds (1808.93 seconds for the tuning loop).\n"
     ]
    },
    {
     "name": "stdout",
     "output_type": "stream",
     "text": [
      "{'model__max_depth': 377, 'model__min_samples_split': 2, 'model__min_samples_leaf': 19, 'model__max_features': 158}\n"
     ]
    }
   ],
   "source": [
    "# 超参数搜索\n",
    "from ray import tune\n",
    "from ray.tune.sklearn import TuneSearchCV\n",
    "from sklearn.metrics import mean_squared_log_error\n",
    "\n",
    "param = {\n",
    "    'model__max_depth': tune.randint(3, 500),\n",
    "    'model__min_samples_split': tune.randint(2, len(train_data) + 1),\n",
    "    'model__min_samples_leaf': tune.randint(1, len(train_data) + 1),\n",
    "    'model__max_features': tune.randint(2, train_data.shape[1] + 1)}\n",
    "\n",
    "tune_search = TuneSearchCV(\n",
    "    pipe,\n",
    "    param,\n",
    "    search_optimization=\"bayesian\",\n",
    "    n_trials=-1,\n",
    "    verbose=1,\n",
    "    return_train_score=True,\n",
    "    mode='max',\n",
    "    time_budget_s=1800,\n",
    "    error_score=np.nan,\n",
    "    scoring=make_scorer(mean_squared_log_error, greater_is_better=False),\n",
    "    use_gpu=False,\n",
    "    cv=10\n",
    ")\n",
    "tune_search.fit(train_data, y)\n",
    "print(tune_search.best_params_)"
   ]
  },
  {
   "cell_type": "code",
   "execution_count": 7,
   "outputs": [
    {
     "data": {
      "text/plain": "0.023134470588509683"
     },
     "execution_count": 7,
     "metadata": {},
     "output_type": "execute_result"
    }
   ],
   "source": [
    "pipe.set_params(**{'model__max_depth': 377, 'model__min_samples_split': 2, 'model__min_samples_leaf': 19,\n",
    "                   'model__max_features': 158})\n",
    "pipe.fit(train_data, y)\n",
    "mean_squared_error(pipe.predict(train_data), y)\n"
   ],
   "metadata": {
    "collapsed": false,
    "pycharm": {
     "name": "#%%\n"
    }
   }
  },
  {
   "cell_type": "code",
   "execution_count": 5,
   "id": "68f095b3",
   "metadata": {
    "execution": {
     "iopub.execute_input": "2022-05-18T04:20:30.048176Z",
     "iopub.status.busy": "2022-05-18T04:20:30.047732Z",
     "iopub.status.idle": "2022-05-18T04:20:30.065272Z",
     "shell.execute_reply": "2022-05-18T04:20:30.064181Z"
    },
    "papermill": {
     "duration": 0.039896,
     "end_time": "2022-05-18T04:20:30.068011",
     "exception": false,
     "start_time": "2022-05-18T04:20:30.028115",
     "status": "completed"
    },
    "pycharm": {
     "name": "#%%\n"
    },
    "tags": []
   },
   "outputs": [
    {
     "data": {
      "text/plain": [
       "0.8577228771048372"
      ]
     },
     "execution_count": 5,
     "metadata": {},
     "output_type": "execute_result"
    }
   ],
   "source": [
    "best_model = tune_search.best_estimator\n",
    "best_model.score(train_data, y)"
   ]
  },
  {
   "cell_type": "code",
   "execution_count": 6,
   "id": "ba5ca0a8",
   "metadata": {
    "execution": {
     "iopub.execute_input": "2022-05-18T04:20:30.105856Z",
     "iopub.status.busy": "2022-05-18T04:20:30.105347Z",
     "iopub.status.idle": "2022-05-18T04:20:30.133583Z",
     "shell.execute_reply": "2022-05-18T04:20:30.132464Z"
    },
    "papermill": {
     "duration": 0.050044,
     "end_time": "2022-05-18T04:20:30.136117",
     "exception": false,
     "start_time": "2022-05-18T04:20:30.086073",
     "status": "completed"
    },
    "pycharm": {
     "name": "#%%\n"
    },
    "tags": []
   },
   "outputs": [
    {
     "name": "stderr",
     "output_type": "stream",
     "text": [
      "/opt/conda/lib/python3.7/site-packages/sklearn/base.py:451: UserWarning: X does not have valid feature names, but StandardScaler was fitted with feature names\n",
      "  \"X does not have valid feature names, but\"\n"
     ]
    }
   ],
   "source": [
    "import pandas as pd\n",
    "\n",
    "best_model = tune_search.best_estimator\n",
    "y_test = best_model.predict(test_data.values)\n",
    "result = pd.DataFrame(np.exp(y_test), index=test_data.index, columns=['SalePrice'], )\n",
    "result.to_csv('tree.csv')\n",
    "torch.save(tune_search.best_params_, 'tree.pkl')"
   ]
  }
 ],
 "metadata": {
  "kernelspec": {
   "display_name": "Python 3",
   "language": "python",
   "name": "python3"
  },
  "language_info": {
   "codemirror_mode": {
    "name": "ipython",
    "version": 3
   },
   "file_extension": ".py",
   "mimetype": "text/x-python",
   "name": "python",
   "nbconvert_exporter": "python",
   "pygments_lexer": "ipython3",
   "version": "3.7.12"
  },
  "papermill": {
   "default_parameters": {},
   "duration": 1860.780302,
   "end_time": "2022-05-18T04:20:35.281855",
   "environment_variables": {},
   "exception": null,
   "input_path": "__notebook__.ipynb",
   "output_path": "__notebook__.ipynb",
   "parameters": {},
   "start_time": "2022-05-18T03:49:34.501553",
   "version": "2.3.4"
  }
 },
 "nbformat": 4,
 "nbformat_minor": 5
}