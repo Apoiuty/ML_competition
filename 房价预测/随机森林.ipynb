{
 "cells": [
  {
   "cell_type": "markdown",
   "source": [
    "随机树模型\n",
    "模型的个数160 -0.020139661688362037\n",
    "pca维度0.8\n",
    "最佳深度70 {'randomforestregressor__max_depth': 70} -0.0032548871698553465 -0.019958992130741274\n",
    "min_samples_split:4 {'randomforestregressor__min_samples_split': 4} -0.003788541586971973 -0.019985942542381344\n",
    "max_features:0.9"
   ],
   "metadata": {
    "collapsed": false,
    "pycharm": {
     "name": "#%% md\n"
    }
   }
  },
  {
   "cell_type": "code",
   "execution_count": 3,
   "metadata": {
    "collapsed": true,
    "pycharm": {
     "name": "#%%\n"
    }
   },
   "outputs": [
    {
     "name": "stdout",
     "output_type": "stream",
     "text": [
      "0.0035462810156297693\n"
     ]
    }
   ],
   "source": [
    "import torch\n",
    "import pandas as pd\n",
    "import numpy as np\n",
    "from sklearn.model_selection import train_test_split\n",
    "from sklearn.metrics import mean_squared_error, mean_squared_log_error, make_scorer\n",
    "from sklearn.ensemble import RandomForestRegressor\n",
    "from sklearn.decomposition import PCA, KernelPCA\n",
    "from sklearn.model_selection import cross_val_score\n",
    "from sklearn.pipeline import make_pipeline\n",
    "from sklearn.model_selection import RandomizedSearchCV, GridSearchCV\n",
    "from ray import tune\n",
    "import scipy\n",
    "\n",
    "np.random.seed(42)\n",
    "all_features, y = torch.load('data/house_price.pkl')\n",
    "X = all_features.iloc[:len(y), :]\n",
    "X, y = X.values, y.values\n",
    "\n",
    "tree = RandomForestRegressor()\n",
    "pipeline = make_pipeline(tree)\n",
    "pipeline.fit(X, y)\n",
    "print(mean_squared_log_error(y, pipeline.predict(X)))"
   ]
  },
  {
   "cell_type": "code",
   "execution_count": null,
   "outputs": [],
   "source": [
    "X_test = all_features.iloc[len(y):, :]"
   ],
   "metadata": {
    "collapsed": false,
    "pycharm": {
     "name": "#%%\n"
    }
   }
  },
  {
   "cell_type": "code",
   "execution_count": 20,
   "outputs": [
    {
     "data": {
      "text/plain": "array([131239.93886409, 157814.75552083, 185461.2458631 , ...,\n       175053.15096726, 118536.01272321, 240798.31529762])"
     },
     "execution_count": 20,
     "metadata": {},
     "output_type": "execute_result"
    }
   ],
   "source": [
    "y_test = pipeline.predict(X_test.values)\n",
    "\n",
    "result = pd.DataFrame(y_test, index=X_test.index, columns=['SalePrice'], )\n"
   ],
   "metadata": {
    "collapsed": false,
    "pycharm": {
     "name": "#%%\n"
    }
   }
  }
 ],
 "metadata": {
  "kernelspec": {
   "display_name": "Python 3",
   "language": "python",
   "name": "python3"
  },
  "language_info": {
   "codemirror_mode": {
    "name": "ipython",
    "version": 2
   },
   "file_extension": ".py",
   "mimetype": "text/x-python",
   "name": "python",
   "nbconvert_exporter": "python",
   "pygments_lexer": "ipython2",
   "version": "2.7.6"
  }
 },
 "nbformat": 4,
 "nbformat_minor": 0
}