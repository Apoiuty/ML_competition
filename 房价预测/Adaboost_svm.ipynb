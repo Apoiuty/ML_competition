{
 "cells": [
  {
   "cell_type": "code",
   "execution_count": 21,
   "metadata": {
    "collapsed": true,
    "pycharm": {
     "name": "#%%\n"
    }
   },
   "outputs": [],
   "source": [
    "import numpy as np\n",
    "from sklearn.ensemble import AdaBoostRegressor\n",
    "import pandas as pd\n",
    "from sklearn.metrics import make_scorer, mean_squared_log_error, mean_absolute_error, mean_absolute_percentage_error\n",
    "from sklearn.ensemble import GradientBoostingRegressor\n",
    "from sklearn.model_selection import GridSearchCV, cross_val_score\n",
    "import torch\n",
    "from sklearn.pipeline import Pipeline\n",
    "from sklearn.preprocessing import StandardScaler, MinMaxScaler\n",
    "from ray import tune\n",
    "\n",
    "np.random.seed(42)\n",
    "all_features, y = torch.load('data/house_price.pkl')\n",
    "X = all_features.iloc[:len(y), :]\n",
    "X, y = X.values, y.values\n",
    "X_test = all_features.iloc[len(y):, :]"
   ]
  },
  {
   "cell_type": "code",
   "execution_count": 24,
   "outputs": [
    {
     "data": {
      "text/plain": "-0.15240766426158772"
     },
     "execution_count": 24,
     "metadata": {},
     "output_type": "execute_result"
    }
   ],
   "source": [
    "model = AdaBoostRegressor(n_estimators=200, learning_rate=.1)\n",
    "pipline = Pipeline([\n",
    "    ('std', StandardScaler()),\n",
    "    ('adaboost', model)\n",
    "])\n",
    "cross_val_score(pipline, X, y, cv=10, n_jobs=-1,\n",
    "                scoring=make_scorer(mean_absolute_percentage_error, greater_is_better=False)).mean()"
   ],
   "metadata": {
    "collapsed": false,
    "pycharm": {
     "name": "#%%\n"
    }
   }
  },
  {
   "cell_type": "code",
   "execution_count": 37,
   "outputs": [
    {
     "data": {
      "text/plain": "-0.09982037354166166"
     },
     "execution_count": 37,
     "metadata": {},
     "output_type": "execute_result"
    }
   ],
   "source": [
    "from sklearn.tree import DecisionTreeRegressor\n",
    "\n",
    "model = AdaBoostRegressor(DecisionTreeRegressor(max_depth=400, min_samples_split=10, min_samples_leaf=1),\n",
    "                          n_estimators=200, learning_rate=.1)\n",
    "pipline = Pipeline([\n",
    "    ('std', StandardScaler()),\n",
    "    ('adaboost', model)\n",
    "])\n",
    "cross_val_score(pipline, X, y, cv=10, n_jobs=-1,\n",
    "                scoring=make_scorer(mean_absolute_percentage_error, greater_is_better=False)).mean()"
   ],
   "metadata": {
    "collapsed": false,
    "pycharm": {
     "name": "#%%\n"
    }
   }
  }
 ],
 "metadata": {
  "kernelspec": {
   "display_name": "Python 3",
   "language": "python",
   "name": "python3"
  },
  "language_info": {
   "codemirror_mode": {
    "name": "ipython",
    "version": 2
   },
   "file_extension": ".py",
   "mimetype": "text/x-python",
   "name": "python",
   "nbconvert_exporter": "python",
   "pygments_lexer": "ipython2",
   "version": "2.7.6"
  }
 },
 "nbformat": 4,
 "nbformat_minor": 0
}