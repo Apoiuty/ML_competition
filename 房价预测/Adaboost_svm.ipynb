{
 "cells": [
  {
   "cell_type": "code",
   "execution_count": 11,
   "metadata": {
    "collapsed": true,
    "pycharm": {
     "name": "#%%\n"
    }
   },
   "outputs": [],
   "source": [
    "import numpy as np\n",
    "from sklearn.ensemble import AdaBoostRegressor\n",
    "import pandas as pd\n",
    "from sklearn.metrics import make_scorer, mean_squared_log_error, mean_absolute_error, mean_absolute_percentage_error,\n",
    "\n",
    "mean_squared_error\n",
    "from sklearn.ensemble import GradientBoostingRegressor, BaggingRegressor\n",
    "from sklearn.model_selection import GridSearchCV, cross_val_score\n",
    "# from ray.tune.sklearn import TuneSearchCV\n",
    "from sklearn.svm import SVR\n",
    "from sklearn.tree import DecisionTreeRegressor\n",
    "import torch\n",
    "from ray import tune\n",
    "from scipy.stats import randint, loguniform\n",
    "\n",
    "np.random.seed(42)\n",
    "all_features, y = torch.load('data/house_price_v2.pkl')\n",
    "X = all_features.iloc[:len(y), :]\n",
    "X, y = X, y.values\n",
    "X_test = all_features.iloc[len(y):, :]\n",
    "\n",
    "model = AdaBoostRegressor(base_estimator=SVR())\n",
    "param = {\n",
    "    'learning_rate': loguniform(1e-1, 1),\n",
    "    'base_estimator__C': loguniform(1e-3, 1e3),\n",
    "    'base_estimator__gamma': loguniform(1e-6, 10),\n",
    "    'n_estimators': randint(10, 500)\n",
    "}"
   ]
  },
  {
   "cell_type": "code",
   "execution_count": 17,
   "outputs": [
    {
     "name": "stdout",
     "output_type": "stream",
     "text": [
      "n_iterations: 4\n",
      "n_required_iterations: 4\n",
      "n_possible_iterations: 4\n",
      "min_resources_: 20\n",
      "max_resources_: 1460\n",
      "aggressive_elimination: False\n",
      "factor: 3\n",
      "----------\n",
      "iter: 0\n",
      "n_candidates: 73\n",
      "n_resources: 20\n",
      "Fitting 10 folds for each of 73 candidates, totalling 730 fits\n",
      "----------\n",
      "iter: 1\n",
      "n_candidates: 25\n",
      "n_resources: 60\n",
      "Fitting 10 folds for each of 25 candidates, totalling 250 fits\n",
      "----------\n",
      "iter: 2\n",
      "n_candidates: 9\n",
      "n_resources: 180\n",
      "Fitting 10 folds for each of 9 candidates, totalling 90 fits\n",
      "----------\n",
      "iter: 3\n",
      "n_candidates: 3\n",
      "n_resources: 540\n",
      "Fitting 10 folds for each of 3 candidates, totalling 30 fits\n"
     ]
    },
    {
     "data": {
      "text/plain": "HalvingRandomSearchCV(cv=10, estimator=AdaBoostRegressor(base_estimator=SVR()),\n                      n_jobs=-1,\n                      param_distributions={'base_estimator__C': <scipy.stats._distn_infrastructure.rv_frozen object at 0x000001BBA3A07AC0>,\n                                           'base_estimator__gamma': <scipy.stats._distn_infrastructure.rv_frozen object at 0x000001BBA3C622E0>,\n                                           'learning_rate': <scipy.stats._distn_infrastructure.rv_frozen object at 0x000001BBA19CA2E0>,\n                                           'n_estimators': <scipy.stats._distn_infrastructure.rv_frozen object at 0x000001BBA3BA4700>},\n                      scoring=make_scorer(mean_squared_error, greater_is_better=False),\n                      verbose=1)"
     },
     "execution_count": 17,
     "metadata": {},
     "output_type": "execute_result"
    }
   ],
   "source": [
    "from sklearn.experimental import enable_halving_search_cv\n",
    "from sklearn.model_selection import HalvingRandomSearchCV\n",
    "\n",
    "optim = HalvingRandomSearchCV(model, param, cv=10, n_jobs=-1, verbose=1,\n",
    "                              scoring=make_scorer(mean_squared_error, greater_is_better=False))\n",
    "optim.fit(X, y)"
   ],
   "metadata": {
    "collapsed": false,
    "pycharm": {
     "name": "#%%\n"
    }
   }
  },
  {
   "cell_type": "code",
   "execution_count": 22,
   "outputs": [
    {
     "name": "stdout",
     "output_type": "stream",
     "text": [
      "{'base_estimator__C': 10.879585646155862, 'base_estimator__gamma': 0.000506547522932075, 'learning_rate': 0.31729633401624546, 'n_estimators': 295}\n"
     ]
    }
   ],
   "source": [
    "print(optim.best_params_)"
   ],
   "metadata": {
    "collapsed": false,
    "pycharm": {
     "name": "#%%\n"
    }
   }
  },
  {
   "cell_type": "code",
   "execution_count": 19,
   "outputs": [
    {
     "data": {
      "text/plain": "0.005251549910547243"
     },
     "execution_count": 19,
     "metadata": {},
     "output_type": "execute_result"
    }
   ],
   "source": [
    "best_model = optim.best_estimator_\n",
    "mean_squared_error(best_model.predict(X), y)"
   ],
   "metadata": {
    "collapsed": false,
    "pycharm": {
     "name": "#%%\n"
    }
   }
  },
  {
   "cell_type": "code",
   "execution_count": 23,
   "outputs": [
    {
     "name": "stderr",
     "output_type": "stream",
     "text": [
      "d:\\project\\python\\.venv\\lib\\site-packages\\sklearn\\base.py:441: UserWarning: X does not have valid feature names, but AdaBoostRegressor was fitted with feature names\n",
      "  warnings.warn(\n"
     ]
    }
   ],
   "source": [
    "import pandas as pd\n",
    "\n",
    "y_test = best_model.predict(X_test.values)\n",
    "result = pd.DataFrame(np.exp(y_test), index=X_test.index, columns=['SalePrice'], )\n",
    "result.to_csv('Adaboost_SVM.csv')"
   ],
   "metadata": {
    "collapsed": false,
    "pycharm": {
     "name": "#%%\n"
    }
   }
  }
 ],
 "metadata": {
  "kernelspec": {
   "display_name": "Python 3",
   "language": "python",
   "name": "python3"
  },
  "language_info": {
   "codemirror_mode": {
    "name": "ipython",
    "version": 2
   },
   "file_extension": ".py",
   "mimetype": "text/x-python",
   "name": "python",
   "nbconvert_exporter": "python",
   "pygments_lexer": "ipython2",
   "version": "2.7.6"
  }
 },
 "nbformat": 4,
 "nbformat_minor": 0
}