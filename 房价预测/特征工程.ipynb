{
 "cells": [
  {
   "cell_type": "code",
   "execution_count": 29,
   "metadata": {
    "collapsed": true,
    "pycharm": {
     "name": "#%%\n"
    }
   },
   "outputs": [],
   "source": [
    "import pandas as pd\n",
    "import numpy as np\n",
    "\n",
    "import seaborn as sns\n",
    "import matplotlib.pyplot as plt\n",
    "\n",
    "train_data = pd.read_csv('data/train.csv', index_col='Id')\n",
    "X_test = test_data = pd.read_csv('data/test.csv', index_col='Id')"
   ]
  },
  {
   "cell_type": "code",
   "execution_count": 30,
   "outputs": [
    {
     "data": {
      "text/plain": "      MSSubClass MSZoning  LotFrontage  LotArea Street Alley LotShape  \\\nId                                                                      \n1             60       RL         65.0     8450   Pave   NaN      Reg   \n2             20       RL         80.0     9600   Pave   NaN      Reg   \n3             60       RL         68.0    11250   Pave   NaN      IR1   \n4             70       RL         60.0     9550   Pave   NaN      IR1   \n5             60       RL         84.0    14260   Pave   NaN      IR1   \n...          ...      ...          ...      ...    ...   ...      ...   \n1456          60       RL         62.0     7917   Pave   NaN      Reg   \n1457          20       RL         85.0    13175   Pave   NaN      Reg   \n1458          70       RL         66.0     9042   Pave   NaN      Reg   \n1459          20       RL         68.0     9717   Pave   NaN      Reg   \n1460          20       RL         75.0     9937   Pave   NaN      Reg   \n\n     LandContour Utilities LotConfig  ... ScreenPorch PoolArea PoolQC  Fence  \\\nId                                    ...                                      \n1            Lvl    AllPub    Inside  ...           0        0    NaN    NaN   \n2            Lvl    AllPub       FR2  ...           0        0    NaN    NaN   \n3            Lvl    AllPub    Inside  ...           0        0    NaN    NaN   \n4            Lvl    AllPub    Corner  ...           0        0    NaN    NaN   \n5            Lvl    AllPub       FR2  ...           0        0    NaN    NaN   \n...          ...       ...       ...  ...         ...      ...    ...    ...   \n1456         Lvl    AllPub    Inside  ...           0        0    NaN    NaN   \n1457         Lvl    AllPub    Inside  ...           0        0    NaN  MnPrv   \n1458         Lvl    AllPub    Inside  ...           0        0    NaN  GdPrv   \n1459         Lvl    AllPub    Inside  ...           0        0    NaN    NaN   \n1460         Lvl    AllPub    Inside  ...           0        0    NaN    NaN   \n\n     MiscFeature MiscVal  MoSold  YrSold  SaleType  SaleCondition  \nId                                                                 \n1            NaN       0       2    2008        WD         Normal  \n2            NaN       0       5    2007        WD         Normal  \n3            NaN       0       9    2008        WD         Normal  \n4            NaN       0       2    2006        WD        Abnorml  \n5            NaN       0      12    2008        WD         Normal  \n...          ...     ...     ...     ...       ...            ...  \n1456         NaN       0       8    2007        WD         Normal  \n1457         NaN       0       2    2010        WD         Normal  \n1458        Shed    2500       5    2010        WD         Normal  \n1459         NaN       0       4    2010        WD         Normal  \n1460         NaN       0       6    2008        WD         Normal  \n\n[1460 rows x 79 columns]",
      "text/html": "<div>\n<style scoped>\n    .dataframe tbody tr th:only-of-type {\n        vertical-align: middle;\n    }\n\n    .dataframe tbody tr th {\n        vertical-align: top;\n    }\n\n    .dataframe thead th {\n        text-align: right;\n    }\n</style>\n<table border=\"1\" class=\"dataframe\">\n  <thead>\n    <tr style=\"text-align: right;\">\n      <th></th>\n      <th>MSSubClass</th>\n      <th>MSZoning</th>\n      <th>LotFrontage</th>\n      <th>LotArea</th>\n      <th>Street</th>\n      <th>Alley</th>\n      <th>LotShape</th>\n      <th>LandContour</th>\n      <th>Utilities</th>\n      <th>LotConfig</th>\n      <th>...</th>\n      <th>ScreenPorch</th>\n      <th>PoolArea</th>\n      <th>PoolQC</th>\n      <th>Fence</th>\n      <th>MiscFeature</th>\n      <th>MiscVal</th>\n      <th>MoSold</th>\n      <th>YrSold</th>\n      <th>SaleType</th>\n      <th>SaleCondition</th>\n    </tr>\n    <tr>\n      <th>Id</th>\n      <th></th>\n      <th></th>\n      <th></th>\n      <th></th>\n      <th></th>\n      <th></th>\n      <th></th>\n      <th></th>\n      <th></th>\n      <th></th>\n      <th></th>\n      <th></th>\n      <th></th>\n      <th></th>\n      <th></th>\n      <th></th>\n      <th></th>\n      <th></th>\n      <th></th>\n      <th></th>\n      <th></th>\n    </tr>\n  </thead>\n  <tbody>\n    <tr>\n      <th>1</th>\n      <td>60</td>\n      <td>RL</td>\n      <td>65.0</td>\n      <td>8450</td>\n      <td>Pave</td>\n      <td>NaN</td>\n      <td>Reg</td>\n      <td>Lvl</td>\n      <td>AllPub</td>\n      <td>Inside</td>\n      <td>...</td>\n      <td>0</td>\n      <td>0</td>\n      <td>NaN</td>\n      <td>NaN</td>\n      <td>NaN</td>\n      <td>0</td>\n      <td>2</td>\n      <td>2008</td>\n      <td>WD</td>\n      <td>Normal</td>\n    </tr>\n    <tr>\n      <th>2</th>\n      <td>20</td>\n      <td>RL</td>\n      <td>80.0</td>\n      <td>9600</td>\n      <td>Pave</td>\n      <td>NaN</td>\n      <td>Reg</td>\n      <td>Lvl</td>\n      <td>AllPub</td>\n      <td>FR2</td>\n      <td>...</td>\n      <td>0</td>\n      <td>0</td>\n      <td>NaN</td>\n      <td>NaN</td>\n      <td>NaN</td>\n      <td>0</td>\n      <td>5</td>\n      <td>2007</td>\n      <td>WD</td>\n      <td>Normal</td>\n    </tr>\n    <tr>\n      <th>3</th>\n      <td>60</td>\n      <td>RL</td>\n      <td>68.0</td>\n      <td>11250</td>\n      <td>Pave</td>\n      <td>NaN</td>\n      <td>IR1</td>\n      <td>Lvl</td>\n      <td>AllPub</td>\n      <td>Inside</td>\n      <td>...</td>\n      <td>0</td>\n      <td>0</td>\n      <td>NaN</td>\n      <td>NaN</td>\n      <td>NaN</td>\n      <td>0</td>\n      <td>9</td>\n      <td>2008</td>\n      <td>WD</td>\n      <td>Normal</td>\n    </tr>\n    <tr>\n      <th>4</th>\n      <td>70</td>\n      <td>RL</td>\n      <td>60.0</td>\n      <td>9550</td>\n      <td>Pave</td>\n      <td>NaN</td>\n      <td>IR1</td>\n      <td>Lvl</td>\n      <td>AllPub</td>\n      <td>Corner</td>\n      <td>...</td>\n      <td>0</td>\n      <td>0</td>\n      <td>NaN</td>\n      <td>NaN</td>\n      <td>NaN</td>\n      <td>0</td>\n      <td>2</td>\n      <td>2006</td>\n      <td>WD</td>\n      <td>Abnorml</td>\n    </tr>\n    <tr>\n      <th>5</th>\n      <td>60</td>\n      <td>RL</td>\n      <td>84.0</td>\n      <td>14260</td>\n      <td>Pave</td>\n      <td>NaN</td>\n      <td>IR1</td>\n      <td>Lvl</td>\n      <td>AllPub</td>\n      <td>FR2</td>\n      <td>...</td>\n      <td>0</td>\n      <td>0</td>\n      <td>NaN</td>\n      <td>NaN</td>\n      <td>NaN</td>\n      <td>0</td>\n      <td>12</td>\n      <td>2008</td>\n      <td>WD</td>\n      <td>Normal</td>\n    </tr>\n    <tr>\n      <th>...</th>\n      <td>...</td>\n      <td>...</td>\n      <td>...</td>\n      <td>...</td>\n      <td>...</td>\n      <td>...</td>\n      <td>...</td>\n      <td>...</td>\n      <td>...</td>\n      <td>...</td>\n      <td>...</td>\n      <td>...</td>\n      <td>...</td>\n      <td>...</td>\n      <td>...</td>\n      <td>...</td>\n      <td>...</td>\n      <td>...</td>\n      <td>...</td>\n      <td>...</td>\n      <td>...</td>\n    </tr>\n    <tr>\n      <th>1456</th>\n      <td>60</td>\n      <td>RL</td>\n      <td>62.0</td>\n      <td>7917</td>\n      <td>Pave</td>\n      <td>NaN</td>\n      <td>Reg</td>\n      <td>Lvl</td>\n      <td>AllPub</td>\n      <td>Inside</td>\n      <td>...</td>\n      <td>0</td>\n      <td>0</td>\n      <td>NaN</td>\n      <td>NaN</td>\n      <td>NaN</td>\n      <td>0</td>\n      <td>8</td>\n      <td>2007</td>\n      <td>WD</td>\n      <td>Normal</td>\n    </tr>\n    <tr>\n      <th>1457</th>\n      <td>20</td>\n      <td>RL</td>\n      <td>85.0</td>\n      <td>13175</td>\n      <td>Pave</td>\n      <td>NaN</td>\n      <td>Reg</td>\n      <td>Lvl</td>\n      <td>AllPub</td>\n      <td>Inside</td>\n      <td>...</td>\n      <td>0</td>\n      <td>0</td>\n      <td>NaN</td>\n      <td>MnPrv</td>\n      <td>NaN</td>\n      <td>0</td>\n      <td>2</td>\n      <td>2010</td>\n      <td>WD</td>\n      <td>Normal</td>\n    </tr>\n    <tr>\n      <th>1458</th>\n      <td>70</td>\n      <td>RL</td>\n      <td>66.0</td>\n      <td>9042</td>\n      <td>Pave</td>\n      <td>NaN</td>\n      <td>Reg</td>\n      <td>Lvl</td>\n      <td>AllPub</td>\n      <td>Inside</td>\n      <td>...</td>\n      <td>0</td>\n      <td>0</td>\n      <td>NaN</td>\n      <td>GdPrv</td>\n      <td>Shed</td>\n      <td>2500</td>\n      <td>5</td>\n      <td>2010</td>\n      <td>WD</td>\n      <td>Normal</td>\n    </tr>\n    <tr>\n      <th>1459</th>\n      <td>20</td>\n      <td>RL</td>\n      <td>68.0</td>\n      <td>9717</td>\n      <td>Pave</td>\n      <td>NaN</td>\n      <td>Reg</td>\n      <td>Lvl</td>\n      <td>AllPub</td>\n      <td>Inside</td>\n      <td>...</td>\n      <td>0</td>\n      <td>0</td>\n      <td>NaN</td>\n      <td>NaN</td>\n      <td>NaN</td>\n      <td>0</td>\n      <td>4</td>\n      <td>2010</td>\n      <td>WD</td>\n      <td>Normal</td>\n    </tr>\n    <tr>\n      <th>1460</th>\n      <td>20</td>\n      <td>RL</td>\n      <td>75.0</td>\n      <td>9937</td>\n      <td>Pave</td>\n      <td>NaN</td>\n      <td>Reg</td>\n      <td>Lvl</td>\n      <td>AllPub</td>\n      <td>Inside</td>\n      <td>...</td>\n      <td>0</td>\n      <td>0</td>\n      <td>NaN</td>\n      <td>NaN</td>\n      <td>NaN</td>\n      <td>0</td>\n      <td>6</td>\n      <td>2008</td>\n      <td>WD</td>\n      <td>Normal</td>\n    </tr>\n  </tbody>\n</table>\n<p>1460 rows × 79 columns</p>\n</div>"
     },
     "execution_count": 30,
     "metadata": {},
     "output_type": "execute_result"
    }
   ],
   "source": [
    "X_train, y = train_data.iloc[:, :-1], train_data.iloc[:, -1]\n",
    "X_train"
   ],
   "metadata": {
    "collapsed": false,
    "pycharm": {
     "name": "#%%\n"
    }
   }
  },
  {
   "cell_type": "code",
   "execution_count": 31,
   "outputs": [
    {
     "data": {
      "text/plain": "      MSSubClass MSZoning  LotFrontage  LotArea Street Alley LotShape  \\\nId                                                                      \n1             60       RL         65.0     8450   Pave   NaN      Reg   \n2             20       RL         80.0     9600   Pave   NaN      Reg   \n3             60       RL         68.0    11250   Pave   NaN      IR1   \n4             70       RL         60.0     9550   Pave   NaN      IR1   \n5             60       RL         84.0    14260   Pave   NaN      IR1   \n...          ...      ...          ...      ...    ...   ...      ...   \n2915         160       RM         21.0     1936   Pave   NaN      Reg   \n2916         160       RM         21.0     1894   Pave   NaN      Reg   \n2917          20       RL        160.0    20000   Pave   NaN      Reg   \n2918          85       RL         62.0    10441   Pave   NaN      Reg   \n2919          60       RL         74.0     9627   Pave   NaN      Reg   \n\n     LandContour Utilities LotConfig  ... ScreenPorch PoolArea PoolQC  Fence  \\\nId                                    ...                                      \n1            Lvl    AllPub    Inside  ...           0        0    NaN    NaN   \n2            Lvl    AllPub       FR2  ...           0        0    NaN    NaN   \n3            Lvl    AllPub    Inside  ...           0        0    NaN    NaN   \n4            Lvl    AllPub    Corner  ...           0        0    NaN    NaN   \n5            Lvl    AllPub       FR2  ...           0        0    NaN    NaN   \n...          ...       ...       ...  ...         ...      ...    ...    ...   \n2915         Lvl    AllPub    Inside  ...           0        0    NaN    NaN   \n2916         Lvl    AllPub    Inside  ...           0        0    NaN    NaN   \n2917         Lvl    AllPub    Inside  ...           0        0    NaN    NaN   \n2918         Lvl    AllPub    Inside  ...           0        0    NaN  MnPrv   \n2919         Lvl    AllPub    Inside  ...           0        0    NaN    NaN   \n\n     MiscFeature MiscVal  MoSold  YrSold  SaleType  SaleCondition  \nId                                                                 \n1            NaN       0       2    2008        WD         Normal  \n2            NaN       0       5    2007        WD         Normal  \n3            NaN       0       9    2008        WD         Normal  \n4            NaN       0       2    2006        WD        Abnorml  \n5            NaN       0      12    2008        WD         Normal  \n...          ...     ...     ...     ...       ...            ...  \n2915         NaN       0       6    2006        WD         Normal  \n2916         NaN       0       4    2006        WD        Abnorml  \n2917         NaN       0       9    2006        WD        Abnorml  \n2918        Shed     700       7    2006        WD         Normal  \n2919         NaN       0      11    2006        WD         Normal  \n\n[2919 rows x 79 columns]",
      "text/html": "<div>\n<style scoped>\n    .dataframe tbody tr th:only-of-type {\n        vertical-align: middle;\n    }\n\n    .dataframe tbody tr th {\n        vertical-align: top;\n    }\n\n    .dataframe thead th {\n        text-align: right;\n    }\n</style>\n<table border=\"1\" class=\"dataframe\">\n  <thead>\n    <tr style=\"text-align: right;\">\n      <th></th>\n      <th>MSSubClass</th>\n      <th>MSZoning</th>\n      <th>LotFrontage</th>\n      <th>LotArea</th>\n      <th>Street</th>\n      <th>Alley</th>\n      <th>LotShape</th>\n      <th>LandContour</th>\n      <th>Utilities</th>\n      <th>LotConfig</th>\n      <th>...</th>\n      <th>ScreenPorch</th>\n      <th>PoolArea</th>\n      <th>PoolQC</th>\n      <th>Fence</th>\n      <th>MiscFeature</th>\n      <th>MiscVal</th>\n      <th>MoSold</th>\n      <th>YrSold</th>\n      <th>SaleType</th>\n      <th>SaleCondition</th>\n    </tr>\n    <tr>\n      <th>Id</th>\n      <th></th>\n      <th></th>\n      <th></th>\n      <th></th>\n      <th></th>\n      <th></th>\n      <th></th>\n      <th></th>\n      <th></th>\n      <th></th>\n      <th></th>\n      <th></th>\n      <th></th>\n      <th></th>\n      <th></th>\n      <th></th>\n      <th></th>\n      <th></th>\n      <th></th>\n      <th></th>\n      <th></th>\n    </tr>\n  </thead>\n  <tbody>\n    <tr>\n      <th>1</th>\n      <td>60</td>\n      <td>RL</td>\n      <td>65.0</td>\n      <td>8450</td>\n      <td>Pave</td>\n      <td>NaN</td>\n      <td>Reg</td>\n      <td>Lvl</td>\n      <td>AllPub</td>\n      <td>Inside</td>\n      <td>...</td>\n      <td>0</td>\n      <td>0</td>\n      <td>NaN</td>\n      <td>NaN</td>\n      <td>NaN</td>\n      <td>0</td>\n      <td>2</td>\n      <td>2008</td>\n      <td>WD</td>\n      <td>Normal</td>\n    </tr>\n    <tr>\n      <th>2</th>\n      <td>20</td>\n      <td>RL</td>\n      <td>80.0</td>\n      <td>9600</td>\n      <td>Pave</td>\n      <td>NaN</td>\n      <td>Reg</td>\n      <td>Lvl</td>\n      <td>AllPub</td>\n      <td>FR2</td>\n      <td>...</td>\n      <td>0</td>\n      <td>0</td>\n      <td>NaN</td>\n      <td>NaN</td>\n      <td>NaN</td>\n      <td>0</td>\n      <td>5</td>\n      <td>2007</td>\n      <td>WD</td>\n      <td>Normal</td>\n    </tr>\n    <tr>\n      <th>3</th>\n      <td>60</td>\n      <td>RL</td>\n      <td>68.0</td>\n      <td>11250</td>\n      <td>Pave</td>\n      <td>NaN</td>\n      <td>IR1</td>\n      <td>Lvl</td>\n      <td>AllPub</td>\n      <td>Inside</td>\n      <td>...</td>\n      <td>0</td>\n      <td>0</td>\n      <td>NaN</td>\n      <td>NaN</td>\n      <td>NaN</td>\n      <td>0</td>\n      <td>9</td>\n      <td>2008</td>\n      <td>WD</td>\n      <td>Normal</td>\n    </tr>\n    <tr>\n      <th>4</th>\n      <td>70</td>\n      <td>RL</td>\n      <td>60.0</td>\n      <td>9550</td>\n      <td>Pave</td>\n      <td>NaN</td>\n      <td>IR1</td>\n      <td>Lvl</td>\n      <td>AllPub</td>\n      <td>Corner</td>\n      <td>...</td>\n      <td>0</td>\n      <td>0</td>\n      <td>NaN</td>\n      <td>NaN</td>\n      <td>NaN</td>\n      <td>0</td>\n      <td>2</td>\n      <td>2006</td>\n      <td>WD</td>\n      <td>Abnorml</td>\n    </tr>\n    <tr>\n      <th>5</th>\n      <td>60</td>\n      <td>RL</td>\n      <td>84.0</td>\n      <td>14260</td>\n      <td>Pave</td>\n      <td>NaN</td>\n      <td>IR1</td>\n      <td>Lvl</td>\n      <td>AllPub</td>\n      <td>FR2</td>\n      <td>...</td>\n      <td>0</td>\n      <td>0</td>\n      <td>NaN</td>\n      <td>NaN</td>\n      <td>NaN</td>\n      <td>0</td>\n      <td>12</td>\n      <td>2008</td>\n      <td>WD</td>\n      <td>Normal</td>\n    </tr>\n    <tr>\n      <th>...</th>\n      <td>...</td>\n      <td>...</td>\n      <td>...</td>\n      <td>...</td>\n      <td>...</td>\n      <td>...</td>\n      <td>...</td>\n      <td>...</td>\n      <td>...</td>\n      <td>...</td>\n      <td>...</td>\n      <td>...</td>\n      <td>...</td>\n      <td>...</td>\n      <td>...</td>\n      <td>...</td>\n      <td>...</td>\n      <td>...</td>\n      <td>...</td>\n      <td>...</td>\n      <td>...</td>\n    </tr>\n    <tr>\n      <th>2915</th>\n      <td>160</td>\n      <td>RM</td>\n      <td>21.0</td>\n      <td>1936</td>\n      <td>Pave</td>\n      <td>NaN</td>\n      <td>Reg</td>\n      <td>Lvl</td>\n      <td>AllPub</td>\n      <td>Inside</td>\n      <td>...</td>\n      <td>0</td>\n      <td>0</td>\n      <td>NaN</td>\n      <td>NaN</td>\n      <td>NaN</td>\n      <td>0</td>\n      <td>6</td>\n      <td>2006</td>\n      <td>WD</td>\n      <td>Normal</td>\n    </tr>\n    <tr>\n      <th>2916</th>\n      <td>160</td>\n      <td>RM</td>\n      <td>21.0</td>\n      <td>1894</td>\n      <td>Pave</td>\n      <td>NaN</td>\n      <td>Reg</td>\n      <td>Lvl</td>\n      <td>AllPub</td>\n      <td>Inside</td>\n      <td>...</td>\n      <td>0</td>\n      <td>0</td>\n      <td>NaN</td>\n      <td>NaN</td>\n      <td>NaN</td>\n      <td>0</td>\n      <td>4</td>\n      <td>2006</td>\n      <td>WD</td>\n      <td>Abnorml</td>\n    </tr>\n    <tr>\n      <th>2917</th>\n      <td>20</td>\n      <td>RL</td>\n      <td>160.0</td>\n      <td>20000</td>\n      <td>Pave</td>\n      <td>NaN</td>\n      <td>Reg</td>\n      <td>Lvl</td>\n      <td>AllPub</td>\n      <td>Inside</td>\n      <td>...</td>\n      <td>0</td>\n      <td>0</td>\n      <td>NaN</td>\n      <td>NaN</td>\n      <td>NaN</td>\n      <td>0</td>\n      <td>9</td>\n      <td>2006</td>\n      <td>WD</td>\n      <td>Abnorml</td>\n    </tr>\n    <tr>\n      <th>2918</th>\n      <td>85</td>\n      <td>RL</td>\n      <td>62.0</td>\n      <td>10441</td>\n      <td>Pave</td>\n      <td>NaN</td>\n      <td>Reg</td>\n      <td>Lvl</td>\n      <td>AllPub</td>\n      <td>Inside</td>\n      <td>...</td>\n      <td>0</td>\n      <td>0</td>\n      <td>NaN</td>\n      <td>MnPrv</td>\n      <td>Shed</td>\n      <td>700</td>\n      <td>7</td>\n      <td>2006</td>\n      <td>WD</td>\n      <td>Normal</td>\n    </tr>\n    <tr>\n      <th>2919</th>\n      <td>60</td>\n      <td>RL</td>\n      <td>74.0</td>\n      <td>9627</td>\n      <td>Pave</td>\n      <td>NaN</td>\n      <td>Reg</td>\n      <td>Lvl</td>\n      <td>AllPub</td>\n      <td>Inside</td>\n      <td>...</td>\n      <td>0</td>\n      <td>0</td>\n      <td>NaN</td>\n      <td>NaN</td>\n      <td>NaN</td>\n      <td>0</td>\n      <td>11</td>\n      <td>2006</td>\n      <td>WD</td>\n      <td>Normal</td>\n    </tr>\n  </tbody>\n</table>\n<p>2919 rows × 79 columns</p>\n</div>"
     },
     "execution_count": 31,
     "metadata": {},
     "output_type": "execute_result"
    }
   ],
   "source": [
    "X = pd.concat([X_train, X_test])\n",
    "X"
   ],
   "metadata": {
    "collapsed": false,
    "pycharm": {
     "name": "#%%\n"
    }
   }
  },
  {
   "cell_type": "code",
   "execution_count": 44,
   "outputs": [
    {
     "data": {
      "text/plain": "MSSubClass         0\nMSZoning           4\nLotFrontage      486\nLotArea            0\nStreet             0\n                ... \nMiscVal            0\nMoSold             0\nYrSold             0\nSaleType           1\nSaleCondition      0\nLength: 79, dtype: int64"
     },
     "execution_count": 44,
     "metadata": {},
     "output_type": "execute_result"
    }
   ],
   "source": [
    "X.isnull().sum()"
   ],
   "metadata": {
    "collapsed": false,
    "pycharm": {
     "name": "#%%\n"
    }
   }
  },
  {
   "cell_type": "code",
   "execution_count": 43,
   "outputs": [
    {
     "data": {
      "text/plain": "(2919, 79)"
     },
     "execution_count": 43,
     "metadata": {},
     "output_type": "execute_result"
    }
   ],
   "source": [
    "X.shape"
   ],
   "metadata": {
    "collapsed": false,
    "pycharm": {
     "name": "#%%\n"
    }
   }
  },
  {
   "cell_type": "code",
   "execution_count": 32,
   "outputs": [],
   "source": [
    "import torch\n",
    "\n",
    "columns = torch.load('data/feature_col.pkl')\n",
    "num_col, class_col, ordering_col = columns"
   ],
   "metadata": {
    "collapsed": false,
    "pycharm": {
     "name": "#%%\n"
    }
   }
  },
  {
   "cell_type": "code",
   "execution_count": 33,
   "outputs": [
    {
     "data": {
      "text/plain": "      LotFrontage  LotArea  OverallQual  OverallCond  YearBuilt  YearRemodAdd  \\\nId                                                                              \n1            65.0     8450            7            5       2003          2003   \n2            80.0     9600            6            8       1976          1976   \n3            68.0    11250            7            5       2001          2002   \n4            60.0     9550            7            5       1915          1970   \n5            84.0    14260            8            5       2000          2000   \n...           ...      ...          ...          ...        ...           ...   \n2915         21.0     1936            4            7       1970          1970   \n2916         21.0     1894            4            5       1970          1970   \n2917        160.0    20000            5            7       1960          1996   \n2918         62.0    10441            5            5       1992          1992   \n2919         74.0     9627            7            5       1993          1994   \n\n      MasVnrArea  BsmtFinSF1  BsmtFinSF2  BsmtUnfSF  ...  OpenPorchSF  \\\nId                                                   ...                \n1          196.0       706.0         0.0      150.0  ...           61   \n2            0.0       978.0         0.0      284.0  ...            0   \n3          162.0       486.0         0.0      434.0  ...           42   \n4            0.0       216.0         0.0      540.0  ...           35   \n5          350.0       655.0         0.0      490.0  ...           84   \n...          ...         ...         ...        ...  ...          ...   \n2915         0.0         0.0         0.0      546.0  ...            0   \n2916         0.0       252.0         0.0      294.0  ...           24   \n2917         0.0      1224.0         0.0        0.0  ...            0   \n2918         0.0       337.0         0.0      575.0  ...           32   \n2919        94.0       758.0         0.0      238.0  ...           48   \n\n      EnclosedPorch  3SsnPorch  ScreenPorch  PoolArea  MiscVal  MoSold  \\\nId                                                                       \n1                 0          0            0         0        0       2   \n2                 0          0            0         0        0       5   \n3                 0          0            0         0        0       9   \n4               272          0            0         0        0       2   \n5                 0          0            0         0        0      12   \n...             ...        ...          ...       ...      ...     ...   \n2915              0          0            0         0        0       6   \n2916              0          0            0         0        0       4   \n2917              0          0            0         0        0       9   \n2918              0          0            0         0      700       7   \n2919              0          0            0         0        0      11   \n\n      YrSold  BedroomAbvGr  KitchenAbvGr  \nId                                        \n1       2008             3             1  \n2       2007             3             1  \n3       2008             3             1  \n4       2006             3             1  \n5       2008             4             1  \n...      ...           ...           ...  \n2915    2006             3             1  \n2916    2006             3             1  \n2917    2006             4             1  \n2918    2006             3             1  \n2919    2006             3             1  \n\n[2919 rows x 35 columns]",
      "text/html": "<div>\n<style scoped>\n    .dataframe tbody tr th:only-of-type {\n        vertical-align: middle;\n    }\n\n    .dataframe tbody tr th {\n        vertical-align: top;\n    }\n\n    .dataframe thead th {\n        text-align: right;\n    }\n</style>\n<table border=\"1\" class=\"dataframe\">\n  <thead>\n    <tr style=\"text-align: right;\">\n      <th></th>\n      <th>LotFrontage</th>\n      <th>LotArea</th>\n      <th>OverallQual</th>\n      <th>OverallCond</th>\n      <th>YearBuilt</th>\n      <th>YearRemodAdd</th>\n      <th>MasVnrArea</th>\n      <th>BsmtFinSF1</th>\n      <th>BsmtFinSF2</th>\n      <th>BsmtUnfSF</th>\n      <th>...</th>\n      <th>OpenPorchSF</th>\n      <th>EnclosedPorch</th>\n      <th>3SsnPorch</th>\n      <th>ScreenPorch</th>\n      <th>PoolArea</th>\n      <th>MiscVal</th>\n      <th>MoSold</th>\n      <th>YrSold</th>\n      <th>BedroomAbvGr</th>\n      <th>KitchenAbvGr</th>\n    </tr>\n    <tr>\n      <th>Id</th>\n      <th></th>\n      <th></th>\n      <th></th>\n      <th></th>\n      <th></th>\n      <th></th>\n      <th></th>\n      <th></th>\n      <th></th>\n      <th></th>\n      <th></th>\n      <th></th>\n      <th></th>\n      <th></th>\n      <th></th>\n      <th></th>\n      <th></th>\n      <th></th>\n      <th></th>\n      <th></th>\n      <th></th>\n    </tr>\n  </thead>\n  <tbody>\n    <tr>\n      <th>1</th>\n      <td>65.0</td>\n      <td>8450</td>\n      <td>7</td>\n      <td>5</td>\n      <td>2003</td>\n      <td>2003</td>\n      <td>196.0</td>\n      <td>706.0</td>\n      <td>0.0</td>\n      <td>150.0</td>\n      <td>...</td>\n      <td>61</td>\n      <td>0</td>\n      <td>0</td>\n      <td>0</td>\n      <td>0</td>\n      <td>0</td>\n      <td>2</td>\n      <td>2008</td>\n      <td>3</td>\n      <td>1</td>\n    </tr>\n    <tr>\n      <th>2</th>\n      <td>80.0</td>\n      <td>9600</td>\n      <td>6</td>\n      <td>8</td>\n      <td>1976</td>\n      <td>1976</td>\n      <td>0.0</td>\n      <td>978.0</td>\n      <td>0.0</td>\n      <td>284.0</td>\n      <td>...</td>\n      <td>0</td>\n      <td>0</td>\n      <td>0</td>\n      <td>0</td>\n      <td>0</td>\n      <td>0</td>\n      <td>5</td>\n      <td>2007</td>\n      <td>3</td>\n      <td>1</td>\n    </tr>\n    <tr>\n      <th>3</th>\n      <td>68.0</td>\n      <td>11250</td>\n      <td>7</td>\n      <td>5</td>\n      <td>2001</td>\n      <td>2002</td>\n      <td>162.0</td>\n      <td>486.0</td>\n      <td>0.0</td>\n      <td>434.0</td>\n      <td>...</td>\n      <td>42</td>\n      <td>0</td>\n      <td>0</td>\n      <td>0</td>\n      <td>0</td>\n      <td>0</td>\n      <td>9</td>\n      <td>2008</td>\n      <td>3</td>\n      <td>1</td>\n    </tr>\n    <tr>\n      <th>4</th>\n      <td>60.0</td>\n      <td>9550</td>\n      <td>7</td>\n      <td>5</td>\n      <td>1915</td>\n      <td>1970</td>\n      <td>0.0</td>\n      <td>216.0</td>\n      <td>0.0</td>\n      <td>540.0</td>\n      <td>...</td>\n      <td>35</td>\n      <td>272</td>\n      <td>0</td>\n      <td>0</td>\n      <td>0</td>\n      <td>0</td>\n      <td>2</td>\n      <td>2006</td>\n      <td>3</td>\n      <td>1</td>\n    </tr>\n    <tr>\n      <th>5</th>\n      <td>84.0</td>\n      <td>14260</td>\n      <td>8</td>\n      <td>5</td>\n      <td>2000</td>\n      <td>2000</td>\n      <td>350.0</td>\n      <td>655.0</td>\n      <td>0.0</td>\n      <td>490.0</td>\n      <td>...</td>\n      <td>84</td>\n      <td>0</td>\n      <td>0</td>\n      <td>0</td>\n      <td>0</td>\n      <td>0</td>\n      <td>12</td>\n      <td>2008</td>\n      <td>4</td>\n      <td>1</td>\n    </tr>\n    <tr>\n      <th>...</th>\n      <td>...</td>\n      <td>...</td>\n      <td>...</td>\n      <td>...</td>\n      <td>...</td>\n      <td>...</td>\n      <td>...</td>\n      <td>...</td>\n      <td>...</td>\n      <td>...</td>\n      <td>...</td>\n      <td>...</td>\n      <td>...</td>\n      <td>...</td>\n      <td>...</td>\n      <td>...</td>\n      <td>...</td>\n      <td>...</td>\n      <td>...</td>\n      <td>...</td>\n      <td>...</td>\n    </tr>\n    <tr>\n      <th>2915</th>\n      <td>21.0</td>\n      <td>1936</td>\n      <td>4</td>\n      <td>7</td>\n      <td>1970</td>\n      <td>1970</td>\n      <td>0.0</td>\n      <td>0.0</td>\n      <td>0.0</td>\n      <td>546.0</td>\n      <td>...</td>\n      <td>0</td>\n      <td>0</td>\n      <td>0</td>\n      <td>0</td>\n      <td>0</td>\n      <td>0</td>\n      <td>6</td>\n      <td>2006</td>\n      <td>3</td>\n      <td>1</td>\n    </tr>\n    <tr>\n      <th>2916</th>\n      <td>21.0</td>\n      <td>1894</td>\n      <td>4</td>\n      <td>5</td>\n      <td>1970</td>\n      <td>1970</td>\n      <td>0.0</td>\n      <td>252.0</td>\n      <td>0.0</td>\n      <td>294.0</td>\n      <td>...</td>\n      <td>24</td>\n      <td>0</td>\n      <td>0</td>\n      <td>0</td>\n      <td>0</td>\n      <td>0</td>\n      <td>4</td>\n      <td>2006</td>\n      <td>3</td>\n      <td>1</td>\n    </tr>\n    <tr>\n      <th>2917</th>\n      <td>160.0</td>\n      <td>20000</td>\n      <td>5</td>\n      <td>7</td>\n      <td>1960</td>\n      <td>1996</td>\n      <td>0.0</td>\n      <td>1224.0</td>\n      <td>0.0</td>\n      <td>0.0</td>\n      <td>...</td>\n      <td>0</td>\n      <td>0</td>\n      <td>0</td>\n      <td>0</td>\n      <td>0</td>\n      <td>0</td>\n      <td>9</td>\n      <td>2006</td>\n      <td>4</td>\n      <td>1</td>\n    </tr>\n    <tr>\n      <th>2918</th>\n      <td>62.0</td>\n      <td>10441</td>\n      <td>5</td>\n      <td>5</td>\n      <td>1992</td>\n      <td>1992</td>\n      <td>0.0</td>\n      <td>337.0</td>\n      <td>0.0</td>\n      <td>575.0</td>\n      <td>...</td>\n      <td>32</td>\n      <td>0</td>\n      <td>0</td>\n      <td>0</td>\n      <td>0</td>\n      <td>700</td>\n      <td>7</td>\n      <td>2006</td>\n      <td>3</td>\n      <td>1</td>\n    </tr>\n    <tr>\n      <th>2919</th>\n      <td>74.0</td>\n      <td>9627</td>\n      <td>7</td>\n      <td>5</td>\n      <td>1993</td>\n      <td>1994</td>\n      <td>94.0</td>\n      <td>758.0</td>\n      <td>0.0</td>\n      <td>238.0</td>\n      <td>...</td>\n      <td>48</td>\n      <td>0</td>\n      <td>0</td>\n      <td>0</td>\n      <td>0</td>\n      <td>0</td>\n      <td>11</td>\n      <td>2006</td>\n      <td>3</td>\n      <td>1</td>\n    </tr>\n  </tbody>\n</table>\n<p>2919 rows × 35 columns</p>\n</div>"
     },
     "execution_count": 33,
     "metadata": {},
     "output_type": "execute_result"
    }
   ],
   "source": [
    "X_num = X[num_col]\n",
    "X_class = X[class_col]\n",
    "X_num"
   ],
   "metadata": {
    "collapsed": false,
    "pycharm": {
     "name": "#%%\n"
    }
   }
  },
  {
   "cell_type": "code",
   "execution_count": 34,
   "outputs": [
    {
     "data": {
      "text/plain": "      MSSubClass  MSZoning_C (all)  MSZoning_FV  MSZoning_RH  MSZoning_RL  \\\nId                                                                          \n1             60                 0            0            0            1   \n2             20                 0            0            0            1   \n3             60                 0            0            0            1   \n4             70                 0            0            0            1   \n5             60                 0            0            0            1   \n...          ...               ...          ...          ...          ...   \n2915         160                 0            0            0            0   \n2916         160                 0            0            0            0   \n2917          20                 0            0            0            1   \n2918          85                 0            0            0            1   \n2919          60                 0            0            0            1   \n\n      MSZoning_RM  MSZoning_nan  Street_Grvl  Street_Pave  Street_nan  ...  \\\nId                                                                     ...   \n1               0             0            0            1           0  ...   \n2               0             0            0            1           0  ...   \n3               0             0            0            1           0  ...   \n4               0             0            0            1           0  ...   \n5               0             0            0            1           0  ...   \n...           ...           ...          ...          ...         ...  ...   \n2915            1             0            0            1           0  ...   \n2916            1             0            0            1           0  ...   \n2917            0             0            0            1           0  ...   \n2918            0             0            0            1           0  ...   \n2919            0             0            0            1           0  ...   \n\n      SaleType_Oth  SaleType_WD  SaleType_nan  SaleCondition_Abnorml  \\\nId                                                                     \n1                0            1             0                      0   \n2                0            1             0                      0   \n3                0            1             0                      0   \n4                0            1             0                      1   \n5                0            1             0                      0   \n...            ...          ...           ...                    ...   \n2915             0            1             0                      0   \n2916             0            1             0                      1   \n2917             0            1             0                      1   \n2918             0            1             0                      0   \n2919             0            1             0                      0   \n\n      SaleCondition_AdjLand  SaleCondition_Alloca  SaleCondition_Family  \\\nId                                                                        \n1                         0                     0                     0   \n2                         0                     0                     0   \n3                         0                     0                     0   \n4                         0                     0                     0   \n5                         0                     0                     0   \n...                     ...                   ...                   ...   \n2915                      0                     0                     0   \n2916                      0                     0                     0   \n2917                      0                     0                     0   \n2918                      0                     0                     0   \n2919                      0                     0                     0   \n\n      SaleCondition_Normal  SaleCondition_Partial  SaleCondition_nan  \nId                                                                    \n1                        1                      0                  0  \n2                        1                      0                  0  \n3                        1                      0                  0  \n4                        0                      0                  0  \n5                        1                      0                  0  \n...                    ...                    ...                ...  \n2915                     1                      0                  0  \n2916                     0                      0                  0  \n2917                     0                      0                  0  \n2918                     1                      0                  0  \n2919                     1                      0                  0  \n\n[2919 rows x 185 columns]",
      "text/html": "<div>\n<style scoped>\n    .dataframe tbody tr th:only-of-type {\n        vertical-align: middle;\n    }\n\n    .dataframe tbody tr th {\n        vertical-align: top;\n    }\n\n    .dataframe thead th {\n        text-align: right;\n    }\n</style>\n<table border=\"1\" class=\"dataframe\">\n  <thead>\n    <tr style=\"text-align: right;\">\n      <th></th>\n      <th>MSSubClass</th>\n      <th>MSZoning_C (all)</th>\n      <th>MSZoning_FV</th>\n      <th>MSZoning_RH</th>\n      <th>MSZoning_RL</th>\n      <th>MSZoning_RM</th>\n      <th>MSZoning_nan</th>\n      <th>Street_Grvl</th>\n      <th>Street_Pave</th>\n      <th>Street_nan</th>\n      <th>...</th>\n      <th>SaleType_Oth</th>\n      <th>SaleType_WD</th>\n      <th>SaleType_nan</th>\n      <th>SaleCondition_Abnorml</th>\n      <th>SaleCondition_AdjLand</th>\n      <th>SaleCondition_Alloca</th>\n      <th>SaleCondition_Family</th>\n      <th>SaleCondition_Normal</th>\n      <th>SaleCondition_Partial</th>\n      <th>SaleCondition_nan</th>\n    </tr>\n    <tr>\n      <th>Id</th>\n      <th></th>\n      <th></th>\n      <th></th>\n      <th></th>\n      <th></th>\n      <th></th>\n      <th></th>\n      <th></th>\n      <th></th>\n      <th></th>\n      <th></th>\n      <th></th>\n      <th></th>\n      <th></th>\n      <th></th>\n      <th></th>\n      <th></th>\n      <th></th>\n      <th></th>\n      <th></th>\n      <th></th>\n    </tr>\n  </thead>\n  <tbody>\n    <tr>\n      <th>1</th>\n      <td>60</td>\n      <td>0</td>\n      <td>0</td>\n      <td>0</td>\n      <td>1</td>\n      <td>0</td>\n      <td>0</td>\n      <td>0</td>\n      <td>1</td>\n      <td>0</td>\n      <td>...</td>\n      <td>0</td>\n      <td>1</td>\n      <td>0</td>\n      <td>0</td>\n      <td>0</td>\n      <td>0</td>\n      <td>0</td>\n      <td>1</td>\n      <td>0</td>\n      <td>0</td>\n    </tr>\n    <tr>\n      <th>2</th>\n      <td>20</td>\n      <td>0</td>\n      <td>0</td>\n      <td>0</td>\n      <td>1</td>\n      <td>0</td>\n      <td>0</td>\n      <td>0</td>\n      <td>1</td>\n      <td>0</td>\n      <td>...</td>\n      <td>0</td>\n      <td>1</td>\n      <td>0</td>\n      <td>0</td>\n      <td>0</td>\n      <td>0</td>\n      <td>0</td>\n      <td>1</td>\n      <td>0</td>\n      <td>0</td>\n    </tr>\n    <tr>\n      <th>3</th>\n      <td>60</td>\n      <td>0</td>\n      <td>0</td>\n      <td>0</td>\n      <td>1</td>\n      <td>0</td>\n      <td>0</td>\n      <td>0</td>\n      <td>1</td>\n      <td>0</td>\n      <td>...</td>\n      <td>0</td>\n      <td>1</td>\n      <td>0</td>\n      <td>0</td>\n      <td>0</td>\n      <td>0</td>\n      <td>0</td>\n      <td>1</td>\n      <td>0</td>\n      <td>0</td>\n    </tr>\n    <tr>\n      <th>4</th>\n      <td>70</td>\n      <td>0</td>\n      <td>0</td>\n      <td>0</td>\n      <td>1</td>\n      <td>0</td>\n      <td>0</td>\n      <td>0</td>\n      <td>1</td>\n      <td>0</td>\n      <td>...</td>\n      <td>0</td>\n      <td>1</td>\n      <td>0</td>\n      <td>1</td>\n      <td>0</td>\n      <td>0</td>\n      <td>0</td>\n      <td>0</td>\n      <td>0</td>\n      <td>0</td>\n    </tr>\n    <tr>\n      <th>5</th>\n      <td>60</td>\n      <td>0</td>\n      <td>0</td>\n      <td>0</td>\n      <td>1</td>\n      <td>0</td>\n      <td>0</td>\n      <td>0</td>\n      <td>1</td>\n      <td>0</td>\n      <td>...</td>\n      <td>0</td>\n      <td>1</td>\n      <td>0</td>\n      <td>0</td>\n      <td>0</td>\n      <td>0</td>\n      <td>0</td>\n      <td>1</td>\n      <td>0</td>\n      <td>0</td>\n    </tr>\n    <tr>\n      <th>...</th>\n      <td>...</td>\n      <td>...</td>\n      <td>...</td>\n      <td>...</td>\n      <td>...</td>\n      <td>...</td>\n      <td>...</td>\n      <td>...</td>\n      <td>...</td>\n      <td>...</td>\n      <td>...</td>\n      <td>...</td>\n      <td>...</td>\n      <td>...</td>\n      <td>...</td>\n      <td>...</td>\n      <td>...</td>\n      <td>...</td>\n      <td>...</td>\n      <td>...</td>\n      <td>...</td>\n    </tr>\n    <tr>\n      <th>2915</th>\n      <td>160</td>\n      <td>0</td>\n      <td>0</td>\n      <td>0</td>\n      <td>0</td>\n      <td>1</td>\n      <td>0</td>\n      <td>0</td>\n      <td>1</td>\n      <td>0</td>\n      <td>...</td>\n      <td>0</td>\n      <td>1</td>\n      <td>0</td>\n      <td>0</td>\n      <td>0</td>\n      <td>0</td>\n      <td>0</td>\n      <td>1</td>\n      <td>0</td>\n      <td>0</td>\n    </tr>\n    <tr>\n      <th>2916</th>\n      <td>160</td>\n      <td>0</td>\n      <td>0</td>\n      <td>0</td>\n      <td>0</td>\n      <td>1</td>\n      <td>0</td>\n      <td>0</td>\n      <td>1</td>\n      <td>0</td>\n      <td>...</td>\n      <td>0</td>\n      <td>1</td>\n      <td>0</td>\n      <td>1</td>\n      <td>0</td>\n      <td>0</td>\n      <td>0</td>\n      <td>0</td>\n      <td>0</td>\n      <td>0</td>\n    </tr>\n    <tr>\n      <th>2917</th>\n      <td>20</td>\n      <td>0</td>\n      <td>0</td>\n      <td>0</td>\n      <td>1</td>\n      <td>0</td>\n      <td>0</td>\n      <td>0</td>\n      <td>1</td>\n      <td>0</td>\n      <td>...</td>\n      <td>0</td>\n      <td>1</td>\n      <td>0</td>\n      <td>1</td>\n      <td>0</td>\n      <td>0</td>\n      <td>0</td>\n      <td>0</td>\n      <td>0</td>\n      <td>0</td>\n    </tr>\n    <tr>\n      <th>2918</th>\n      <td>85</td>\n      <td>0</td>\n      <td>0</td>\n      <td>0</td>\n      <td>1</td>\n      <td>0</td>\n      <td>0</td>\n      <td>0</td>\n      <td>1</td>\n      <td>0</td>\n      <td>...</td>\n      <td>0</td>\n      <td>1</td>\n      <td>0</td>\n      <td>0</td>\n      <td>0</td>\n      <td>0</td>\n      <td>0</td>\n      <td>1</td>\n      <td>0</td>\n      <td>0</td>\n    </tr>\n    <tr>\n      <th>2919</th>\n      <td>60</td>\n      <td>0</td>\n      <td>0</td>\n      <td>0</td>\n      <td>1</td>\n      <td>0</td>\n      <td>0</td>\n      <td>0</td>\n      <td>1</td>\n      <td>0</td>\n      <td>...</td>\n      <td>0</td>\n      <td>1</td>\n      <td>0</td>\n      <td>0</td>\n      <td>0</td>\n      <td>0</td>\n      <td>0</td>\n      <td>1</td>\n      <td>0</td>\n      <td>0</td>\n    </tr>\n  </tbody>\n</table>\n<p>2919 rows × 185 columns</p>\n</div>"
     },
     "execution_count": 34,
     "metadata": {},
     "output_type": "execute_result"
    }
   ],
   "source": [
    "# 数量的处理\n",
    "X_class = pd.get_dummies(X_class, dummy_na=True)\n",
    "X_class"
   ],
   "metadata": {
    "collapsed": false,
    "pycharm": {
     "name": "#%%\n"
    }
   }
  },
  {
   "cell_type": "code",
   "execution_count": 35,
   "outputs": [
    {
     "data": {
      "text/plain": "      LotFrontage  LotArea  OverallQual  OverallCond  YearBuilt  YearRemodAdd  \\\nId                                                                              \n1            65.0   8450.0          7.0          5.0     2003.0        2003.0   \n2            80.0   9600.0          6.0          8.0     1976.0        1976.0   \n3            68.0  11250.0          7.0          5.0     2001.0        2002.0   \n4            60.0   9550.0          7.0          5.0     1915.0        1970.0   \n5            84.0  14260.0          8.0          5.0     2000.0        2000.0   \n...           ...      ...          ...          ...        ...           ...   \n2915         21.0   1936.0          4.0          7.0     1970.0        1970.0   \n2916         21.0   1894.0          4.0          5.0     1970.0        1970.0   \n2917        160.0  20000.0          5.0          7.0     1960.0        1996.0   \n2918         62.0  10441.0          5.0          5.0     1992.0        1992.0   \n2919         74.0   9627.0          7.0          5.0     1993.0        1994.0   \n\n      MasVnrArea  BsmtFinSF1  BsmtFinSF2  BsmtUnfSF  ...  OpenPorchSF  \\\nId                                                   ...                \n1          196.0       706.0         0.0      150.0  ...         61.0   \n2            0.0       978.0         0.0      284.0  ...          0.0   \n3          162.0       486.0         0.0      434.0  ...         42.0   \n4            0.0       216.0         0.0      540.0  ...         35.0   \n5          350.0       655.0         0.0      490.0  ...         84.0   \n...          ...         ...         ...        ...  ...          ...   \n2915         0.0         0.0         0.0      546.0  ...          0.0   \n2916         0.0       252.0         0.0      294.0  ...         24.0   \n2917         0.0      1224.0         0.0        0.0  ...          0.0   \n2918         0.0       337.0         0.0      575.0  ...         32.0   \n2919        94.0       758.0         0.0      238.0  ...         48.0   \n\n      EnclosedPorch  3SsnPorch  ScreenPorch  PoolArea  MiscVal  MoSold  \\\nId                                                                       \n1               0.0        0.0          0.0       0.0      0.0     2.0   \n2               0.0        0.0          0.0       0.0      0.0     5.0   \n3               0.0        0.0          0.0       0.0      0.0     9.0   \n4             272.0        0.0          0.0       0.0      0.0     2.0   \n5               0.0        0.0          0.0       0.0      0.0    12.0   \n...             ...        ...          ...       ...      ...     ...   \n2915            0.0        0.0          0.0       0.0      0.0     6.0   \n2916            0.0        0.0          0.0       0.0      0.0     4.0   \n2917            0.0        0.0          0.0       0.0      0.0     9.0   \n2918            0.0        0.0          0.0       0.0    700.0     7.0   \n2919            0.0        0.0          0.0       0.0      0.0    11.0   \n\n      YrSold  BedroomAbvGr  KitchenAbvGr  \nId                                        \n1     2008.0           3.0           1.0  \n2     2007.0           3.0           1.0  \n3     2008.0           3.0           1.0  \n4     2006.0           3.0           1.0  \n5     2008.0           4.0           1.0  \n...      ...           ...           ...  \n2915  2006.0           3.0           1.0  \n2916  2006.0           3.0           1.0  \n2917  2006.0           4.0           1.0  \n2918  2006.0           3.0           1.0  \n2919  2006.0           3.0           1.0  \n\n[2919 rows x 35 columns]",
      "text/html": "<div>\n<style scoped>\n    .dataframe tbody tr th:only-of-type {\n        vertical-align: middle;\n    }\n\n    .dataframe tbody tr th {\n        vertical-align: top;\n    }\n\n    .dataframe thead th {\n        text-align: right;\n    }\n</style>\n<table border=\"1\" class=\"dataframe\">\n  <thead>\n    <tr style=\"text-align: right;\">\n      <th></th>\n      <th>LotFrontage</th>\n      <th>LotArea</th>\n      <th>OverallQual</th>\n      <th>OverallCond</th>\n      <th>YearBuilt</th>\n      <th>YearRemodAdd</th>\n      <th>MasVnrArea</th>\n      <th>BsmtFinSF1</th>\n      <th>BsmtFinSF2</th>\n      <th>BsmtUnfSF</th>\n      <th>...</th>\n      <th>OpenPorchSF</th>\n      <th>EnclosedPorch</th>\n      <th>3SsnPorch</th>\n      <th>ScreenPorch</th>\n      <th>PoolArea</th>\n      <th>MiscVal</th>\n      <th>MoSold</th>\n      <th>YrSold</th>\n      <th>BedroomAbvGr</th>\n      <th>KitchenAbvGr</th>\n    </tr>\n    <tr>\n      <th>Id</th>\n      <th></th>\n      <th></th>\n      <th></th>\n      <th></th>\n      <th></th>\n      <th></th>\n      <th></th>\n      <th></th>\n      <th></th>\n      <th></th>\n      <th></th>\n      <th></th>\n      <th></th>\n      <th></th>\n      <th></th>\n      <th></th>\n      <th></th>\n      <th></th>\n      <th></th>\n      <th></th>\n      <th></th>\n    </tr>\n  </thead>\n  <tbody>\n    <tr>\n      <th>1</th>\n      <td>65.0</td>\n      <td>8450.0</td>\n      <td>7.0</td>\n      <td>5.0</td>\n      <td>2003.0</td>\n      <td>2003.0</td>\n      <td>196.0</td>\n      <td>706.0</td>\n      <td>0.0</td>\n      <td>150.0</td>\n      <td>...</td>\n      <td>61.0</td>\n      <td>0.0</td>\n      <td>0.0</td>\n      <td>0.0</td>\n      <td>0.0</td>\n      <td>0.0</td>\n      <td>2.0</td>\n      <td>2008.0</td>\n      <td>3.0</td>\n      <td>1.0</td>\n    </tr>\n    <tr>\n      <th>2</th>\n      <td>80.0</td>\n      <td>9600.0</td>\n      <td>6.0</td>\n      <td>8.0</td>\n      <td>1976.0</td>\n      <td>1976.0</td>\n      <td>0.0</td>\n      <td>978.0</td>\n      <td>0.0</td>\n      <td>284.0</td>\n      <td>...</td>\n      <td>0.0</td>\n      <td>0.0</td>\n      <td>0.0</td>\n      <td>0.0</td>\n      <td>0.0</td>\n      <td>0.0</td>\n      <td>5.0</td>\n      <td>2007.0</td>\n      <td>3.0</td>\n      <td>1.0</td>\n    </tr>\n    <tr>\n      <th>3</th>\n      <td>68.0</td>\n      <td>11250.0</td>\n      <td>7.0</td>\n      <td>5.0</td>\n      <td>2001.0</td>\n      <td>2002.0</td>\n      <td>162.0</td>\n      <td>486.0</td>\n      <td>0.0</td>\n      <td>434.0</td>\n      <td>...</td>\n      <td>42.0</td>\n      <td>0.0</td>\n      <td>0.0</td>\n      <td>0.0</td>\n      <td>0.0</td>\n      <td>0.0</td>\n      <td>9.0</td>\n      <td>2008.0</td>\n      <td>3.0</td>\n      <td>1.0</td>\n    </tr>\n    <tr>\n      <th>4</th>\n      <td>60.0</td>\n      <td>9550.0</td>\n      <td>7.0</td>\n      <td>5.0</td>\n      <td>1915.0</td>\n      <td>1970.0</td>\n      <td>0.0</td>\n      <td>216.0</td>\n      <td>0.0</td>\n      <td>540.0</td>\n      <td>...</td>\n      <td>35.0</td>\n      <td>272.0</td>\n      <td>0.0</td>\n      <td>0.0</td>\n      <td>0.0</td>\n      <td>0.0</td>\n      <td>2.0</td>\n      <td>2006.0</td>\n      <td>3.0</td>\n      <td>1.0</td>\n    </tr>\n    <tr>\n      <th>5</th>\n      <td>84.0</td>\n      <td>14260.0</td>\n      <td>8.0</td>\n      <td>5.0</td>\n      <td>2000.0</td>\n      <td>2000.0</td>\n      <td>350.0</td>\n      <td>655.0</td>\n      <td>0.0</td>\n      <td>490.0</td>\n      <td>...</td>\n      <td>84.0</td>\n      <td>0.0</td>\n      <td>0.0</td>\n      <td>0.0</td>\n      <td>0.0</td>\n      <td>0.0</td>\n      <td>12.0</td>\n      <td>2008.0</td>\n      <td>4.0</td>\n      <td>1.0</td>\n    </tr>\n    <tr>\n      <th>...</th>\n      <td>...</td>\n      <td>...</td>\n      <td>...</td>\n      <td>...</td>\n      <td>...</td>\n      <td>...</td>\n      <td>...</td>\n      <td>...</td>\n      <td>...</td>\n      <td>...</td>\n      <td>...</td>\n      <td>...</td>\n      <td>...</td>\n      <td>...</td>\n      <td>...</td>\n      <td>...</td>\n      <td>...</td>\n      <td>...</td>\n      <td>...</td>\n      <td>...</td>\n      <td>...</td>\n    </tr>\n    <tr>\n      <th>2915</th>\n      <td>21.0</td>\n      <td>1936.0</td>\n      <td>4.0</td>\n      <td>7.0</td>\n      <td>1970.0</td>\n      <td>1970.0</td>\n      <td>0.0</td>\n      <td>0.0</td>\n      <td>0.0</td>\n      <td>546.0</td>\n      <td>...</td>\n      <td>0.0</td>\n      <td>0.0</td>\n      <td>0.0</td>\n      <td>0.0</td>\n      <td>0.0</td>\n      <td>0.0</td>\n      <td>6.0</td>\n      <td>2006.0</td>\n      <td>3.0</td>\n      <td>1.0</td>\n    </tr>\n    <tr>\n      <th>2916</th>\n      <td>21.0</td>\n      <td>1894.0</td>\n      <td>4.0</td>\n      <td>5.0</td>\n      <td>1970.0</td>\n      <td>1970.0</td>\n      <td>0.0</td>\n      <td>252.0</td>\n      <td>0.0</td>\n      <td>294.0</td>\n      <td>...</td>\n      <td>24.0</td>\n      <td>0.0</td>\n      <td>0.0</td>\n      <td>0.0</td>\n      <td>0.0</td>\n      <td>0.0</td>\n      <td>4.0</td>\n      <td>2006.0</td>\n      <td>3.0</td>\n      <td>1.0</td>\n    </tr>\n    <tr>\n      <th>2917</th>\n      <td>160.0</td>\n      <td>20000.0</td>\n      <td>5.0</td>\n      <td>7.0</td>\n      <td>1960.0</td>\n      <td>1996.0</td>\n      <td>0.0</td>\n      <td>1224.0</td>\n      <td>0.0</td>\n      <td>0.0</td>\n      <td>...</td>\n      <td>0.0</td>\n      <td>0.0</td>\n      <td>0.0</td>\n      <td>0.0</td>\n      <td>0.0</td>\n      <td>0.0</td>\n      <td>9.0</td>\n      <td>2006.0</td>\n      <td>4.0</td>\n      <td>1.0</td>\n    </tr>\n    <tr>\n      <th>2918</th>\n      <td>62.0</td>\n      <td>10441.0</td>\n      <td>5.0</td>\n      <td>5.0</td>\n      <td>1992.0</td>\n      <td>1992.0</td>\n      <td>0.0</td>\n      <td>337.0</td>\n      <td>0.0</td>\n      <td>575.0</td>\n      <td>...</td>\n      <td>32.0</td>\n      <td>0.0</td>\n      <td>0.0</td>\n      <td>0.0</td>\n      <td>0.0</td>\n      <td>700.0</td>\n      <td>7.0</td>\n      <td>2006.0</td>\n      <td>3.0</td>\n      <td>1.0</td>\n    </tr>\n    <tr>\n      <th>2919</th>\n      <td>74.0</td>\n      <td>9627.0</td>\n      <td>7.0</td>\n      <td>5.0</td>\n      <td>1993.0</td>\n      <td>1994.0</td>\n      <td>94.0</td>\n      <td>758.0</td>\n      <td>0.0</td>\n      <td>238.0</td>\n      <td>...</td>\n      <td>48.0</td>\n      <td>0.0</td>\n      <td>0.0</td>\n      <td>0.0</td>\n      <td>0.0</td>\n      <td>0.0</td>\n      <td>11.0</td>\n      <td>2006.0</td>\n      <td>3.0</td>\n      <td>1.0</td>\n    </tr>\n  </tbody>\n</table>\n<p>2919 rows × 35 columns</p>\n</div>"
     },
     "execution_count": 35,
     "metadata": {},
     "output_type": "execute_result"
    }
   ],
   "source": [
    "from sklearn.impute import SimpleImputer\n",
    "\n",
    "num_imp = SimpleImputer(strategy='mean')\n",
    "X_num = pd.DataFrame(data=num_imp.fit_transform(X_num), columns=X_num.columns, index=X_num.index)\n",
    "X_num"
   ],
   "metadata": {
    "collapsed": false,
    "pycharm": {
     "name": "#%%\n"
    }
   }
  },
  {
   "cell_type": "code",
   "execution_count": 52,
   "outputs": [],
   "source": [
    "# 定序变量的处理\n",
    "X_order = X[ordering_col.keys()]\n",
    "\n"
   ],
   "metadata": {
    "collapsed": false,
    "pycharm": {
     "name": "#%%\n"
    }
   }
  },
  {
   "cell_type": "code",
   "execution_count": 54,
   "outputs": [
    {
     "data": {
      "text/plain": "(['BsmtQual',\n  'BsmtCond',\n  'BsmtExposure',\n  'BsmtFinType1',\n  'BsmtFinType2',\n  'FireplaceQu',\n  'GarageFinish',\n  'GarageQual',\n  'GarageCond',\n  'PoolQC',\n  'Fence'],\n ['LotShape',\n  'LandContour',\n  'Utilities',\n  'LandSlope',\n  'ExterQual',\n  'ExterCond',\n  'HeatingQC',\n  'KitchenQual',\n  'Functional',\n  'PavedDrive'])"
     },
     "execution_count": 54,
     "metadata": {},
     "output_type": "execute_result"
    }
   ],
   "source": [
    "has_NA_col = []\n",
    "no_has_NA = []\n",
    "for key, rank in ordering_col.items():\n",
    "    if 'NA' in rank:\n",
    "        has_NA_col.append(key)\n",
    "    else:\n",
    "        no_has_NA.append(key)\n",
    "\n",
    "has_NA_col, no_has_NA"
   ],
   "metadata": {
    "collapsed": false,
    "pycharm": {
     "name": "#%%\n"
    }
   }
  },
  {
   "cell_type": "code",
   "execution_count": 55,
   "outputs": [],
   "source": [
    "X_order_NA = X_order[has_NA_col]\n",
    "X_order_noNA = X_order[no_has_NA]"
   ],
   "metadata": {
    "collapsed": false,
    "pycharm": {
     "name": "#%%\n"
    }
   }
  },
  {
   "cell_type": "code",
   "execution_count": 58,
   "outputs": [
    {
     "name": "stderr",
     "output_type": "stream",
     "text": [
      "d:\\project\\python\\.venv\\lib\\site-packages\\pandas\\core\\frame.py:5176: SettingWithCopyWarning: \n",
      "A value is trying to be set on a copy of a slice from a DataFrame\n",
      "\n",
      "See the caveats in the documentation: https://pandas.pydata.org/pandas-docs/stable/user_guide/indexing.html#returning-a-view-versus-a-copy\n",
      "  return super().fillna(\n"
     ]
    }
   ],
   "source": [
    "X_order_NA.fillna('NA', inplace=True)"
   ],
   "metadata": {
    "collapsed": false,
    "pycharm": {
     "name": "#%%\n"
    }
   }
  },
  {
   "cell_type": "code",
   "execution_count": 59,
   "outputs": [
    {
     "data": {
      "text/plain": "BsmtQual        0\nBsmtCond        0\nBsmtExposure    0\nBsmtFinType1    0\nBsmtFinType2    0\nFireplaceQu     0\nGarageFinish    0\nGarageQual      0\nGarageCond      0\nPoolQC          0\nFence           0\ndtype: int64"
     },
     "execution_count": 59,
     "metadata": {},
     "output_type": "execute_result"
    }
   ],
   "source": [
    "X_order_NA.isnull().sum()"
   ],
   "metadata": {
    "collapsed": false,
    "pycharm": {
     "name": "#%%\n"
    }
   }
  },
  {
   "cell_type": "code",
   "execution_count": 60,
   "outputs": [
    {
     "data": {
      "text/plain": "LotShape       0\nLandContour    0\nUtilities      0\nLandSlope      0\nExterQual      0\nExterCond      0\nHeatingQC      0\nKitchenQual    0\nFunctional     0\nPavedDrive     0\ndtype: int64"
     },
     "execution_count": 60,
     "metadata": {},
     "output_type": "execute_result"
    }
   ],
   "source": [
    "from sklearn.impute import SimpleImputer\n",
    "\n",
    "fre_imp = SimpleImputer(strategy='most_frequent')\n",
    "X_order_noNA = pd.DataFrame(data=fre_imp.fit_transform(X_order_noNA), columns=X_order_noNA.columns,\n",
    "                            index=X_order_noNA.index)\n",
    "X_order_noNA.isnull().sum()"
   ],
   "metadata": {
    "collapsed": false,
    "pycharm": {
     "name": "#%%\n"
    }
   }
  },
  {
   "cell_type": "code",
   "execution_count": 61,
   "outputs": [
    {
     "data": {
      "text/plain": "     LotShape LandContour Utilities LandSlope ExterQual ExterCond HeatingQC  \\\nId                                                                            \n1         Reg         Lvl    AllPub       Gtl        Gd        TA        Ex   \n2         Reg         Lvl    AllPub       Gtl        TA        TA        Ex   \n3         IR1         Lvl    AllPub       Gtl        Gd        TA        Ex   \n4         IR1         Lvl    AllPub       Gtl        TA        TA        Gd   \n5         IR1         Lvl    AllPub       Gtl        Gd        TA        Ex   \n...       ...         ...       ...       ...       ...       ...       ...   \n2915      Reg         Lvl    AllPub       Gtl        TA        TA        Gd   \n2916      Reg         Lvl    AllPub       Gtl        TA        TA        TA   \n2917      Reg         Lvl    AllPub       Gtl        TA        TA        Ex   \n2918      Reg         Lvl    AllPub       Gtl        TA        TA        TA   \n2919      Reg         Lvl    AllPub       Mod        TA        TA        Ex   \n\n     KitchenQual Functional PavedDrive  ... BsmtCond BsmtExposure  \\\nId                                      ...                         \n1             Gd        Typ          Y  ...       TA           No   \n2             TA        Typ          Y  ...       TA           Gd   \n3             Gd        Typ          Y  ...       TA           Mn   \n4             Gd        Typ          Y  ...       Gd           No   \n5             Gd        Typ          Y  ...       TA           Av   \n...          ...        ...        ...  ...      ...          ...   \n2915          TA        Typ          Y  ...       TA           No   \n2916          TA        Typ          Y  ...       TA           No   \n2917          TA        Typ          Y  ...       TA           No   \n2918          TA        Typ          Y  ...       TA           Av   \n2919          TA        Typ          Y  ...       TA           Av   \n\n     BsmtFinType1 BsmtFinType2 FireplaceQu GarageFinish GarageQual GarageCond  \\\nId                                                                              \n1             GLQ          Unf          NA          RFn         TA         TA   \n2             ALQ          Unf          TA          RFn         TA         TA   \n3             GLQ          Unf          TA          RFn         TA         TA   \n4             ALQ          Unf          Gd          Unf         TA         TA   \n5             GLQ          Unf          TA          RFn         TA         TA   \n...           ...          ...         ...          ...        ...        ...   \n2915          Unf          Unf          NA           NA         NA         NA   \n2916          Rec          Unf          NA          Unf         TA         TA   \n2917          ALQ          Unf          TA          Unf         TA         TA   \n2918          GLQ          Unf          NA           NA         NA         NA   \n2919          LwQ          Unf          TA          Fin         TA         TA   \n\n     PoolQC  Fence  \nId                  \n1        NA     NA  \n2        NA     NA  \n3        NA     NA  \n4        NA     NA  \n5        NA     NA  \n...     ...    ...  \n2915     NA     NA  \n2916     NA     NA  \n2917     NA     NA  \n2918     NA  MnPrv  \n2919     NA     NA  \n\n[2919 rows x 21 columns]",
      "text/html": "<div>\n<style scoped>\n    .dataframe tbody tr th:only-of-type {\n        vertical-align: middle;\n    }\n\n    .dataframe tbody tr th {\n        vertical-align: top;\n    }\n\n    .dataframe thead th {\n        text-align: right;\n    }\n</style>\n<table border=\"1\" class=\"dataframe\">\n  <thead>\n    <tr style=\"text-align: right;\">\n      <th></th>\n      <th>LotShape</th>\n      <th>LandContour</th>\n      <th>Utilities</th>\n      <th>LandSlope</th>\n      <th>ExterQual</th>\n      <th>ExterCond</th>\n      <th>HeatingQC</th>\n      <th>KitchenQual</th>\n      <th>Functional</th>\n      <th>PavedDrive</th>\n      <th>...</th>\n      <th>BsmtCond</th>\n      <th>BsmtExposure</th>\n      <th>BsmtFinType1</th>\n      <th>BsmtFinType2</th>\n      <th>FireplaceQu</th>\n      <th>GarageFinish</th>\n      <th>GarageQual</th>\n      <th>GarageCond</th>\n      <th>PoolQC</th>\n      <th>Fence</th>\n    </tr>\n    <tr>\n      <th>Id</th>\n      <th></th>\n      <th></th>\n      <th></th>\n      <th></th>\n      <th></th>\n      <th></th>\n      <th></th>\n      <th></th>\n      <th></th>\n      <th></th>\n      <th></th>\n      <th></th>\n      <th></th>\n      <th></th>\n      <th></th>\n      <th></th>\n      <th></th>\n      <th></th>\n      <th></th>\n      <th></th>\n      <th></th>\n    </tr>\n  </thead>\n  <tbody>\n    <tr>\n      <th>1</th>\n      <td>Reg</td>\n      <td>Lvl</td>\n      <td>AllPub</td>\n      <td>Gtl</td>\n      <td>Gd</td>\n      <td>TA</td>\n      <td>Ex</td>\n      <td>Gd</td>\n      <td>Typ</td>\n      <td>Y</td>\n      <td>...</td>\n      <td>TA</td>\n      <td>No</td>\n      <td>GLQ</td>\n      <td>Unf</td>\n      <td>NA</td>\n      <td>RFn</td>\n      <td>TA</td>\n      <td>TA</td>\n      <td>NA</td>\n      <td>NA</td>\n    </tr>\n    <tr>\n      <th>2</th>\n      <td>Reg</td>\n      <td>Lvl</td>\n      <td>AllPub</td>\n      <td>Gtl</td>\n      <td>TA</td>\n      <td>TA</td>\n      <td>Ex</td>\n      <td>TA</td>\n      <td>Typ</td>\n      <td>Y</td>\n      <td>...</td>\n      <td>TA</td>\n      <td>Gd</td>\n      <td>ALQ</td>\n      <td>Unf</td>\n      <td>TA</td>\n      <td>RFn</td>\n      <td>TA</td>\n      <td>TA</td>\n      <td>NA</td>\n      <td>NA</td>\n    </tr>\n    <tr>\n      <th>3</th>\n      <td>IR1</td>\n      <td>Lvl</td>\n      <td>AllPub</td>\n      <td>Gtl</td>\n      <td>Gd</td>\n      <td>TA</td>\n      <td>Ex</td>\n      <td>Gd</td>\n      <td>Typ</td>\n      <td>Y</td>\n      <td>...</td>\n      <td>TA</td>\n      <td>Mn</td>\n      <td>GLQ</td>\n      <td>Unf</td>\n      <td>TA</td>\n      <td>RFn</td>\n      <td>TA</td>\n      <td>TA</td>\n      <td>NA</td>\n      <td>NA</td>\n    </tr>\n    <tr>\n      <th>4</th>\n      <td>IR1</td>\n      <td>Lvl</td>\n      <td>AllPub</td>\n      <td>Gtl</td>\n      <td>TA</td>\n      <td>TA</td>\n      <td>Gd</td>\n      <td>Gd</td>\n      <td>Typ</td>\n      <td>Y</td>\n      <td>...</td>\n      <td>Gd</td>\n      <td>No</td>\n      <td>ALQ</td>\n      <td>Unf</td>\n      <td>Gd</td>\n      <td>Unf</td>\n      <td>TA</td>\n      <td>TA</td>\n      <td>NA</td>\n      <td>NA</td>\n    </tr>\n    <tr>\n      <th>5</th>\n      <td>IR1</td>\n      <td>Lvl</td>\n      <td>AllPub</td>\n      <td>Gtl</td>\n      <td>Gd</td>\n      <td>TA</td>\n      <td>Ex</td>\n      <td>Gd</td>\n      <td>Typ</td>\n      <td>Y</td>\n      <td>...</td>\n      <td>TA</td>\n      <td>Av</td>\n      <td>GLQ</td>\n      <td>Unf</td>\n      <td>TA</td>\n      <td>RFn</td>\n      <td>TA</td>\n      <td>TA</td>\n      <td>NA</td>\n      <td>NA</td>\n    </tr>\n    <tr>\n      <th>...</th>\n      <td>...</td>\n      <td>...</td>\n      <td>...</td>\n      <td>...</td>\n      <td>...</td>\n      <td>...</td>\n      <td>...</td>\n      <td>...</td>\n      <td>...</td>\n      <td>...</td>\n      <td>...</td>\n      <td>...</td>\n      <td>...</td>\n      <td>...</td>\n      <td>...</td>\n      <td>...</td>\n      <td>...</td>\n      <td>...</td>\n      <td>...</td>\n      <td>...</td>\n      <td>...</td>\n    </tr>\n    <tr>\n      <th>2915</th>\n      <td>Reg</td>\n      <td>Lvl</td>\n      <td>AllPub</td>\n      <td>Gtl</td>\n      <td>TA</td>\n      <td>TA</td>\n      <td>Gd</td>\n      <td>TA</td>\n      <td>Typ</td>\n      <td>Y</td>\n      <td>...</td>\n      <td>TA</td>\n      <td>No</td>\n      <td>Unf</td>\n      <td>Unf</td>\n      <td>NA</td>\n      <td>NA</td>\n      <td>NA</td>\n      <td>NA</td>\n      <td>NA</td>\n      <td>NA</td>\n    </tr>\n    <tr>\n      <th>2916</th>\n      <td>Reg</td>\n      <td>Lvl</td>\n      <td>AllPub</td>\n      <td>Gtl</td>\n      <td>TA</td>\n      <td>TA</td>\n      <td>TA</td>\n      <td>TA</td>\n      <td>Typ</td>\n      <td>Y</td>\n      <td>...</td>\n      <td>TA</td>\n      <td>No</td>\n      <td>Rec</td>\n      <td>Unf</td>\n      <td>NA</td>\n      <td>Unf</td>\n      <td>TA</td>\n      <td>TA</td>\n      <td>NA</td>\n      <td>NA</td>\n    </tr>\n    <tr>\n      <th>2917</th>\n      <td>Reg</td>\n      <td>Lvl</td>\n      <td>AllPub</td>\n      <td>Gtl</td>\n      <td>TA</td>\n      <td>TA</td>\n      <td>Ex</td>\n      <td>TA</td>\n      <td>Typ</td>\n      <td>Y</td>\n      <td>...</td>\n      <td>TA</td>\n      <td>No</td>\n      <td>ALQ</td>\n      <td>Unf</td>\n      <td>TA</td>\n      <td>Unf</td>\n      <td>TA</td>\n      <td>TA</td>\n      <td>NA</td>\n      <td>NA</td>\n    </tr>\n    <tr>\n      <th>2918</th>\n      <td>Reg</td>\n      <td>Lvl</td>\n      <td>AllPub</td>\n      <td>Gtl</td>\n      <td>TA</td>\n      <td>TA</td>\n      <td>TA</td>\n      <td>TA</td>\n      <td>Typ</td>\n      <td>Y</td>\n      <td>...</td>\n      <td>TA</td>\n      <td>Av</td>\n      <td>GLQ</td>\n      <td>Unf</td>\n      <td>NA</td>\n      <td>NA</td>\n      <td>NA</td>\n      <td>NA</td>\n      <td>NA</td>\n      <td>MnPrv</td>\n    </tr>\n    <tr>\n      <th>2919</th>\n      <td>Reg</td>\n      <td>Lvl</td>\n      <td>AllPub</td>\n      <td>Mod</td>\n      <td>TA</td>\n      <td>TA</td>\n      <td>Ex</td>\n      <td>TA</td>\n      <td>Typ</td>\n      <td>Y</td>\n      <td>...</td>\n      <td>TA</td>\n      <td>Av</td>\n      <td>LwQ</td>\n      <td>Unf</td>\n      <td>TA</td>\n      <td>Fin</td>\n      <td>TA</td>\n      <td>TA</td>\n      <td>NA</td>\n      <td>NA</td>\n    </tr>\n  </tbody>\n</table>\n<p>2919 rows × 21 columns</p>\n</div>"
     },
     "execution_count": 61,
     "metadata": {},
     "output_type": "execute_result"
    }
   ],
   "source": [
    "X_order = pd.concat([X_order_noNA, X_order_NA], axis=1)\n",
    "X_order"
   ],
   "metadata": {
    "collapsed": false,
    "pycharm": {
     "name": "#%%\n"
    }
   }
  },
  {
   "cell_type": "code",
   "execution_count": 62,
   "outputs": [
    {
     "data": {
      "text/plain": "      LotShape  LandContour  Utilities  LandSlope  ExterQual  ExterCond  \\\nId                                                                        \n1            3            3          3          2          3          2   \n2            3            3          3          2          2          2   \n3            2            3          3          2          3          2   \n4            2            3          3          2          2          2   \n5            2            3          3          2          3          2   \n...        ...          ...        ...        ...        ...        ...   \n2915         3            3          3          2          2          2   \n2916         3            3          3          2          2          2   \n2917         3            3          3          2          2          2   \n2918         3            3          3          2          2          2   \n2919         3            3          3          1          2          2   \n\n      HeatingQC  KitchenQual  Functional  PavedDrive  ...  BsmtCond  \\\nId                                                    ...             \n1             4            3           7           2  ...         3   \n2             4            2           7           2  ...         3   \n3             4            3           7           2  ...         3   \n4             3            3           7           2  ...         4   \n5             4            3           7           2  ...         3   \n...         ...          ...         ...         ...  ...       ...   \n2915          3            2           7           2  ...         3   \n2916          2            2           7           2  ...         3   \n2917          4            2           7           2  ...         3   \n2918          2            2           7           2  ...         3   \n2919          4            2           7           2  ...         3   \n\n      BsmtExposure  BsmtFinType1  BsmtFinType2  FireplaceQu  GarageFinish  \\\nId                                                                          \n1                1             6             1            0             2   \n2                4             5             1            3             2   \n3                2             6             1            3             2   \n4                1             5             1            4             1   \n5                3             6             1            3             2   \n...            ...           ...           ...          ...           ...   \n2915             1             1             1            0             0   \n2916             1             3             1            0             1   \n2917             1             5             1            3             1   \n2918             3             6             1            0             0   \n2919             3             2             1            3             3   \n\n      GarageQual  GarageCond  PoolQC  Fence  \nId                                           \n1              3           3       0      0  \n2              3           3       0      0  \n3              3           3       0      0  \n4              3           3       0      0  \n5              3           3       0      0  \n...          ...         ...     ...    ...  \n2915           0           0       0      0  \n2916           3           3       0      0  \n2917           3           3       0      0  \n2918           0           0       0      3  \n2919           3           3       0      0  \n\n[2919 rows x 21 columns]",
      "text/html": "<div>\n<style scoped>\n    .dataframe tbody tr th:only-of-type {\n        vertical-align: middle;\n    }\n\n    .dataframe tbody tr th {\n        vertical-align: top;\n    }\n\n    .dataframe thead th {\n        text-align: right;\n    }\n</style>\n<table border=\"1\" class=\"dataframe\">\n  <thead>\n    <tr style=\"text-align: right;\">\n      <th></th>\n      <th>LotShape</th>\n      <th>LandContour</th>\n      <th>Utilities</th>\n      <th>LandSlope</th>\n      <th>ExterQual</th>\n      <th>ExterCond</th>\n      <th>HeatingQC</th>\n      <th>KitchenQual</th>\n      <th>Functional</th>\n      <th>PavedDrive</th>\n      <th>...</th>\n      <th>BsmtCond</th>\n      <th>BsmtExposure</th>\n      <th>BsmtFinType1</th>\n      <th>BsmtFinType2</th>\n      <th>FireplaceQu</th>\n      <th>GarageFinish</th>\n      <th>GarageQual</th>\n      <th>GarageCond</th>\n      <th>PoolQC</th>\n      <th>Fence</th>\n    </tr>\n    <tr>\n      <th>Id</th>\n      <th></th>\n      <th></th>\n      <th></th>\n      <th></th>\n      <th></th>\n      <th></th>\n      <th></th>\n      <th></th>\n      <th></th>\n      <th></th>\n      <th></th>\n      <th></th>\n      <th></th>\n      <th></th>\n      <th></th>\n      <th></th>\n      <th></th>\n      <th></th>\n      <th></th>\n      <th></th>\n      <th></th>\n    </tr>\n  </thead>\n  <tbody>\n    <tr>\n      <th>1</th>\n      <td>3</td>\n      <td>3</td>\n      <td>3</td>\n      <td>2</td>\n      <td>3</td>\n      <td>2</td>\n      <td>4</td>\n      <td>3</td>\n      <td>7</td>\n      <td>2</td>\n      <td>...</td>\n      <td>3</td>\n      <td>1</td>\n      <td>6</td>\n      <td>1</td>\n      <td>0</td>\n      <td>2</td>\n      <td>3</td>\n      <td>3</td>\n      <td>0</td>\n      <td>0</td>\n    </tr>\n    <tr>\n      <th>2</th>\n      <td>3</td>\n      <td>3</td>\n      <td>3</td>\n      <td>2</td>\n      <td>2</td>\n      <td>2</td>\n      <td>4</td>\n      <td>2</td>\n      <td>7</td>\n      <td>2</td>\n      <td>...</td>\n      <td>3</td>\n      <td>4</td>\n      <td>5</td>\n      <td>1</td>\n      <td>3</td>\n      <td>2</td>\n      <td>3</td>\n      <td>3</td>\n      <td>0</td>\n      <td>0</td>\n    </tr>\n    <tr>\n      <th>3</th>\n      <td>2</td>\n      <td>3</td>\n      <td>3</td>\n      <td>2</td>\n      <td>3</td>\n      <td>2</td>\n      <td>4</td>\n      <td>3</td>\n      <td>7</td>\n      <td>2</td>\n      <td>...</td>\n      <td>3</td>\n      <td>2</td>\n      <td>6</td>\n      <td>1</td>\n      <td>3</td>\n      <td>2</td>\n      <td>3</td>\n      <td>3</td>\n      <td>0</td>\n      <td>0</td>\n    </tr>\n    <tr>\n      <th>4</th>\n      <td>2</td>\n      <td>3</td>\n      <td>3</td>\n      <td>2</td>\n      <td>2</td>\n      <td>2</td>\n      <td>3</td>\n      <td>3</td>\n      <td>7</td>\n      <td>2</td>\n      <td>...</td>\n      <td>4</td>\n      <td>1</td>\n      <td>5</td>\n      <td>1</td>\n      <td>4</td>\n      <td>1</td>\n      <td>3</td>\n      <td>3</td>\n      <td>0</td>\n      <td>0</td>\n    </tr>\n    <tr>\n      <th>5</th>\n      <td>2</td>\n      <td>3</td>\n      <td>3</td>\n      <td>2</td>\n      <td>3</td>\n      <td>2</td>\n      <td>4</td>\n      <td>3</td>\n      <td>7</td>\n      <td>2</td>\n      <td>...</td>\n      <td>3</td>\n      <td>3</td>\n      <td>6</td>\n      <td>1</td>\n      <td>3</td>\n      <td>2</td>\n      <td>3</td>\n      <td>3</td>\n      <td>0</td>\n      <td>0</td>\n    </tr>\n    <tr>\n      <th>...</th>\n      <td>...</td>\n      <td>...</td>\n      <td>...</td>\n      <td>...</td>\n      <td>...</td>\n      <td>...</td>\n      <td>...</td>\n      <td>...</td>\n      <td>...</td>\n      <td>...</td>\n      <td>...</td>\n      <td>...</td>\n      <td>...</td>\n      <td>...</td>\n      <td>...</td>\n      <td>...</td>\n      <td>...</td>\n      <td>...</td>\n      <td>...</td>\n      <td>...</td>\n      <td>...</td>\n    </tr>\n    <tr>\n      <th>2915</th>\n      <td>3</td>\n      <td>3</td>\n      <td>3</td>\n      <td>2</td>\n      <td>2</td>\n      <td>2</td>\n      <td>3</td>\n      <td>2</td>\n      <td>7</td>\n      <td>2</td>\n      <td>...</td>\n      <td>3</td>\n      <td>1</td>\n      <td>1</td>\n      <td>1</td>\n      <td>0</td>\n      <td>0</td>\n      <td>0</td>\n      <td>0</td>\n      <td>0</td>\n      <td>0</td>\n    </tr>\n    <tr>\n      <th>2916</th>\n      <td>3</td>\n      <td>3</td>\n      <td>3</td>\n      <td>2</td>\n      <td>2</td>\n      <td>2</td>\n      <td>2</td>\n      <td>2</td>\n      <td>7</td>\n      <td>2</td>\n      <td>...</td>\n      <td>3</td>\n      <td>1</td>\n      <td>3</td>\n      <td>1</td>\n      <td>0</td>\n      <td>1</td>\n      <td>3</td>\n      <td>3</td>\n      <td>0</td>\n      <td>0</td>\n    </tr>\n    <tr>\n      <th>2917</th>\n      <td>3</td>\n      <td>3</td>\n      <td>3</td>\n      <td>2</td>\n      <td>2</td>\n      <td>2</td>\n      <td>4</td>\n      <td>2</td>\n      <td>7</td>\n      <td>2</td>\n      <td>...</td>\n      <td>3</td>\n      <td>1</td>\n      <td>5</td>\n      <td>1</td>\n      <td>3</td>\n      <td>1</td>\n      <td>3</td>\n      <td>3</td>\n      <td>0</td>\n      <td>0</td>\n    </tr>\n    <tr>\n      <th>2918</th>\n      <td>3</td>\n      <td>3</td>\n      <td>3</td>\n      <td>2</td>\n      <td>2</td>\n      <td>2</td>\n      <td>2</td>\n      <td>2</td>\n      <td>7</td>\n      <td>2</td>\n      <td>...</td>\n      <td>3</td>\n      <td>3</td>\n      <td>6</td>\n      <td>1</td>\n      <td>0</td>\n      <td>0</td>\n      <td>0</td>\n      <td>0</td>\n      <td>0</td>\n      <td>3</td>\n    </tr>\n    <tr>\n      <th>2919</th>\n      <td>3</td>\n      <td>3</td>\n      <td>3</td>\n      <td>1</td>\n      <td>2</td>\n      <td>2</td>\n      <td>4</td>\n      <td>2</td>\n      <td>7</td>\n      <td>2</td>\n      <td>...</td>\n      <td>3</td>\n      <td>3</td>\n      <td>2</td>\n      <td>1</td>\n      <td>3</td>\n      <td>3</td>\n      <td>3</td>\n      <td>3</td>\n      <td>0</td>\n      <td>0</td>\n    </tr>\n  </tbody>\n</table>\n<p>2919 rows × 21 columns</p>\n</div>"
     },
     "execution_count": 62,
     "metadata": {},
     "output_type": "execute_result"
    }
   ],
   "source": [
    "for key, rank in ordering_col.items():\n",
    "    X_order[key] = X_order[key].map(lambda x: rank.index(x))\n",
    "\n",
    "X_order"
   ],
   "metadata": {
    "collapsed": false,
    "pycharm": {
     "name": "#%%\n"
    }
   }
  },
  {
   "cell_type": "code",
   "execution_count": 63,
   "outputs": [
    {
     "data": {
      "text/plain": "      LotFrontage  LotArea  OverallQual  OverallCond  YearBuilt  YearRemodAdd  \\\nId                                                                              \n1            65.0   8450.0          7.0          5.0     2003.0        2003.0   \n2            80.0   9600.0          6.0          8.0     1976.0        1976.0   \n3            68.0  11250.0          7.0          5.0     2001.0        2002.0   \n4            60.0   9550.0          7.0          5.0     1915.0        1970.0   \n5            84.0  14260.0          8.0          5.0     2000.0        2000.0   \n...           ...      ...          ...          ...        ...           ...   \n2915         21.0   1936.0          4.0          7.0     1970.0        1970.0   \n2916         21.0   1894.0          4.0          5.0     1970.0        1970.0   \n2917        160.0  20000.0          5.0          7.0     1960.0        1996.0   \n2918         62.0  10441.0          5.0          5.0     1992.0        1992.0   \n2919         74.0   9627.0          7.0          5.0     1993.0        1994.0   \n\n      MasVnrArea  BsmtFinSF1  BsmtFinSF2  BsmtUnfSF  ...  BsmtCond  \\\nId                                                   ...             \n1          196.0       706.0         0.0      150.0  ...         3   \n2            0.0       978.0         0.0      284.0  ...         3   \n3          162.0       486.0         0.0      434.0  ...         3   \n4            0.0       216.0         0.0      540.0  ...         4   \n5          350.0       655.0         0.0      490.0  ...         3   \n...          ...         ...         ...        ...  ...       ...   \n2915         0.0         0.0         0.0      546.0  ...         3   \n2916         0.0       252.0         0.0      294.0  ...         3   \n2917         0.0      1224.0         0.0        0.0  ...         3   \n2918         0.0       337.0         0.0      575.0  ...         3   \n2919        94.0       758.0         0.0      238.0  ...         3   \n\n      BsmtExposure  BsmtFinType1  BsmtFinType2  FireplaceQu  GarageFinish  \\\nId                                                                          \n1                1             6             1            0             2   \n2                4             5             1            3             2   \n3                2             6             1            3             2   \n4                1             5             1            4             1   \n5                3             6             1            3             2   \n...            ...           ...           ...          ...           ...   \n2915             1             1             1            0             0   \n2916             1             3             1            0             1   \n2917             1             5             1            3             1   \n2918             3             6             1            0             0   \n2919             3             2             1            3             3   \n\n      GarageQual  GarageCond  PoolQC  Fence  \nId                                           \n1              3           3       0      0  \n2              3           3       0      0  \n3              3           3       0      0  \n4              3           3       0      0  \n5              3           3       0      0  \n...          ...         ...     ...    ...  \n2915           0           0       0      0  \n2916           3           3       0      0  \n2917           3           3       0      0  \n2918           0           0       0      3  \n2919           3           3       0      0  \n\n[2919 rows x 241 columns]",
      "text/html": "<div>\n<style scoped>\n    .dataframe tbody tr th:only-of-type {\n        vertical-align: middle;\n    }\n\n    .dataframe tbody tr th {\n        vertical-align: top;\n    }\n\n    .dataframe thead th {\n        text-align: right;\n    }\n</style>\n<table border=\"1\" class=\"dataframe\">\n  <thead>\n    <tr style=\"text-align: right;\">\n      <th></th>\n      <th>LotFrontage</th>\n      <th>LotArea</th>\n      <th>OverallQual</th>\n      <th>OverallCond</th>\n      <th>YearBuilt</th>\n      <th>YearRemodAdd</th>\n      <th>MasVnrArea</th>\n      <th>BsmtFinSF1</th>\n      <th>BsmtFinSF2</th>\n      <th>BsmtUnfSF</th>\n      <th>...</th>\n      <th>BsmtCond</th>\n      <th>BsmtExposure</th>\n      <th>BsmtFinType1</th>\n      <th>BsmtFinType2</th>\n      <th>FireplaceQu</th>\n      <th>GarageFinish</th>\n      <th>GarageQual</th>\n      <th>GarageCond</th>\n      <th>PoolQC</th>\n      <th>Fence</th>\n    </tr>\n    <tr>\n      <th>Id</th>\n      <th></th>\n      <th></th>\n      <th></th>\n      <th></th>\n      <th></th>\n      <th></th>\n      <th></th>\n      <th></th>\n      <th></th>\n      <th></th>\n      <th></th>\n      <th></th>\n      <th></th>\n      <th></th>\n      <th></th>\n      <th></th>\n      <th></th>\n      <th></th>\n      <th></th>\n      <th></th>\n      <th></th>\n    </tr>\n  </thead>\n  <tbody>\n    <tr>\n      <th>1</th>\n      <td>65.0</td>\n      <td>8450.0</td>\n      <td>7.0</td>\n      <td>5.0</td>\n      <td>2003.0</td>\n      <td>2003.0</td>\n      <td>196.0</td>\n      <td>706.0</td>\n      <td>0.0</td>\n      <td>150.0</td>\n      <td>...</td>\n      <td>3</td>\n      <td>1</td>\n      <td>6</td>\n      <td>1</td>\n      <td>0</td>\n      <td>2</td>\n      <td>3</td>\n      <td>3</td>\n      <td>0</td>\n      <td>0</td>\n    </tr>\n    <tr>\n      <th>2</th>\n      <td>80.0</td>\n      <td>9600.0</td>\n      <td>6.0</td>\n      <td>8.0</td>\n      <td>1976.0</td>\n      <td>1976.0</td>\n      <td>0.0</td>\n      <td>978.0</td>\n      <td>0.0</td>\n      <td>284.0</td>\n      <td>...</td>\n      <td>3</td>\n      <td>4</td>\n      <td>5</td>\n      <td>1</td>\n      <td>3</td>\n      <td>2</td>\n      <td>3</td>\n      <td>3</td>\n      <td>0</td>\n      <td>0</td>\n    </tr>\n    <tr>\n      <th>3</th>\n      <td>68.0</td>\n      <td>11250.0</td>\n      <td>7.0</td>\n      <td>5.0</td>\n      <td>2001.0</td>\n      <td>2002.0</td>\n      <td>162.0</td>\n      <td>486.0</td>\n      <td>0.0</td>\n      <td>434.0</td>\n      <td>...</td>\n      <td>3</td>\n      <td>2</td>\n      <td>6</td>\n      <td>1</td>\n      <td>3</td>\n      <td>2</td>\n      <td>3</td>\n      <td>3</td>\n      <td>0</td>\n      <td>0</td>\n    </tr>\n    <tr>\n      <th>4</th>\n      <td>60.0</td>\n      <td>9550.0</td>\n      <td>7.0</td>\n      <td>5.0</td>\n      <td>1915.0</td>\n      <td>1970.0</td>\n      <td>0.0</td>\n      <td>216.0</td>\n      <td>0.0</td>\n      <td>540.0</td>\n      <td>...</td>\n      <td>4</td>\n      <td>1</td>\n      <td>5</td>\n      <td>1</td>\n      <td>4</td>\n      <td>1</td>\n      <td>3</td>\n      <td>3</td>\n      <td>0</td>\n      <td>0</td>\n    </tr>\n    <tr>\n      <th>5</th>\n      <td>84.0</td>\n      <td>14260.0</td>\n      <td>8.0</td>\n      <td>5.0</td>\n      <td>2000.0</td>\n      <td>2000.0</td>\n      <td>350.0</td>\n      <td>655.0</td>\n      <td>0.0</td>\n      <td>490.0</td>\n      <td>...</td>\n      <td>3</td>\n      <td>3</td>\n      <td>6</td>\n      <td>1</td>\n      <td>3</td>\n      <td>2</td>\n      <td>3</td>\n      <td>3</td>\n      <td>0</td>\n      <td>0</td>\n    </tr>\n    <tr>\n      <th>...</th>\n      <td>...</td>\n      <td>...</td>\n      <td>...</td>\n      <td>...</td>\n      <td>...</td>\n      <td>...</td>\n      <td>...</td>\n      <td>...</td>\n      <td>...</td>\n      <td>...</td>\n      <td>...</td>\n      <td>...</td>\n      <td>...</td>\n      <td>...</td>\n      <td>...</td>\n      <td>...</td>\n      <td>...</td>\n      <td>...</td>\n      <td>...</td>\n      <td>...</td>\n      <td>...</td>\n    </tr>\n    <tr>\n      <th>2915</th>\n      <td>21.0</td>\n      <td>1936.0</td>\n      <td>4.0</td>\n      <td>7.0</td>\n      <td>1970.0</td>\n      <td>1970.0</td>\n      <td>0.0</td>\n      <td>0.0</td>\n      <td>0.0</td>\n      <td>546.0</td>\n      <td>...</td>\n      <td>3</td>\n      <td>1</td>\n      <td>1</td>\n      <td>1</td>\n      <td>0</td>\n      <td>0</td>\n      <td>0</td>\n      <td>0</td>\n      <td>0</td>\n      <td>0</td>\n    </tr>\n    <tr>\n      <th>2916</th>\n      <td>21.0</td>\n      <td>1894.0</td>\n      <td>4.0</td>\n      <td>5.0</td>\n      <td>1970.0</td>\n      <td>1970.0</td>\n      <td>0.0</td>\n      <td>252.0</td>\n      <td>0.0</td>\n      <td>294.0</td>\n      <td>...</td>\n      <td>3</td>\n      <td>1</td>\n      <td>3</td>\n      <td>1</td>\n      <td>0</td>\n      <td>1</td>\n      <td>3</td>\n      <td>3</td>\n      <td>0</td>\n      <td>0</td>\n    </tr>\n    <tr>\n      <th>2917</th>\n      <td>160.0</td>\n      <td>20000.0</td>\n      <td>5.0</td>\n      <td>7.0</td>\n      <td>1960.0</td>\n      <td>1996.0</td>\n      <td>0.0</td>\n      <td>1224.0</td>\n      <td>0.0</td>\n      <td>0.0</td>\n      <td>...</td>\n      <td>3</td>\n      <td>1</td>\n      <td>5</td>\n      <td>1</td>\n      <td>3</td>\n      <td>1</td>\n      <td>3</td>\n      <td>3</td>\n      <td>0</td>\n      <td>0</td>\n    </tr>\n    <tr>\n      <th>2918</th>\n      <td>62.0</td>\n      <td>10441.0</td>\n      <td>5.0</td>\n      <td>5.0</td>\n      <td>1992.0</td>\n      <td>1992.0</td>\n      <td>0.0</td>\n      <td>337.0</td>\n      <td>0.0</td>\n      <td>575.0</td>\n      <td>...</td>\n      <td>3</td>\n      <td>3</td>\n      <td>6</td>\n      <td>1</td>\n      <td>0</td>\n      <td>0</td>\n      <td>0</td>\n      <td>0</td>\n      <td>0</td>\n      <td>3</td>\n    </tr>\n    <tr>\n      <th>2919</th>\n      <td>74.0</td>\n      <td>9627.0</td>\n      <td>7.0</td>\n      <td>5.0</td>\n      <td>1993.0</td>\n      <td>1994.0</td>\n      <td>94.0</td>\n      <td>758.0</td>\n      <td>0.0</td>\n      <td>238.0</td>\n      <td>...</td>\n      <td>3</td>\n      <td>3</td>\n      <td>2</td>\n      <td>1</td>\n      <td>3</td>\n      <td>3</td>\n      <td>3</td>\n      <td>3</td>\n      <td>0</td>\n      <td>0</td>\n    </tr>\n  </tbody>\n</table>\n<p>2919 rows × 241 columns</p>\n</div>"
     },
     "execution_count": 63,
     "metadata": {},
     "output_type": "execute_result"
    }
   ],
   "source": [
    "X = pd.concat([X_num, X_class, X_order], axis=1)\n",
    "X"
   ],
   "metadata": {
    "collapsed": false,
    "pycharm": {
     "name": "#%%\n"
    }
   }
  },
  {
   "cell_type": "code",
   "execution_count": 71,
   "outputs": [
    {
     "data": {
      "text/plain": "             SalePrice\nLotFrontage   0.334820\nLotArea       0.263843\nOverallQual   0.790982\nOverallCond  -0.077856\nYearBuilt     0.522897\n...                ...\nGarageQual    0.273839\nGarageCond    0.263191\nPoolQC        0.115484\nFence        -0.146942\nSalePrice     1.000000\n\n[242 rows x 1 columns]",
      "text/html": "<div>\n<style scoped>\n    .dataframe tbody tr th:only-of-type {\n        vertical-align: middle;\n    }\n\n    .dataframe tbody tr th {\n        vertical-align: top;\n    }\n\n    .dataframe thead th {\n        text-align: right;\n    }\n</style>\n<table border=\"1\" class=\"dataframe\">\n  <thead>\n    <tr style=\"text-align: right;\">\n      <th></th>\n      <th>SalePrice</th>\n    </tr>\n  </thead>\n  <tbody>\n    <tr>\n      <th>LotFrontage</th>\n      <td>0.334820</td>\n    </tr>\n    <tr>\n      <th>LotArea</th>\n      <td>0.263843</td>\n    </tr>\n    <tr>\n      <th>OverallQual</th>\n      <td>0.790982</td>\n    </tr>\n    <tr>\n      <th>OverallCond</th>\n      <td>-0.077856</td>\n    </tr>\n    <tr>\n      <th>YearBuilt</th>\n      <td>0.522897</td>\n    </tr>\n    <tr>\n      <th>...</th>\n      <td>...</td>\n    </tr>\n    <tr>\n      <th>GarageQual</th>\n      <td>0.273839</td>\n    </tr>\n    <tr>\n      <th>GarageCond</th>\n      <td>0.263191</td>\n    </tr>\n    <tr>\n      <th>PoolQC</th>\n      <td>0.115484</td>\n    </tr>\n    <tr>\n      <th>Fence</th>\n      <td>-0.146942</td>\n    </tr>\n    <tr>\n      <th>SalePrice</th>\n      <td>1.000000</td>\n    </tr>\n  </tbody>\n</table>\n<p>242 rows × 1 columns</p>\n</div>"
     },
     "execution_count": 71,
     "metadata": {},
     "output_type": "execute_result"
    },
    {
     "data": {
      "text/plain": "<Figure size 720x720 with 0 Axes>"
     },
     "metadata": {},
     "output_type": "display_data"
    }
   ],
   "source": [
    "X_y = pd.concat([X, y], axis=1)\n",
    "plt.figure(figsize=(10, 10))\n",
    "X_y.corr()[['SalePrice']]"
   ],
   "metadata": {
    "collapsed": false,
    "pycharm": {
     "name": "#%%\n"
    }
   }
  },
  {
   "cell_type": "code",
   "execution_count": 72,
   "outputs": [],
   "source": [
    "torch.save([X, y], 'data/house_price.pkl')"
   ],
   "metadata": {
    "collapsed": false,
    "pycharm": {
     "name": "#%%\n"
    }
   }
  }
 ],
 "metadata": {
  "kernelspec": {
   "display_name": "Python 3",
   "language": "python",
   "name": "python3"
  },
  "language_info": {
   "codemirror_mode": {
    "name": "ipython",
    "version": 2
   },
   "file_extension": ".py",
   "mimetype": "text/x-python",
   "name": "python",
   "nbconvert_exporter": "python",
   "pygments_lexer": "ipython2",
   "version": "2.7.6"
  }
 },
 "nbformat": 4,
 "nbformat_minor": 0
}